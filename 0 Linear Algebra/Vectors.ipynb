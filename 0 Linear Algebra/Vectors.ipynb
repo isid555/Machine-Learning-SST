{
 "cells": [
  {
   "cell_type": "code",
   "id": "initial_id",
   "metadata": {
    "collapsed": true,
    "ExecuteTime": {
     "end_time": "2024-12-16T13:35:52.241740Z",
     "start_time": "2024-12-16T13:35:51.667638Z"
    }
   },
   "source": "import numpy as np",
   "outputs": [],
   "execution_count": 1
  },
  {
   "metadata": {
    "ExecuteTime": {
     "end_time": "2024-12-16T13:35:52.248369Z",
     "start_time": "2024-12-16T13:35:52.243885Z"
    }
   },
   "cell_type": "code",
   "source": [
    "vectors = [\n",
    "    [1, 0, 0, 0],\n",
    "    [0, 1, 0, 0],\n",
    "    [0, 0, 1, 0],\n",
    "    [0, 0, 0, 1]\n",
    "]\n"
   ],
   "id": "5d90a696ca7ed679",
   "outputs": [],
   "execution_count": 2
  },
  {
   "metadata": {
    "ExecuteTime": {
     "end_time": "2024-12-16T14:01:05.726805Z",
     "start_time": "2024-12-16T14:01:05.722867Z"
    }
   },
   "cell_type": "code",
   "source": [
    " \n",
    "\n",
    "def check_vector_space_and_independence(vectors):\n",
    "    # Convert the list of vectors to a numpy array and transpose it\n",
    "    vectors = np.array(vectors).T\n",
    "    \n",
    "    print(vectors)\n",
    "\n",
    "    # Calculate the determinant of the matrix formed by the vectors\n",
    "    det = np.linalg.det(vectors)\n",
    "\n",
    "    # Calculate the rank of the matrix formed by the vectors\n",
    "    rank = np.linalg.matrix_rank(vectors)\n",
    "\n",
    "    # Check if the vectors form a vector space and if they are linearly dependent or independent\n",
    "    if det == 0:\n",
    "        print(\"Doesn’t form a vector space and are also linearly dependent\")\n",
    "    elif rank < vectors.shape[0]:  # rank is compared to the number of vectors (rows)\n",
    "        print(\"Forms a vector space and are linearly dependent\")\n",
    "    else:\n",
    "        print(\"Forms a vector space and are also linearly independent\")\n"
   ],
   "id": "55ebf110ea337981",
   "outputs": [],
   "execution_count": 12
  },
  {
   "metadata": {
    "ExecuteTime": {
     "end_time": "2024-12-16T14:01:07.461397Z",
     "start_time": "2024-12-16T14:01:07.456957Z"
    }
   },
   "cell_type": "code",
   "source": "check_vector_space_and_independence(vectors)",
   "id": "aabf6789b079c37",
   "outputs": [
    {
     "name": "stdout",
     "output_type": "stream",
     "text": [
      "[[1 0 0 0]\n",
      " [0 1 0 0]\n",
      " [0 0 1 0]\n",
      " [0 0 0 1]]\n",
      "Forms a vector space and are also linearly independent\n"
     ]
    }
   ],
   "execution_count": 13
  },
  {
   "metadata": {},
   "cell_type": "code",
   "outputs": [],
   "execution_count": null,
   "source": "",
   "id": "766b8a00937e4dfd"
  }
 ],
 "metadata": {
  "kernelspec": {
   "display_name": "Python 3",
   "language": "python",
   "name": "python3"
  },
  "language_info": {
   "codemirror_mode": {
    "name": "ipython",
    "version": 2
   },
   "file_extension": ".py",
   "mimetype": "text/x-python",
   "name": "python",
   "nbconvert_exporter": "python",
   "pygments_lexer": "ipython2",
   "version": "2.7.6"
  }
 },
 "nbformat": 4,
 "nbformat_minor": 5
}
