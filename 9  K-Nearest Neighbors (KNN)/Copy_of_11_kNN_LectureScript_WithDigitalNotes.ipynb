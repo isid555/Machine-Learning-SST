{
  "cells": [
    {
      "cell_type": "markdown",
      "metadata": {
        "id": "BZB3bmBJ_i-l"
      },
      "source": [
        "## Content\n",
        "\n",
        "### kNN\n",
        "\n",
        "- Blinkit Problem Statement\n",
        " - Issue with Logistic Regression\n",
        "\n",
        "- Geometric Intuition\n",
        " - [Class determination](https://www.scaler.com/hire/test/problem/16260/)\n",
        " - [k Nearest Neighbors](https://www.scaler.com/hire/test/problem/15900/)\n",
        "\n",
        "\n",
        "- The KNN Algorithm\n",
        " - [Selecting K](https://www.scaler.com/hire/test/problem/15860/)\n",
        "\n",
        "- kNN Scratch Code\n",
        " - [KNN Implementation](https://www.scaler.com/hire/test/problem/25235/)\n",
        "\n",
        "- Assumption of KNN\n",
        "\n",
        "- Sklearn's KNN implementation\n",
        "- Bias-Variance Trade Off in KNN\n",
        " - [Bias-variance in KNN](https://www.scaler.com/hire/test/problem/30105/)\n",
        " - [KNN Bias Variance](https://www.scaler.com/hire/test/problem/15898/)\n",
        " - [KNN properties](https://www.scaler.com/hire/test/problem/16455/)\n",
        " - [Find Optimal K](https://www.scaler.com/hire/test/problem/25269/)\n",
        " - [Nuts and Bolts of KNN](https://www.scaler.com/hire/test/problem/20423/)\n",
        " - [House price prediction](https://www.scaler.com/hire/test/problem/15903/)\n",
        "\n",
        "-  Train and Test Time-Complexity\n",
        " - [KNN Time Complexity](https://www.scaler.com/hire/test/problem/15857/)\n",
        "\n",
        "\n",
        "- kNN for categorical\n",
        " - Issue with Euclidean\n",
        " - Mahattan Distance\n",
        " - Minkowski Distance\n",
        " - Cosine Similarity\n",
        " - [Distance metrics in KNN](https://www.scaler.com/hire/test/problem/16456/)\n",
        " - [Manhattan Distance](https://www.scaler.com/hire/test/problem/16082/)\n",
        " - [Calculate Distance](https://www.scaler.com/hire/test/problem/24768/)\n",
        " - [KNN Distance](https://www.scaler.com/hire/test/problem/20530/)\n",
        "\n",
        "\n",
        "\n",
        "-  LSH\n",
        "\n",
        "\n",
        "-  kNN based imputation\n",
        " - [Correct statements](https://www.scaler.com/hire/test/problem/15899/)\n",
        " - [Scaling in k-NN](https://www.scaler.com/hire/test/problem/16457/)\n",
        " - [More about KNN](https://www.scaler.com/hire/test/problem/20527/)\n",
        "\n"
      ]
    },
    {
      "cell_type": "markdown",
      "source": [
        "# **Business Case**\n",
        "\n",
        "**Blinkit** is trying to find an **optimal number of delivery partners per store** for faster delivery"
      ],
      "metadata": {
        "id": "XB_V0AKlo_Mg"
      }
    },
    {
      "cell_type": "markdown",
      "source": [
        "<img src=https://d2beiqkhq929f0.cloudfront.net/public_assets/assets/000/040/471/original/Screenshot_2023-07-23_at_7.43.57_PM.png?1690130758 width=700>"
      ],
      "metadata": {
        "id": "rH91tqn3o_sy"
      }
    },
    {
      "cell_type": "markdown",
      "metadata": {
        "id": "UciGuoX4_0Np"
      },
      "source": [
        "\n",
        "\n",
        "- Hence it has classified its store into 3 classes based on\n",
        " - how much products are delivered from a store\n",
        "\n",
        "1. Class1 : High Traffic (Needs a high number of delivery partners)\n",
        "2. Class2 : Moderate Traffic (Needs a decent number of delivery partners)\n",
        "3. Class3 : Low Traffic (Needs a very small number of delivery partners)\n"
      ]
    },
    {
      "cell_type": "code",
      "execution_count": null,
      "metadata": {
        "id": "yIoPQQuAhhTN"
      },
      "outputs": [],
      "source": [
        "import pandas as pd\n",
        "import numpy as np"
      ]
    },
    {
      "cell_type": "code",
      "execution_count": null,
      "metadata": {
        "colab": {
          "base_uri": "https://localhost:8080/"
        },
        "id": "9sGjAYmChntZ",
        "outputId": "f6ae8cd7-e5ff-411e-e92a-a6f3ec9b50b9"
      },
      "outputs": [
        {
          "output_type": "stream",
          "name": "stdout",
          "text": [
            "Downloading...\n",
            "From: https://drive.google.com/uc?id=1ZdhRqYv-JizWV6DxO6C4R_k1kxPhmlF2\n",
            "To: /content/multiclass.csv\n",
            "\r  0% 0.00/14.6k [00:00<?, ?B/s]\r100% 14.6k/14.6k [00:00<00:00, 27.0MB/s]\n"
          ]
        }
      ],
      "source": [
        "!gdown 1ZdhRqYv-JizWV6DxO6C4R_k1kxPhmlF2\n"
      ]
    },
    {
      "cell_type": "code",
      "execution_count": null,
      "metadata": {
        "colab": {
          "base_uri": "https://localhost:8080/"
        },
        "id": "QfHPIiHqiGJm",
        "outputId": "f995c4f0-8407-4683-870b-44e031eef245"
      },
      "outputs": [
        {
          "output_type": "execute_result",
          "data": {
            "text/plain": [
              "   Region  Fresh  Milk  Grocery  Frozen  Detergents_Paper  Delicassen  class\n",
              "0       3  12669  9656     7561     214              2674        1338      2\n",
              "1       3   7057  9810     9568    1762              3293        1776      2\n",
              "2       3   6353  8808     7684    2405              3516        7844      2\n",
              "3       3  13265  1196     4221    6404               507        1788      1\n",
              "4       3  22615  5410     7198    3915              1777        5185      1"
            ],
            "text/html": [
              "\n",
              "  <div id=\"df-12387f91-2ef6-4eb1-949c-7b939741fe25\" class=\"colab-df-container\">\n",
              "    <div>\n",
              "<style scoped>\n",
              "    .dataframe tbody tr th:only-of-type {\n",
              "        vertical-align: middle;\n",
              "    }\n",
              "\n",
              "    .dataframe tbody tr th {\n",
              "        vertical-align: top;\n",
              "    }\n",
              "\n",
              "    .dataframe thead th {\n",
              "        text-align: right;\n",
              "    }\n",
              "</style>\n",
              "<table border=\"1\" class=\"dataframe\">\n",
              "  <thead>\n",
              "    <tr style=\"text-align: right;\">\n",
              "      <th></th>\n",
              "      <th>Region</th>\n",
              "      <th>Fresh</th>\n",
              "      <th>Milk</th>\n",
              "      <th>Grocery</th>\n",
              "      <th>Frozen</th>\n",
              "      <th>Detergents_Paper</th>\n",
              "      <th>Delicassen</th>\n",
              "      <th>class</th>\n",
              "    </tr>\n",
              "  </thead>\n",
              "  <tbody>\n",
              "    <tr>\n",
              "      <th>0</th>\n",
              "      <td>3</td>\n",
              "      <td>12669</td>\n",
              "      <td>9656</td>\n",
              "      <td>7561</td>\n",
              "      <td>214</td>\n",
              "      <td>2674</td>\n",
              "      <td>1338</td>\n",
              "      <td>2</td>\n",
              "    </tr>\n",
              "    <tr>\n",
              "      <th>1</th>\n",
              "      <td>3</td>\n",
              "      <td>7057</td>\n",
              "      <td>9810</td>\n",
              "      <td>9568</td>\n",
              "      <td>1762</td>\n",
              "      <td>3293</td>\n",
              "      <td>1776</td>\n",
              "      <td>2</td>\n",
              "    </tr>\n",
              "    <tr>\n",
              "      <th>2</th>\n",
              "      <td>3</td>\n",
              "      <td>6353</td>\n",
              "      <td>8808</td>\n",
              "      <td>7684</td>\n",
              "      <td>2405</td>\n",
              "      <td>3516</td>\n",
              "      <td>7844</td>\n",
              "      <td>2</td>\n",
              "    </tr>\n",
              "    <tr>\n",
              "      <th>3</th>\n",
              "      <td>3</td>\n",
              "      <td>13265</td>\n",
              "      <td>1196</td>\n",
              "      <td>4221</td>\n",
              "      <td>6404</td>\n",
              "      <td>507</td>\n",
              "      <td>1788</td>\n",
              "      <td>1</td>\n",
              "    </tr>\n",
              "    <tr>\n",
              "      <th>4</th>\n",
              "      <td>3</td>\n",
              "      <td>22615</td>\n",
              "      <td>5410</td>\n",
              "      <td>7198</td>\n",
              "      <td>3915</td>\n",
              "      <td>1777</td>\n",
              "      <td>5185</td>\n",
              "      <td>1</td>\n",
              "    </tr>\n",
              "  </tbody>\n",
              "</table>\n",
              "</div>\n",
              "    <div class=\"colab-df-buttons\">\n",
              "\n",
              "  <div class=\"colab-df-container\">\n",
              "    <button class=\"colab-df-convert\" onclick=\"convertToInteractive('df-12387f91-2ef6-4eb1-949c-7b939741fe25')\"\n",
              "            title=\"Convert this dataframe to an interactive table.\"\n",
              "            style=\"display:none;\">\n",
              "\n",
              "  <svg xmlns=\"http://www.w3.org/2000/svg\" height=\"24px\" viewBox=\"0 -960 960 960\">\n",
              "    <path d=\"M120-120v-720h720v720H120Zm60-500h600v-160H180v160Zm220 220h160v-160H400v160Zm0 220h160v-160H400v160ZM180-400h160v-160H180v160Zm440 0h160v-160H620v160ZM180-180h160v-160H180v160Zm440 0h160v-160H620v160Z\"/>\n",
              "  </svg>\n",
              "    </button>\n",
              "\n",
              "  <style>\n",
              "    .colab-df-container {\n",
              "      display:flex;\n",
              "      gap: 12px;\n",
              "    }\n",
              "\n",
              "    .colab-df-convert {\n",
              "      background-color: #E8F0FE;\n",
              "      border: none;\n",
              "      border-radius: 50%;\n",
              "      cursor: pointer;\n",
              "      display: none;\n",
              "      fill: #1967D2;\n",
              "      height: 32px;\n",
              "      padding: 0 0 0 0;\n",
              "      width: 32px;\n",
              "    }\n",
              "\n",
              "    .colab-df-convert:hover {\n",
              "      background-color: #E2EBFA;\n",
              "      box-shadow: 0px 1px 2px rgba(60, 64, 67, 0.3), 0px 1px 3px 1px rgba(60, 64, 67, 0.15);\n",
              "      fill: #174EA6;\n",
              "    }\n",
              "\n",
              "    .colab-df-buttons div {\n",
              "      margin-bottom: 4px;\n",
              "    }\n",
              "\n",
              "    [theme=dark] .colab-df-convert {\n",
              "      background-color: #3B4455;\n",
              "      fill: #D2E3FC;\n",
              "    }\n",
              "\n",
              "    [theme=dark] .colab-df-convert:hover {\n",
              "      background-color: #434B5C;\n",
              "      box-shadow: 0px 1px 3px 1px rgba(0, 0, 0, 0.15);\n",
              "      filter: drop-shadow(0px 1px 2px rgba(0, 0, 0, 0.3));\n",
              "      fill: #FFFFFF;\n",
              "    }\n",
              "  </style>\n",
              "\n",
              "    <script>\n",
              "      const buttonEl =\n",
              "        document.querySelector('#df-12387f91-2ef6-4eb1-949c-7b939741fe25 button.colab-df-convert');\n",
              "      buttonEl.style.display =\n",
              "        google.colab.kernel.accessAllowed ? 'block' : 'none';\n",
              "\n",
              "      async function convertToInteractive(key) {\n",
              "        const element = document.querySelector('#df-12387f91-2ef6-4eb1-949c-7b939741fe25');\n",
              "        const dataTable =\n",
              "          await google.colab.kernel.invokeFunction('convertToInteractive',\n",
              "                                                    [key], {});\n",
              "        if (!dataTable) return;\n",
              "\n",
              "        const docLinkHtml = 'Like what you see? Visit the ' +\n",
              "          '<a target=\"_blank\" href=https://colab.research.google.com/notebooks/data_table.ipynb>data table notebook</a>'\n",
              "          + ' to learn more about interactive tables.';\n",
              "        element.innerHTML = '';\n",
              "        dataTable['output_type'] = 'display_data';\n",
              "        await google.colab.output.renderOutput(dataTable, element);\n",
              "        const docLink = document.createElement('div');\n",
              "        docLink.innerHTML = docLinkHtml;\n",
              "        element.appendChild(docLink);\n",
              "      }\n",
              "    </script>\n",
              "  </div>\n",
              "\n",
              "\n",
              "<div id=\"df-eedfd826-615b-43e6-99f1-ed76c624ef96\">\n",
              "  <button class=\"colab-df-quickchart\" onclick=\"quickchart('df-eedfd826-615b-43e6-99f1-ed76c624ef96')\"\n",
              "            title=\"Suggest charts\"\n",
              "            style=\"display:none;\">\n",
              "\n",
              "<svg xmlns=\"http://www.w3.org/2000/svg\" height=\"24px\"viewBox=\"0 0 24 24\"\n",
              "     width=\"24px\">\n",
              "    <g>\n",
              "        <path d=\"M19 3H5c-1.1 0-2 .9-2 2v14c0 1.1.9 2 2 2h14c1.1 0 2-.9 2-2V5c0-1.1-.9-2-2-2zM9 17H7v-7h2v7zm4 0h-2V7h2v10zm4 0h-2v-4h2v4z\"/>\n",
              "    </g>\n",
              "</svg>\n",
              "  </button>\n",
              "\n",
              "<style>\n",
              "  .colab-df-quickchart {\n",
              "      --bg-color: #E8F0FE;\n",
              "      --fill-color: #1967D2;\n",
              "      --hover-bg-color: #E2EBFA;\n",
              "      --hover-fill-color: #174EA6;\n",
              "      --disabled-fill-color: #AAA;\n",
              "      --disabled-bg-color: #DDD;\n",
              "  }\n",
              "\n",
              "  [theme=dark] .colab-df-quickchart {\n",
              "      --bg-color: #3B4455;\n",
              "      --fill-color: #D2E3FC;\n",
              "      --hover-bg-color: #434B5C;\n",
              "      --hover-fill-color: #FFFFFF;\n",
              "      --disabled-bg-color: #3B4455;\n",
              "      --disabled-fill-color: #666;\n",
              "  }\n",
              "\n",
              "  .colab-df-quickchart {\n",
              "    background-color: var(--bg-color);\n",
              "    border: none;\n",
              "    border-radius: 50%;\n",
              "    cursor: pointer;\n",
              "    display: none;\n",
              "    fill: var(--fill-color);\n",
              "    height: 32px;\n",
              "    padding: 0;\n",
              "    width: 32px;\n",
              "  }\n",
              "\n",
              "  .colab-df-quickchart:hover {\n",
              "    background-color: var(--hover-bg-color);\n",
              "    box-shadow: 0 1px 2px rgba(60, 64, 67, 0.3), 0 1px 3px 1px rgba(60, 64, 67, 0.15);\n",
              "    fill: var(--button-hover-fill-color);\n",
              "  }\n",
              "\n",
              "  .colab-df-quickchart-complete:disabled,\n",
              "  .colab-df-quickchart-complete:disabled:hover {\n",
              "    background-color: var(--disabled-bg-color);\n",
              "    fill: var(--disabled-fill-color);\n",
              "    box-shadow: none;\n",
              "  }\n",
              "\n",
              "  .colab-df-spinner {\n",
              "    border: 2px solid var(--fill-color);\n",
              "    border-color: transparent;\n",
              "    border-bottom-color: var(--fill-color);\n",
              "    animation:\n",
              "      spin 1s steps(1) infinite;\n",
              "  }\n",
              "\n",
              "  @keyframes spin {\n",
              "    0% {\n",
              "      border-color: transparent;\n",
              "      border-bottom-color: var(--fill-color);\n",
              "      border-left-color: var(--fill-color);\n",
              "    }\n",
              "    20% {\n",
              "      border-color: transparent;\n",
              "      border-left-color: var(--fill-color);\n",
              "      border-top-color: var(--fill-color);\n",
              "    }\n",
              "    30% {\n",
              "      border-color: transparent;\n",
              "      border-left-color: var(--fill-color);\n",
              "      border-top-color: var(--fill-color);\n",
              "      border-right-color: var(--fill-color);\n",
              "    }\n",
              "    40% {\n",
              "      border-color: transparent;\n",
              "      border-right-color: var(--fill-color);\n",
              "      border-top-color: var(--fill-color);\n",
              "    }\n",
              "    60% {\n",
              "      border-color: transparent;\n",
              "      border-right-color: var(--fill-color);\n",
              "    }\n",
              "    80% {\n",
              "      border-color: transparent;\n",
              "      border-right-color: var(--fill-color);\n",
              "      border-bottom-color: var(--fill-color);\n",
              "    }\n",
              "    90% {\n",
              "      border-color: transparent;\n",
              "      border-bottom-color: var(--fill-color);\n",
              "    }\n",
              "  }\n",
              "</style>\n",
              "\n",
              "  <script>\n",
              "    async function quickchart(key) {\n",
              "      const quickchartButtonEl =\n",
              "        document.querySelector('#' + key + ' button');\n",
              "      quickchartButtonEl.disabled = true;  // To prevent multiple clicks.\n",
              "      quickchartButtonEl.classList.add('colab-df-spinner');\n",
              "      try {\n",
              "        const charts = await google.colab.kernel.invokeFunction(\n",
              "            'suggestCharts', [key], {});\n",
              "      } catch (error) {\n",
              "        console.error('Error during call to suggestCharts:', error);\n",
              "      }\n",
              "      quickchartButtonEl.classList.remove('colab-df-spinner');\n",
              "      quickchartButtonEl.classList.add('colab-df-quickchart-complete');\n",
              "    }\n",
              "    (() => {\n",
              "      let quickchartButtonEl =\n",
              "        document.querySelector('#df-eedfd826-615b-43e6-99f1-ed76c624ef96 button');\n",
              "      quickchartButtonEl.style.display =\n",
              "        google.colab.kernel.accessAllowed ? 'block' : 'none';\n",
              "    })();\n",
              "  </script>\n",
              "</div>\n",
              "\n",
              "    </div>\n",
              "  </div>\n"
            ],
            "application/vnd.google.colaboratory.intrinsic+json": {
              "type": "dataframe",
              "variable_name": "df",
              "summary": "{\n  \"name\": \"df\",\n  \"rows\": 440,\n  \"fields\": [\n    {\n      \"column\": \"Region\",\n      \"properties\": {\n        \"dtype\": \"number\",\n        \"std\": 0,\n        \"min\": 1,\n        \"max\": 3,\n        \"num_unique_values\": 3,\n        \"samples\": [\n          3,\n          1,\n          2\n        ],\n        \"semantic_type\": \"\",\n        \"description\": \"\"\n      }\n    },\n    {\n      \"column\": \"Fresh\",\n      \"properties\": {\n        \"dtype\": \"number\",\n        \"std\": 12647,\n        \"min\": 3,\n        \"max\": 112151,\n        \"num_unique_values\": 433,\n        \"samples\": [\n          21117,\n          20398,\n          112151\n        ],\n        \"semantic_type\": \"\",\n        \"description\": \"\"\n      }\n    },\n    {\n      \"column\": \"Milk\",\n      \"properties\": {\n        \"dtype\": \"number\",\n        \"std\": 7380,\n        \"min\": 55,\n        \"max\": 73498,\n        \"num_unique_values\": 421,\n        \"samples\": [\n          8384,\n          7184,\n          7845\n        ],\n        \"semantic_type\": \"\",\n        \"description\": \"\"\n      }\n    },\n    {\n      \"column\": \"Grocery\",\n      \"properties\": {\n        \"dtype\": \"number\",\n        \"std\": 9503,\n        \"min\": 3,\n        \"max\": 92780,\n        \"num_unique_values\": 430,\n        \"samples\": [\n          5160,\n          3,\n          4945\n        ],\n        \"semantic_type\": \"\",\n        \"description\": \"\"\n      }\n    },\n    {\n      \"column\": \"Frozen\",\n      \"properties\": {\n        \"dtype\": \"number\",\n        \"std\": 4854,\n        \"min\": 25,\n        \"max\": 60869,\n        \"num_unique_values\": 426,\n        \"samples\": [\n          269,\n          7530,\n          1152\n        ],\n        \"semantic_type\": \"\",\n        \"description\": \"\"\n      }\n    },\n    {\n      \"column\": \"Detergents_Paper\",\n      \"properties\": {\n        \"dtype\": \"number\",\n        \"std\": 4767,\n        \"min\": 3,\n        \"max\": 40827,\n        \"num_unique_values\": 417,\n        \"samples\": [\n          302,\n          6740,\n          1328\n        ],\n        \"semantic_type\": \"\",\n        \"description\": \"\"\n      }\n    },\n    {\n      \"column\": \"Delicassen\",\n      \"properties\": {\n        \"dtype\": \"number\",\n        \"std\": 2820,\n        \"min\": 3,\n        \"max\": 47943,\n        \"num_unique_values\": 403,\n        \"samples\": [\n          14472,\n          172,\n          59\n        ],\n        \"semantic_type\": \"\",\n        \"description\": \"\"\n      }\n    },\n    {\n      \"column\": \"class\",\n      \"properties\": {\n        \"dtype\": \"number\",\n        \"std\": 0,\n        \"min\": 1,\n        \"max\": 3,\n        \"num_unique_values\": 3,\n        \"samples\": [\n          2,\n          1,\n          3\n        ],\n        \"semantic_type\": \"\",\n        \"description\": \"\"\n      }\n    }\n  ]\n}"
            }
          },
          "metadata": {},
          "execution_count": 3
        }
      ],
      "source": [
        "df=pd.read_csv('multiclass.csv')\n",
        "df.head()"
      ]
    },
    {
      "cell_type": "markdown",
      "metadata": {
        "id": "n1UTJWAnncrf"
      },
      "source": [
        "**Data Description**\n",
        "\n",
        "|feature|Description|\n",
        "|-|-|\n",
        "|**Region**|where the store is located (1: Tier-1 city, 2: Tier-2 city, 3:Tier-3 city)|\n",
        "|**Fresh**|Fresh food products delivery count |\n",
        "|**Milk**|milk products delivery count|\n",
        "|**Grocery**|Grocery products delivery count|\n",
        "|**Frozen**|Frozen food products delivery count|\n",
        "|**Detergents_Paper**|washing products delivery count|\n",
        "|**Delicassen**|imported products, cooked meat delivery count|\n",
        "|**class**|Store catgeory (Class1, Class2, Class3)|\n",
        "\n",
        "\n",
        "\n"
      ]
    },
    {
      "cell_type": "markdown",
      "metadata": {
        "id": "EthkTIBmnV7t"
      },
      "source": [
        "Now lets see the count of sample each of the three classes"
      ]
    },
    {
      "cell_type": "code",
      "execution_count": null,
      "metadata": {
        "colab": {
          "base_uri": "https://localhost:8080/",
          "height": 472
        },
        "id": "dHxktIWSjfwW",
        "outputId": "aa72e249-386b-4cad-e1a8-a1e492edab1a"
      },
      "outputs": [
        {
          "output_type": "display_data",
          "data": {
            "text/plain": [
              "<Figure size 640x480 with 1 Axes>"
            ],
            "image/png": "[encoded data removed]"
          },
          "metadata": {}
        }
      ],
      "source": [
        "import seaborn as sns\n",
        "import matplotlib.pyplot as plt\n",
        "\n",
        "sns.histplot(data=df, x=\"class\")\n",
        "plt.title('Data Distribution')\n",
        "plt.show()"
      ]
    },
    {
      "cell_type": "markdown",
      "source": [
        "**quiz**"
      ],
      "metadata": {
        "id": "wROveZSqLhCj"
      }
    },
    {
      "cell_type": "markdown",
      "source": [
        "<img src = \"data:image/png;base64,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\"  width=\"500\">"
      ],
      "metadata": {
        "id": "N7iIcXAVLO9J"
      }
    },
    {
      "cell_type": "markdown",
      "source": [
        "```\n",
        "What can be said about the data ?\n",
        "\n",
        "a) Multi-class balanced data\n",
        "b) Multi-class imbalanced data\n",
        "c) Binary-class imbalanced data\n",
        "d) Binary-class balanced data\n",
        "\n",
        "```\n",
        "**correct Answer**\n",
        "\n",
        "b) Multi-class imbalanced data"
      ],
      "metadata": {
        "id": "gdRQGae-Lj9G"
      }
    },
    {
      "cell_type": "markdown",
      "metadata": {
        "id": "vrPy-YtZnzVQ"
      },
      "source": [
        "Lets now define our X and y for the model and visualize the data"
      ]
    },
    {
      "cell_type": "code",
      "execution_count": null,
      "metadata": {
        "id": "_0axlyLem5pP"
      },
      "outputs": [],
      "source": [
        "X=df[['Region',\t'Fresh',\t'Milk',\t'Grocery',\t'Frozen',\t'Detergents_Paper',\t'Delicassen'\t]].copy()\n",
        "y=df[['class']].copy()"
      ]
    },
    {
      "cell_type": "code",
      "source": [
        "from sklearn.decomposition import PCA\n",
        "import matplotlib.pyplot as plt\n",
        "\n",
        "\n",
        "def scatter_visualize(visualize1,visualize2,y_label):\n",
        "  scatter = plt.scatter(visualize[:,0] ,visualize[:,1],c = y.values[:,0] )\n",
        "  plt.legend(handles=scatter.legend_elements()[0], labels=['Class1','Class2','Class3'])\n",
        "  plt.show()"
      ],
      "metadata": {
        "id": "_3m92IK2I6_3"
      },
      "execution_count": null,
      "outputs": []
    },
    {
      "cell_type": "code",
      "source": [
        "# reducing features to just 2 features for visualization purpose\n",
        "pca = PCA(n_components=2)\n",
        "visualize = pca.fit_transform(X)\n",
        "\n",
        "\n",
        "scatter_visualize(visualize[:,0] ,visualize[:,1],y.values[:,0])\n",
        "\n"
      ],
      "metadata": {
        "colab": {
          "base_uri": "https://localhost:8080/"
        },
        "id": "bVypM_efDsW-",
        "outputId": "85d502f1-1e0a-4190-c192-63b447984a78"
      },
      "execution_count": null,
      "outputs": [
        {
          "output_type": "display_data",
          "data": {
            "text/plain": [
              "<Figure size 640x480 with 1 Axes>"
            ],
            "image/png": "[encoded data removed]"
          },
          "metadata": {}
        }
      ]
    },
    {
      "cell_type": "markdown",
      "source": [
        "**observe**\n",
        "\n",
        "Data is not only **multi classed imbalanced** data\n",
        "- It is also **Non-Linear in nature**\n",
        "\n"
      ],
      "metadata": {
        "id": "QNtr_ncRL-pn"
      }
    },
    {
      "cell_type": "markdown",
      "source": [
        "**quiz** (what do you think)\n",
        "\n",
        "```\n",
        "How will Logistic Regression handle non-linear,multi-class data ?\n",
        "\n",
        "A) Polynomial, OneVsRest\n",
        "B) Linear, OneVsRest\n",
        "C) OneVsRest, Polynomial\n",
        "D) OneVsRest, Linear\n",
        "\n",
        "\n",
        "```\n",
        "**Correct Answer**\n",
        "A) Polynomial, OneVsRest"
      ],
      "metadata": {
        "id": "goc1oX6rMOKt"
      }
    },
    {
      "cell_type": "markdown",
      "source": [
        "#### Imagine if data ($n \\approx 1 million $), will Polynomial Logistic Regression model be the right model ?\n",
        "\n",
        "Ans: No, Clearly it will require **a lot of hyperparameter tuning**:\n",
        "- for finding the **correct polynomial features for Logistic Regression**\n"
      ],
      "metadata": {
        "id": "LwmdG2fmpeii"
      }
    },
    {
      "cell_type": "markdown",
      "source": [
        "<img src=https://d2beiqkhq929f0.cloudfront.net/public_assets/assets/000/040/473/original/Screenshot_2023-07-23_at_7.44.08_PM.png?1690130923 width=700>"
      ],
      "metadata": {
        "id": "Nsaq8k49pyn-"
      }
    },
    {
      "cell_type": "markdown",
      "source": [
        "\n",
        "This process will be time consuming, hence not the ideal approach\n",
        "\n",
        "<br>\n",
        "\n",
        "#### If store categories changes from 3 to 50, will OVR be the ideal approach ?\n",
        "\n",
        "Ans: No, since for a  **50 class data, 50 different Logistic Regression model** will be required:\n",
        "-  This process will be both **Expensive and time consuming**\n",
        "\n",
        "<br>\n",
        "\n",
        "Hence **Polynomial OVR Logistic Regression model not the ideal approach**"
      ],
      "metadata": {
        "id": "hvvERVTLOrHA"
      }
    },
    {
      "cell_type": "markdown",
      "metadata": {
        "id": "JmM3oFDnO1Xx"
      },
      "source": [
        "# **Geometric Intuition of kNN**"
      ]
    },
    {
      "cell_type": "markdown",
      "source": [
        "#### What model can be used for this Non-linear Multi-Class data ?"
      ],
      "metadata": {
        "id": "_h55BnOOSSL5"
      }
    },
    {
      "cell_type": "markdown",
      "source": [
        "<img src=https://d2beiqkhq929f0.cloudfront.net/public_assets/assets/000/040/472/original/Screenshot_2023-07-23_at_7.44.16_PM.png?1690130898 width=700>"
      ],
      "metadata": {
        "id": "grlZ-hwQpoIF"
      }
    },
    {
      "cell_type": "markdown",
      "source": [
        "Imagine if our training data looks like:\n",
        "\n",
        "1. Class 1 data $→ (+) $\n",
        "2. Class 2 data $→ (-) $\n",
        "3. Class 3 data $→ (o) $\n",
        "\n",
        "\n",
        "\n",
        "\n"
      ],
      "metadata": {
        "id": "vo0jN8KaR8-z"
      }
    },
    {
      "cell_type": "markdown",
      "source": [
        "\n",
        "#### If we have a test data sample,($x^{q1}$), what will be class label for it ?\n",
        "\n",
        "Ans: Clearly, $x^{q1}$ belongs to $(+)$ Class\n",
        "\n",
        "\n",
        "<br>\n",
        "\n",
        "#### What will be the class label for ($x^{q2}$) ?\n",
        "Ans: $x^{q2}$ belongs to $(-)$ Class\n"
      ],
      "metadata": {
        "id": "ilmGezyY5dIe"
      }
    },
    {
      "cell_type": "markdown",
      "source": [
        "#### How are we sure that $(x^{q1})$ belongs to $(+)$ and $(x^{q2})$ belongs to $(-)$ class ?"
      ],
      "metadata": {
        "id": "j0TFdfuR6CTO"
      }
    },
    {
      "cell_type": "markdown",
      "source": [
        "\n",
        "\n",
        "Ans: Simply by:\n",
        "- **Observing the neighboring points** of $(x^{q1})$ and noticing as most points belong to $(+)$ Class,\n",
        " - hence $(x^{q1})$ → $(+)$\n",
        "\n",
        "- Similarly for $(x^{q2})$,  **most of the neighboring points → (-) class**\n",
        " - hence $(x^{q2})$ → $(-)$\n",
        "\n",
        "\n",
        "<br>\n",
        "\n",
        "\n",
        "kNN (k Nearest Neighbour) algorithm works on the same intuition:\n",
        "- Defining **class of the test datapoint based** on the **classes of the neighbourhood** of that datapoint\n"
      ],
      "metadata": {
        "id": "w1m63ItlUEzo"
      }
    },
    {
      "cell_type": "markdown",
      "source": [
        "# **Understanding kNN**"
      ],
      "metadata": {
        "id": "cVco3FomQkgS"
      }
    },
    {
      "cell_type": "markdown",
      "source": [
        "#### How does kNN work with neighborhood of datapoint ?\n",
        "\n",
        "Ans: Lets understand kNN with an example, Suppose **we have a test datapoint ($x^q = [2,5]$) and we have 6 training data such that**:\n",
        "\n",
        "||f1|f2|y|\n",
        "|:--|:--|:--|:--|\n",
        "|$x^{(1)}$|3|6|1\n",
        "|$x^{(2)}$|6|4|1\n",
        "|$x^{(3)}$|8|2|3\n",
        "|$x^{(4)}$|7|5|3\n",
        "|$x^{(5)}$|1|4|2\n",
        "|$x^{(6)}$|2|2|2\n"
      ],
      "metadata": {
        "id": "E71BJF6Q6U_X"
      }
    },
    {
      "cell_type": "markdown",
      "source": [
        "<img src=https://d2beiqkhq929f0.cloudfront.net/public_assets/assets/000/040/474/original/Screenshot_2023-07-23_at_7.44.29_PM.png?1690130963 width=700>"
      ],
      "metadata": {
        "id": "4RwzsFIYqAda"
      }
    },
    {
      "cell_type": "markdown",
      "source": [
        "1. **Step1:** We find the  **Euclidean distance between $x_q = [2,5]$ and all the training data.**\n",
        "\n",
        "\n",
        "||f1|f2|y|$d^{(i)} = \\sqrt{(x^q_{f1}-x^{(i)}_{f1})^2 + (x^q_{f2}-x^{(i)}_{f2})^2}$|\n",
        "|:--|:--|:--|:--|:--|\n",
        "|$x^{(1)}$|3|6|1|$\\sqrt{(1^2 + 1^2)} = 1.41$|\n",
        "|$x^{(2)}$|6|4|1|$\\sqrt{(4^2 + 1^2)} = 3.00$|\n",
        "|$x^{(3)}$|8|2|3|$\\sqrt{(6^2 + 3^2)} = 6.48$|\n",
        "|$x^{(4)}$|7|5|3|$\\sqrt{(5^2 + 0^2)} = 5.00$|\n",
        "|$x^{(5)}$|1|4|2|$\\sqrt{(1^2 + 1^2)} = 1.41$|\n",
        "|$x^{(6)}$|2|2|2|$\\sqrt{(0^2 + 2^2)} = 2.00$|\n",
        "\n",
        "\n",
        "\n",
        "  "
      ],
      "metadata": {
        "id": "qM1Gp-C0pnZQ"
      }
    },
    {
      "cell_type": "markdown",
      "source": [
        "<img src=https://d2beiqkhq929f0.cloudfront.net/public_assets/assets/000/040/475/original/Screenshot_2023-07-23_at_7.44.37_PM.png?1690130998 width=700>"
      ],
      "metadata": {
        "id": "2HdzmtSTqEVV"
      }
    },
    {
      "cell_type": "markdown",
      "source": [
        "2. **Step2:** We sort the data based on the distances:\n",
        "\n",
        "||f1|f2|y|$d^{(i)}$|\n",
        "|:--|:--|:--|:--|:--|\n",
        "|$x^{(1)}$|3|6|1|$1.41$|\n",
        "|$x^{(5)}$|1|4|2|$1.41$|\n",
        "|$x^{(6)}$|2|2|2|$2.00$|\n",
        "|$x^{(2)}$|6|4|1|$3.00$|\n",
        "|$x^{(4)}$|7|5|3|$5.00$|\n",
        "|$x^{(3)}$|8|2|3|$6.48$|\n",
        "\n",
        "<br>\n"
      ],
      "metadata": {
        "id": "7XLT6Gg-xWKS"
      }
    },
    {
      "cell_type": "markdown",
      "source": [
        "<img src=https://d2beiqkhq929f0.cloudfront.net/public_assets/assets/000/040/476/original/Screenshot_2023-07-23_at_7.44.47_PM.png?1690131021 width=700>"
      ],
      "metadata": {
        "id": "UcalssxJqJ5T"
      }
    },
    {
      "cell_type": "markdown",
      "source": [
        "\n",
        "3. **Step 3:** Assume we pick the 3 datapoints such that:\n",
        "-  The distance from $x_q$ is minimum\n",
        "\n",
        "||f1|f2|y|$d^{(i)}$|\n",
        "|:--|:--|:--|:--|:--|\n",
        "|$x^{(1)}$|3|6|1|$1.41$|\n",
        "|$x^{(5)}$|1|4|2|$1.41$|\n",
        "|$x^{(6)}$|2|2|2|$2.00$|\n",
        "\n",
        "Hence we pick $x^{(1)},x^{(5)},x^{(6)}$\n",
        "\n",
        "\n",
        "<br>\n"
      ],
      "metadata": {
        "id": "5X5EbpX46cet"
      }
    },
    {
      "cell_type": "markdown",
      "source": [
        "<img src=https://d2beiqkhq929f0.cloudfront.net/public_assets/assets/000/040/477/original/Screenshot_2023-07-23_at_7.44.57_PM.png?1690131095 width=700>"
      ],
      "metadata": {
        "id": "UJQgOMywqb46"
      }
    },
    {
      "cell_type": "markdown",
      "source": [
        "\n",
        "4. **Step4:** Find the majority vote on the class $(y)$ for these selected datapoints:\n",
        "- And the **class which is in majority** becomes the **class label for $x_q$**\n",
        "\n",
        "hence here  Class of $x_q = 2$\n",
        "\n",
        "<br>\n",
        "\n",
        "**Note:** This selection of datapoints  is done using a hyperparameter $k$,\n",
        "- hence the algorithm is called $k$ nearest neighbors\n",
        "\n"
      ],
      "metadata": {
        "id": "RS3TTAmi6haI"
      }
    },
    {
      "cell_type": "markdown",
      "metadata": {
        "id": "-M_tuQJnbcOO"
      },
      "source": [
        "**QUIZ**\n",
        "\n",
        "```\n",
        "If x1 at (4,0) , x2 at (0,1) and x3 (5,0) and xq at (0,0). Which is nearest point to xq ?\n",
        "\n",
        "a. x1\n",
        "b. x2\n",
        "c. x3\n",
        "\n",
        "```\n",
        "\n",
        "**Answer**\n",
        "\n",
        "b. x2\n"
      ]
    },
    {
      "cell_type": "markdown",
      "source": [
        "<img src=https://d2beiqkhq929f0.cloudfront.net/public_assets/assets/000/040/479/original/Screenshot_2023-07-23_at_7.45.06_PM.png?1690131159 width=700>"
      ],
      "metadata": {
        "id": "Rs8wwI4aqrGX"
      }
    },
    {
      "cell_type": "markdown",
      "source": [
        "#### What happens if $k = 4$ for kNN ?\n",
        "\n",
        "Ans:  Lets look into the sorted data:\n",
        "\n",
        "||f1|f2|y|$d^{(i)}$|\n",
        "|:--|:--|:--|:--|:--|\n",
        "|$x^{(1)}$|3|6|1|$1.41$|\n",
        "|$x^{(5)}$|1|4|2|$1.41$|\n",
        "|$x^{(6)}$|2|2|2|$2.00$|\n",
        "|$x^{(2)}$|6|4|1|$3.00$|\n",
        "|$x^{(4)}$|7|5|3|$5.00$|\n",
        "|$x^{(3)}$|8|2|3|$6.48$|\n"
      ],
      "metadata": {
        "id": "j2mZGGiM7IWU"
      }
    },
    {
      "cell_type": "markdown",
      "source": [
        "<img src=https://d2beiqkhq929f0.cloudfront.net/public_assets/assets/000/040/478/original/Screenshot_2023-07-23_at_7.45.15_PM.png?1690131134 width=700>"
      ],
      "metadata": {
        "id": "19bUikmzqkzO"
      }
    },
    {
      "cell_type": "markdown",
      "source": [
        "\n",
        "\n",
        "Now we will select the nearest 4 datapoints:\n",
        "\n",
        "||f1|f2|y|$d^{(i)}$|\n",
        "|:--|:--|:--|:--|:--|\n",
        "|$x^{(1)}$|3|6|1|$1.41$|\n",
        "|$x^{(5)}$|1|4|2|$1.41$|\n",
        "|$x^{(6)}$|2|2|2|$2.00$|\n",
        "|$x^{(2)}$|6|4|1|$3.00$|\n",
        "\n",
        "\n",
        "**observe**\n",
        "\n",
        "$x^{(1)}$ and $x^{(2)}$ → Class1 while  $x^{(5)}$ and $x^{(6)}$ → Class2\n",
        "\n",
        "**kNN cannot make a prediction**\n",
        "- As there is a tie in majority vote\n",
        "\n",
        "<br>\n",
        "\n",
        "\n",
        "**note:** It is advisable to have $k \\in odd$\n",
        "- So  to avoid this issue of tie in majority vote.\n",
        "\n",
        "\n",
        "\n",
        "\n"
      ],
      "metadata": {
        "id": "wk47JXSs1Qpf"
      }
    },
    {
      "cell_type": "markdown",
      "source": [
        "Suppose we took $k =5 $ and the nearest neighbor looks like:\n",
        "\n",
        "||y|\n",
        "|:--|:--|\n",
        "|$x^{(1)}$| 1 |\n",
        "|$x^{(5)}$| 2 |\n",
        "|$x^{(2)}$| 1 |\n",
        "|$x^{(7)}$| 2 |\n",
        "|$x^{(4)}$| 3 |\n"
      ],
      "metadata": {
        "id": "d5ek-nc37OEM"
      }
    },
    {
      "cell_type": "markdown",
      "source": [
        "<img src=https://d2beiqkhq929f0.cloudfront.net/public_assets/assets/000/040/480/original/Screenshot_2023-07-23_at_7.45.24_PM.png?1690131190 width=700>"
      ],
      "metadata": {
        "id": "RrL8qzOwqya3"
      }
    },
    {
      "cell_type": "markdown",
      "source": [
        "\n",
        "#### How to make prediction for when $k \\in odd$ and have tie in majority vote ?\n",
        "Ans: In such case, the hack is to:\n",
        "- **Randomly pick the class label for any of the tied Classes**\n",
        "\n",
        "\n",
        "\n",
        "\n",
        "For this example:\n",
        "\n",
        "||y|\n",
        "|:--|:--|\n",
        "|$x^{(1)}$| 1 |\n",
        "|$x^{(5)}$| 2 |\n",
        "|$x^{(2)}$| 1 |\n",
        "|$x^{(7)}$| 2 |\n",
        "|$x^{(4)}$| 3 |\n",
        "\n",
        "\n",
        "- kNN randomly picks Class1 or Class 2\n"
      ],
      "metadata": {
        "id": "u7yM58s24-7A"
      }
    },
    {
      "cell_type": "markdown",
      "source": [
        "<img src=https://d2beiqkhq929f0.cloudfront.net/public_assets/assets/000/040/482/original/Screenshot_2023-07-23_at_7.45.40_PM.png?1690131330 width=700>"
      ],
      "metadata": {
        "id": "8M31zrLSrTAD"
      }
    },
    {
      "cell_type": "markdown",
      "metadata": {
        "id": "9z1ei7T4rnXM"
      },
      "source": [
        "# **kNN Scratch Code**"
      ]
    },
    {
      "cell_type": "markdown",
      "metadata": {
        "id": "1PYOatuolebV"
      },
      "source": [
        "lets split the data into train, validation and test set"
      ]
    },
    {
      "cell_type": "code",
      "execution_count": null,
      "metadata": {
        "id": "RQBeEe4NlebV"
      },
      "outputs": [],
      "source": [
        "from sklearn.model_selection import train_test_split\n",
        "import matplotlib.pyplot as plt\n",
        "\n",
        "X_train_val, X_test, y_train_val, y_test = train_test_split(X,y,test_size=0.25, random_state=42)\n",
        "\n",
        "X_train, X_val, y_train, y_val = train_test_split(X_train_val,y_train_val,test_size=0.25, random_state=42)"
      ]
    },
    {
      "cell_type": "code",
      "execution_count": null,
      "metadata": {
        "colab": {
          "base_uri": "https://localhost:8080/"
        },
        "id": "lIE7huiKlebV",
        "outputId": "a05c552d-b95c-47e8-fea3-c1cd9236daff"
      },
      "outputs": [
        {
          "output_type": "stream",
          "name": "stdout",
          "text": [
            "(247, 7) (247, 1)\n",
            "(83, 7) (83, 1)\n",
            "(110, 7) (110, 1)\n"
          ]
        }
      ],
      "source": [
        "print(X_train.shape, y_train.shape)\n",
        "print(X_val.shape, y_val.shape)\n",
        "print(X_test.shape, y_test.shape)"
      ]
    },
    {
      "cell_type": "markdown",
      "metadata": {
        "id": "Lv-25yYglebV"
      },
      "source": [
        "SMOTE"
      ]
    },
    {
      "cell_type": "code",
      "source": [
        "from imblearn.over_sampling import SMOTE\n",
        "\n",
        "# Create an instance of SMOTE\n",
        "smt = SMOTE()\n",
        "\n",
        "X_sm, y_sm = smt.fit_resample(X_train, y_train)"
      ],
      "metadata": {
        "id": "IzZwJw3kQxN3"
      },
      "execution_count": null,
      "outputs": []
    },
    {
      "cell_type": "code",
      "source": [
        "y_sm.value_counts()"
      ],
      "metadata": {
        "colab": {
          "base_uri": "https://localhost:8080/"
        },
        "id": "z195f41mRZhK",
        "outputId": "719b7336-5d78-4b79-f5ef-c6e0991aa5e8"
      },
      "execution_count": null,
      "outputs": [
        {
          "output_type": "execute_result",
          "data": {
            "text/plain": [
              "class\n",
              "1        99\n",
              "2        99\n",
              "3        99\n",
              "Name: count, dtype: int64"
            ],
            "text/html": [
              "<div>\n",
              "<style scoped>\n",
              "    .dataframe tbody tr th:only-of-type {\n",
              "        vertical-align: middle;\n",
              "    }\n",
              "\n",
              "    .dataframe tbody tr th {\n",
              "        vertical-align: top;\n",
              "    }\n",
              "\n",
              "    .dataframe thead th {\n",
              "        text-align: right;\n",
              "    }\n",
              "</style>\n",
              "<table border=\"1\" class=\"dataframe\">\n",
              "  <thead>\n",
              "    <tr style=\"text-align: right;\">\n",
              "      <th></th>\n",
              "      <th>count</th>\n",
              "    </tr>\n",
              "    <tr>\n",
              "      <th>class</th>\n",
              "      <th></th>\n",
              "    </tr>\n",
              "  </thead>\n",
              "  <tbody>\n",
              "    <tr>\n",
              "      <th>1</th>\n",
              "      <td>99</td>\n",
              "    </tr>\n",
              "    <tr>\n",
              "      <th>2</th>\n",
              "      <td>99</td>\n",
              "    </tr>\n",
              "    <tr>\n",
              "      <th>3</th>\n",
              "      <td>99</td>\n",
              "    </tr>\n",
              "  </tbody>\n",
              "</table>\n",
              "</div><br><label><b>dtype:</b> int64</label>"
            ]
          },
          "metadata": {},
          "execution_count": 11
        }
      ]
    },
    {
      "cell_type": "markdown",
      "source": [
        "Standardization"
      ],
      "metadata": {
        "id": "J1iymvAnRgPU"
      }
    },
    {
      "cell_type": "code",
      "source": [
        "from sklearn.preprocessing import StandardScaler\n",
        "\n",
        "st =  StandardScaler()\n",
        "\n",
        "X_sm = st.fit_transform(X_sm.values)\n",
        "X_val_scaled = st.transform(X_val.values)\n",
        "X_test_scaled = st.transform(X_test.values)\n",
        "\n",
        "y_sm = y_sm.values[:,0]\n",
        "y_val = y_val.values[:,0]\n",
        "y_test = y_test.values[:,0]"
      ],
      "metadata": {
        "id": "jFLc-WgERop9"
      },
      "execution_count": null,
      "outputs": []
    },
    {
      "cell_type": "markdown",
      "metadata": {
        "id": "51sBHKOllebV"
      },
      "source": [
        "kNN Implementation from Scratch\n",
        " with k = 5"
      ]
    },
    {
      "cell_type": "markdown",
      "metadata": {
        "id": "FHh3VUqilebW"
      },
      "source": [
        "taking the 50th Val data as our $x_q$"
      ]
    },
    {
      "cell_type": "code",
      "execution_count": null,
      "metadata": {
        "colab": {
          "base_uri": "https://localhost:8080/"
        },
        "id": "wC1F_RaslebW",
        "outputId": "de593a2a-a38a-4d01-a351-121ea7b55c59"
      },
      "outputs": [
        {
          "output_type": "execute_result",
          "data": {
            "text/plain": [
              "array([ 0.70696002, -0.59996414, -0.44398822, -0.64780861, -0.30877225,\n",
              "       -0.49601444, -0.2789479 ])"
            ]
          },
          "metadata": {},
          "execution_count": 13
        }
      ],
      "source": [
        "X_val_scaled[50]"
      ]
    },
    {
      "cell_type": "markdown",
      "source": [
        "finding distance"
      ],
      "metadata": {
        "id": "7keeosygL_uL"
      }
    },
    {
      "cell_type": "code",
      "source": [
        "dist = np.sqrt(np.sum((X_val_scaled[50]-X_sm)**2,axis=1) )\n",
        "\n",
        "print(dist.shape)"
      ],
      "metadata": {
        "colab": {
          "base_uri": "https://localhost:8080/"
        },
        "id": "4Buk90AML_iu",
        "outputId": "16b5f3ba-bccb-47cd-b9e8-a54a9cce9d95"
      },
      "execution_count": null,
      "outputs": [
        {
          "output_type": "stream",
          "name": "stdout",
          "text": [
            "(297,)\n"
          ]
        }
      ]
    },
    {
      "cell_type": "code",
      "source": [
        "# Storing distance and Class labels together\n",
        "distances = [(dist[i],y_sm[i]) for i in range(len(dist)) ]\n",
        "\n",
        "# sort the distances\n",
        "distances = sorted(distances)"
      ],
      "metadata": {
        "id": "Bc2PqX8zMLn2"
      },
      "execution_count": null,
      "outputs": []
    },
    {
      "cell_type": "code",
      "source": [
        "# Nearest/First K points\n",
        "distances = distances[:5]"
      ],
      "metadata": {
        "id": "6yDXwb04MUUG"
      },
      "execution_count": null,
      "outputs": []
    },
    {
      "cell_type": "code",
      "source": [
        "distances = np.array(distances)\n",
        "\n",
        "classes_counts = np.unique(distances[:,1],return_counts=True)\n",
        "\n",
        "index = classes_counts[1].argmax()\n",
        "pred = classes_counts[0][index]\n",
        "\n",
        "print('kNN prediction:',pred)"
      ],
      "metadata": {
        "colab": {
          "base_uri": "https://localhost:8080/"
        },
        "id": "Z29NIA5nL3HG",
        "outputId": "46c514ac-0694-4b19-9995-fc1cbbf8deb6"
      },
      "execution_count": null,
      "outputs": [
        {
          "output_type": "stream",
          "name": "stdout",
          "text": [
            "kNN prediction: 3.0\n"
          ]
        }
      ]
    },
    {
      "cell_type": "code",
      "source": [
        "print('Neighbors[(distance),(Label)]:',distances)"
      ],
      "metadata": {
        "colab": {
          "base_uri": "https://localhost:8080/"
        },
        "id": "UjPnigJjMgc9",
        "outputId": "27f7a40f-14c1-417f-aff4-4f2cb2193f42"
      },
      "execution_count": null,
      "outputs": [
        {
          "output_type": "stream",
          "name": "stdout",
          "text": [
            "Neighbors[(distance),(Label)]: [[0.19965226 3.        ]\n",
            " [0.21269196 3.        ]\n",
            " [0.23155824 3.        ]\n",
            " [0.28350219 3.        ]\n",
            " [0.29264749 3.        ]]\n"
          ]
        }
      ]
    },
    {
      "cell_type": "markdown",
      "source": [
        "Formulating into one function"
      ],
      "metadata": {
        "id": "ibMnShkYNJI6"
      }
    },
    {
      "cell_type": "code",
      "execution_count": null,
      "metadata": {
        "id": "0b6nzlDZGjZZ"
      },
      "outputs": [],
      "source": [
        "def knn(X,Y,queryPoint,k):\n",
        "    \"\"\"Predict the class label for the query point\"\"\"\n",
        "    # Euclidean Distance\n",
        "    dist = np.sqrt(np.sum((queryPoint-X)**2,axis=1) )\n",
        "\n",
        "    # Storing distance and Class labels together\n",
        "    distances = [(dist[i],Y[i]) for i in range(len(dist)) ]\n",
        "    # sort the distances\n",
        "    distances = sorted(distances)\n",
        "    # Nearest/First K points\n",
        "    distances = distances[:k]\n",
        "\n",
        "    distances = np.array(distances)\n",
        "\n",
        "    classes_counts = np.unique(distances[:,1],return_counts=True)\n",
        "\n",
        "    index = classes_counts[1].argmax()\n",
        "    pred = classes_counts[0][index]\n",
        "\n",
        "    return int(pred),distances"
      ]
    },
    {
      "cell_type": "markdown",
      "metadata": {
        "id": "f6Bg3wYYlebW"
      },
      "source": [
        "Predicted class label for $x_q$"
      ]
    },
    {
      "cell_type": "code",
      "execution_count": null,
      "metadata": {
        "colab": {
          "base_uri": "https://localhost:8080/"
        },
        "id": "OpDnW1XVlebW",
        "outputId": "cf05527f-d59f-4e20-a96a-c9a0d6ea017b"
      },
      "outputs": [
        {
          "output_type": "stream",
          "name": "stdout",
          "text": [
            "k nearest neighbors with the distance and class label :[[0.19965226 3.        ]\n",
            " [0.21269196 3.        ]\n",
            " [0.23155824 3.        ]\n",
            " [0.28350219 3.        ]\n",
            " [0.29264749 3.        ]]\n",
            "The predicted class label: 3\n"
          ]
        }
      ],
      "source": [
        "pred,neighbors = knn(X_sm, y_sm, X_val_scaled[50],5)\n",
        "\n",
        "print(f'k nearest neighbors with the distance and class label :{neighbors}')\n",
        "\n",
        "print(f'The predicted class label: {pred}')"
      ]
    },
    {
      "cell_type": "markdown",
      "metadata": {
        "id": "LQ36bpTJpIgg"
      },
      "source": [
        "**Observe**\n",
        "\n",
        "All the 5 datapoints which are closest to the $x^q$ have:\n",
        "- The same class labels = 3\n",
        "\n",
        "Hence due to majority vote:\n",
        "- $x^q$ → Class3\n",
        "\n",
        "<br>\n",
        "\n",
        "Lets see what is the actual class label for $x^q$"
      ]
    },
    {
      "cell_type": "code",
      "execution_count": null,
      "metadata": {
        "colab": {
          "base_uri": "https://localhost:8080/"
        },
        "id": "x-7IXoHolebW",
        "outputId": "8b2a696e-33e4-461b-e5c9-e11784a1f688"
      },
      "outputs": [
        {
          "output_type": "execute_result",
          "data": {
            "text/plain": [
              "3"
            ]
          },
          "metadata": {},
          "execution_count": 21
        }
      ],
      "source": [
        "y_val[50]"
      ]
    },
    {
      "cell_type": "markdown",
      "metadata": {
        "id": "_W-DzZs8lebW"
      },
      "source": [
        "This means that kNN correctly predicted $x^q$\n",
        "\n"
      ]
    },
    {
      "cell_type": "code",
      "source": [
        "from sklearn.metrics import confusion_matrix\n",
        "\n",
        "y_pred = []\n",
        "\n",
        "for i in range(X_test_scaled.shape[0]):\n",
        "    output,_ = knn(X_sm, y_sm, X_test_scaled[i],5)\n",
        "    y_pred.append(output)\n",
        "\n",
        "\n",
        "\n",
        "\n",
        "cm = confusion_matrix(y_test,y_pred)\n"
      ],
      "metadata": {
        "id": "uddqwzfITv9Z"
      },
      "execution_count": null,
      "outputs": []
    },
    {
      "cell_type": "code",
      "source": [
        "from sklearn.metrics import ConfusionMatrixDisplay\n",
        "\n",
        "ConfusionMatrixDisplay(cm).plot()"
      ],
      "metadata": {
        "colab": {
          "base_uri": "https://localhost:8080/"
        },
        "id": "TRgGAg-YVbUz",
        "outputId": "6586b5a1-66ea-4196-8564-e535272ead6c"
      },
      "execution_count": null,
      "outputs": [
        {
          "output_type": "execute_result",
          "data": {
            "text/plain": [
              "<sklearn.metrics._plot.confusion_matrix.ConfusionMatrixDisplay at 0x7a3b0e5acb20>"
            ]
          },
          "metadata": {},
          "execution_count": 23
        },
        {
          "output_type": "display_data",
          "data": {
            "text/plain": [
              "<Figure size 640x480 with 2 Axes>"
            ],
            "image/png": "[encoded data removed]"
          },
          "metadata": {}
        }
      ]
    },
    {
      "cell_type": "code",
      "source": [
        "from sklearn.metrics import classification_report\n",
        "\n",
        "print(classification_report(y_pred,y_test))"
      ],
      "metadata": {
        "colab": {
          "base_uri": "https://localhost:8080/"
        },
        "id": "wVmboiVzhN2H",
        "outputId": "b791884c-ffa0-447a-ceaf-5f19f3c6fa9d"
      },
      "execution_count": null,
      "outputs": [
        {
          "output_type": "stream",
          "name": "stdout",
          "text": [
            "              precision    recall  f1-score   support\n",
            "\n",
            "           1       0.90      0.72      0.80        25\n",
            "           2       0.81      0.95      0.87        40\n",
            "           3       0.95      0.91      0.93        45\n",
            "\n",
            "    accuracy                           0.88       110\n",
            "   macro avg       0.89      0.86      0.87       110\n",
            "weighted avg       0.89      0.88      0.88       110\n",
            "\n"
          ]
        }
      ]
    },
    {
      "cell_type": "markdown",
      "metadata": {
        "id": "8bg6pGAO0T9u"
      },
      "source": [
        "**observe**\n",
        "\n",
        "Clearly the kNN model performed quite well on the data, showing :\n",
        "- kNN can handle Multi-Class problem\n",
        "- kNN can handle Non-linearity in the data\n",
        "\n"
      ]
    },
    {
      "cell_type": "markdown",
      "metadata": {
        "id": "cA--XdIMsHYP"
      },
      "source": [
        "# **Assumption of KNN:**"
      ]
    },
    {
      "cell_type": "markdown",
      "source": [
        "if data contains:\n",
        "1. 33 $(+)$ Class samples\n",
        "2. 33 $(-)$ Class samples\n",
        "3. 33 $(o)$ Class samples\n",
        "\n",
        "<br>\n",
        "\n",
        "#### What assumption does kNN makes during prediction ?"
      ],
      "metadata": {
        "id": "wqLgxIxdLtYl"
      }
    },
    {
      "cell_type": "markdown",
      "source": [
        "<img src=https://d2beiqkhq929f0.cloudfront.net/public_assets/assets/000/040/481/original/Screenshot_2023-07-23_at_7.45.57_PM.png?1690131249 width=700>"
      ],
      "metadata": {
        "id": "7U3hlJaaq87A"
      }
    },
    {
      "cell_type": "markdown",
      "source": [
        "Ans: As kNN works on the principle that:\n",
        "- All the **characteristic the majority nearest neighbors have, same** should be for the **query datapoint**\n",
        "\n",
        "- hence **kNN assumes that the neighborhood** for a datapoint must be **homogeneous in nature (having same properties)**\n",
        "\n",
        "\n"
      ],
      "metadata": {
        "id": "9qHqqi7QLjnH"
      }
    },
    {
      "cell_type": "markdown",
      "source": [
        "Therefore if there is alot of noise/outliers in the data:\n"
      ],
      "metadata": {
        "id": "8MbwwrgR7mim"
      }
    },
    {
      "cell_type": "markdown",
      "source": [
        "- kNN model fails in most cases"
      ],
      "metadata": {
        "id": "bHRVA1047oHc"
      }
    },
    {
      "cell_type": "markdown",
      "metadata": {
        "id": "sspD18OrEOh_"
      },
      "source": [
        "# Sklearn's [KNN](https://scikit-learn.org/stable/modules/generated/sklearn.neighbors.KNeighborsClassifier.html) implementation"
      ]
    },
    {
      "cell_type": "code",
      "execution_count": null,
      "metadata": {
        "id": "0LBsp44PECiU"
      },
      "outputs": [],
      "source": [
        "from sklearn.neighbors import KNeighborsClassifier\n",
        "import matplotlib.pyplot as plt"
      ]
    },
    {
      "cell_type": "markdown",
      "metadata": {
        "id": "SNHCog3BsScn"
      },
      "source": [
        "Fit method stores the training datapoints in the kNN model"
      ]
    },
    {
      "cell_type": "code",
      "execution_count": null,
      "metadata": {
        "colab": {
          "base_uri": "https://localhost:8080/"
        },
        "id": "43SFRDRVEFTh",
        "outputId": "e0ef17ad-ac00-40c9-fecc-ce3a1e17f76e"
      },
      "outputs": [
        {
          "output_type": "execute_result",
          "data": {
            "text/plain": [
              "KNeighborsClassifier(metric='euclidean')"
            ],
            "text/html": [
              "<style>#sk-container-id-1 {color: black;}#sk-container-id-1 pre{padding: 0;}#sk-container-id-1 div.sk-toggleable {background-color: white;}#sk-container-id-1 label.sk-toggleable__label {cursor: pointer;display: block;width: 100%;margin-bottom: 0;padding: 0.3em;box-sizing: border-box;text-align: center;}#sk-container-id-1 label.sk-toggleable__label-arrow:before {content: \"▸\";float: left;margin-right: 0.25em;color: #696969;}#sk-container-id-1 label.sk-toggleable__label-arrow:hover:before {color: black;}#sk-container-id-1 div.sk-estimator:hover label.sk-toggleable__label-arrow:before {color: black;}#sk-container-id-1 div.sk-toggleable__content {max-height: 0;max-width: 0;overflow: hidden;text-align: left;background-color: #f0f8ff;}#sk-container-id-1 div.sk-toggleable__content pre {margin: 0.2em;color: black;border-radius: 0.25em;background-color: #f0f8ff;}#sk-container-id-1 input.sk-toggleable__control:checked~div.sk-toggleable__content {max-height: 200px;max-width: 100%;overflow: auto;}#sk-container-id-1 input.sk-toggleable__control:checked~label.sk-toggleable__label-arrow:before {content: \"▾\";}#sk-container-id-1 div.sk-estimator input.sk-toggleable__control:checked~label.sk-toggleable__label {background-color: #d4ebff;}#sk-container-id-1 div.sk-label input.sk-toggleable__control:checked~label.sk-toggleable__label {background-color: #d4ebff;}#sk-container-id-1 input.sk-hidden--visually {border: 0;clip: rect(1px 1px 1px 1px);clip: rect(1px, 1px, 1px, 1px);height: 1px;margin: -1px;overflow: hidden;padding: 0;position: absolute;width: 1px;}#sk-container-id-1 div.sk-estimator {font-family: monospace;background-color: #f0f8ff;border: 1px dotted black;border-radius: 0.25em;box-sizing: border-box;margin-bottom: 0.5em;}#sk-container-id-1 div.sk-estimator:hover {background-color: #d4ebff;}#sk-container-id-1 div.sk-parallel-item::after {content: \"\";width: 100%;border-bottom: 1px solid gray;flex-grow: 1;}#sk-container-id-1 div.sk-label:hover label.sk-toggleable__label {background-color: #d4ebff;}#sk-container-id-1 div.sk-serial::before {content: \"\";position: absolute;border-left: 1px solid gray;box-sizing: border-box;top: 0;bottom: 0;left: 50%;z-index: 0;}#sk-container-id-1 div.sk-serial {display: flex;flex-direction: column;align-items: center;background-color: white;padding-right: 0.2em;padding-left: 0.2em;position: relative;}#sk-container-id-1 div.sk-item {position: relative;z-index: 1;}#sk-container-id-1 div.sk-parallel {display: flex;align-items: stretch;justify-content: center;background-color: white;position: relative;}#sk-container-id-1 div.sk-item::before, #sk-container-id-1 div.sk-parallel-item::before {content: \"\";position: absolute;border-left: 1px solid gray;box-sizing: border-box;top: 0;bottom: 0;left: 50%;z-index: -1;}#sk-container-id-1 div.sk-parallel-item {display: flex;flex-direction: column;z-index: 1;position: relative;background-color: white;}#sk-container-id-1 div.sk-parallel-item:first-child::after {align-self: flex-end;width: 50%;}#sk-container-id-1 div.sk-parallel-item:last-child::after {align-self: flex-start;width: 50%;}#sk-container-id-1 div.sk-parallel-item:only-child::after {width: 0;}#sk-container-id-1 div.sk-dashed-wrapped {border: 1px dashed gray;margin: 0 0.4em 0.5em 0.4em;box-sizing: border-box;padding-bottom: 0.4em;background-color: white;}#sk-container-id-1 div.sk-label label {font-family: monospace;font-weight: bold;display: inline-block;line-height: 1.2em;}#sk-container-id-1 div.sk-label-container {text-align: center;}#sk-container-id-1 div.sk-container {/* jupyter's `normalize.less` sets `[hidden] { display: none; }` but bootstrap.min.css set `[hidden] { display: none !important; }` so we also need the `!important` here to be able to override the default hidden behavior on the sphinx rendered scikit-learn.org. See: https://github.com/scikit-learn/scikit-learn/issues/21755 */display: inline-block !important;position: relative;}#sk-container-id-1 div.sk-text-repr-fallback {display: none;}</style><div id=\"sk-container-id-1\" class=\"sk-top-container\"><div class=\"sk-text-repr-fallback\"><pre>KNeighborsClassifier(metric=&#x27;euclidean&#x27;)</pre><b>In a Jupyter environment, please rerun this cell to show the HTML representation or trust the notebook. <br />On GitHub, the HTML representation is unable to render, please try loading this page with nbviewer.org.</b></div><div class=\"sk-container\" hidden><div class=\"sk-item\"><div class=\"sk-estimator sk-toggleable\"><input class=\"sk-toggleable__control sk-hidden--visually\" id=\"sk-estimator-id-1\" type=\"checkbox\" checked><label for=\"sk-estimator-id-1\" class=\"sk-toggleable__label sk-toggleable__label-arrow\">KNeighborsClassifier</label><div class=\"sk-toggleable__content\"><pre>KNeighborsClassifier(metric=&#x27;euclidean&#x27;)</pre></div></div></div></div></div>"
            ]
          },
          "metadata": {},
          "execution_count": 26
        }
      ],
      "source": [
        "knn = KNeighborsClassifier(n_neighbors=5,metric='euclidean')\n",
        "\n",
        "knn.fit(X_sm, y_sm)\n"
      ]
    },
    {
      "cell_type": "markdown",
      "metadata": {
        "id": "WUURYYWoFxIN"
      },
      "source": [
        "Accuracy of KNN on Test data"
      ]
    },
    {
      "cell_type": "code",
      "execution_count": null,
      "metadata": {
        "colab": {
          "base_uri": "https://localhost:8080/"
        },
        "id": "WFYSloWqKKt-",
        "outputId": "588bea5d-1def-43bb-f0f1-a3aaeb151f4a"
      },
      "outputs": [
        {
          "output_type": "execute_result",
          "data": {
            "text/plain": [
              "0.8795180722891566"
            ]
          },
          "metadata": {},
          "execution_count": 27
        }
      ],
      "source": [
        "knn.score(X_val_scaled, y_val)"
      ]
    },
    {
      "cell_type": "markdown",
      "metadata": {
        "id": "UDBUMEUHGJZT"
      },
      "source": [
        "Precision, Recall, F1-Score of KNN on test data"
      ]
    },
    {
      "cell_type": "code",
      "execution_count": null,
      "metadata": {
        "colab": {
          "base_uri": "https://localhost:8080/"
        },
        "id": "MSJKCNwyKayH",
        "outputId": "f8ca027e-97dc-43bb-ad7b-ee693e7d82f3"
      },
      "outputs": [
        {
          "output_type": "stream",
          "name": "stdout",
          "text": [
            "              precision    recall  f1-score   support\n",
            "\n",
            "           1       0.65      0.93      0.76        14\n",
            "           2       0.97      0.89      0.93        38\n",
            "           3       0.93      0.84      0.88        31\n",
            "\n",
            "    accuracy                           0.88        83\n",
            "   macro avg       0.85      0.89      0.86        83\n",
            "weighted avg       0.90      0.88      0.88        83\n",
            "\n"
          ]
        }
      ],
      "source": [
        "from sklearn.metrics import classification_report\n",
        "\n",
        "y_pred = knn.predict(X_val_scaled)\n",
        "print(classification_report(y_val, y_pred))"
      ]
    },
    {
      "cell_type": "markdown",
      "metadata": {
        "id": "u_yEsE7mGPS5"
      },
      "source": [
        "Confusion Matrix of KNN on Test Data"
      ]
    },
    {
      "cell_type": "code",
      "execution_count": null,
      "metadata": {
        "colab": {
          "base_uri": "https://localhost:8080/"
        },
        "id": "HxluoPKiKirV",
        "outputId": "14ccabf3-3622-44ed-ecba-3ff082a5c5ba"
      },
      "outputs": [
        {
          "output_type": "execute_result",
          "data": {
            "text/plain": [
              "<sklearn.metrics._plot.confusion_matrix.ConfusionMatrixDisplay at 0x7a3b11095db0>"
            ]
          },
          "metadata": {},
          "execution_count": 29
        },
        {
          "output_type": "display_data",
          "data": {
            "text/plain": [
              "<Figure size 640x480 with 2 Axes>"
            ],
            "image/png": "[encoded data removed]"
          },
          "metadata": {}
        }
      ],
      "source": [
        "y_pred = knn.predict(X_test_scaled)\n",
        "\n",
        "cm = confusion_matrix(y_test, y_pred)\n",
        "\n",
        "ConfusionMatrixDisplay(cm).plot()"
      ]
    },
    {
      "cell_type": "markdown",
      "source": [
        "**observe**\n",
        "\n",
        "The model makes wrong prediction mostly on **Class 1**\n",
        "\n",
        "\n",
        "#### How to perform hyperparameter tuning to make kNN fit better ?\n",
        "Ans: for this lets first understand Bias-Variance of kNN"
      ],
      "metadata": {
        "id": "HFuwJ2J5NcvG"
      }
    },
    {
      "cell_type": "markdown",
      "source": [
        "<img src=https://d2beiqkhq929f0.cloudfront.net/public_assets/assets/000/040/483/original/Screenshot_2023-07-23_at_7.46.05_PM.png?1690131383 width=700>"
      ],
      "metadata": {
        "id": "RtTuxRGnrnXu"
      }
    },
    {
      "cell_type": "markdown",
      "metadata": {
        "id": "MOJnEIG33THH"
      },
      "source": [
        "# **Bias-Variance Trade Off in kNN**"
      ]
    },
    {
      "cell_type": "markdown",
      "source": [
        "#### As no training is required for kNN, so is there no bias-variance tradeoff in kNN ?\n",
        "\n"
      ],
      "metadata": {
        "id": "8cDX1ai381E6"
      }
    },
    {
      "cell_type": "markdown",
      "source": [
        "<img src=https://d2beiqkhq929f0.cloudfront.net/public_assets/assets/000/040/484/original/Screenshot_2023-07-23_at_7.46.15_PM.png?1690131675 width=700>"
      ],
      "metadata": {
        "id": "2Qz57GOisutu"
      }
    },
    {
      "cell_type": "markdown",
      "source": [
        "Ans: Lets understand this, through a training data containing 2 outliers:\n",
        "1. A $(-)$ Class outlier in 30 sampled $(+)$ Class data\n",
        "2. A $(+)$ Class outlier in 40 sampled $(-)$ Class data"
      ],
      "metadata": {
        "id": "rgKYvz9w86g4"
      }
    },
    {
      "cell_type": "markdown",
      "source": [
        "If there are two test datapoints $x^{(q1)}$ and $x^{(q2)}$ such that:\n",
        "-  $x^{(q1)}$ is very close to $(-)$ Class outlier\n",
        "-  $x^{(q2)}$ is very close to $(+)$ Class outlier\n",
        "\n",
        "#### What will be the class label of $x^{(q1)}$ if k = 1?"
      ],
      "metadata": {
        "id": "M3tVK0Ly8-zV"
      }
    },
    {
      "cell_type": "markdown",
      "source": [
        "\n",
        "\n",
        "\n",
        "\n",
        "Ans: Clearly, $x^{(q1)}$ belongs to $(-)$ Class\n",
        "\n",
        "- Similarly, $x^{(q2)}$ belongs to $(+)$ Class\n",
        "\n",
        "\n",
        "<br>\n",
        "\n",
        "As kNN is trying to fit correctly for every datapoint:\n",
        "- It clearly has a high variance and low bias\n"
      ],
      "metadata": {
        "id": "H0ymSYiTQs-Q"
      }
    },
    {
      "cell_type": "markdown",
      "source": [
        "**quiz**\n",
        "\n",
        "```\n",
        "what to say if model has high varaince and low bias ?\n",
        "\n",
        "a) Model overfits\n",
        "b) Model underfits\n",
        "```\n",
        "**correct Answer**\n",
        "a) Model overfits"
      ],
      "metadata": {
        "id": "5bwYrP8tV3Mb"
      }
    },
    {
      "cell_type": "markdown",
      "source": [
        "**Note:** Fitting on outliers when $k = 1$ shows that:\n",
        "- If $k⇓$ model starts overfitting"
      ],
      "metadata": {
        "id": "THraOD_UWH9I"
      }
    },
    {
      "cell_type": "markdown",
      "source": [
        "Taking the same training data:\n",
        "- 31 $(+)$ class data\n",
        "- 41 $(-)$ class data\n",
        "\n",
        "<br>\n",
        "\n",
        "#### What will be class labels for $x^{(q1)}$ if k = 72?\n"
      ],
      "metadata": {
        "id": "bdayE6Yb9HvC"
      }
    },
    {
      "cell_type": "markdown",
      "source": [
        "<img src=https://d2beiqkhq929f0.cloudfront.net/public_assets/assets/000/040/485/original/Screenshot_2023-07-23_at_7.46.28_PM.png?1690132011 width=700>"
      ],
      "metadata": {
        "id": "kOPD8hxPt6Gm"
      }
    },
    {
      "cell_type": "markdown",
      "source": [
        "\n",
        "Ans: with k = 72:\n",
        "- kNN considers entire training data and since **majority class = $(-)$ class**\n",
        "- $x^{(q1)}$ will have class label as $(-)$ class even though its neighborhood has label = $(+)$ class\n",
        "\n",
        "<br>\n",
        "\n",
        "**note:** Since kNN :\n",
        "- Does not even fit the training data\n",
        "- It has high bias and low variance\n",
        "\n",
        "Meaning **as $k ⇑$, kNN tends to underfit**\n",
        "\n",
        "\n",
        "\n"
      ],
      "metadata": {
        "id": "lzhYP0OkWRUa"
      }
    },
    {
      "cell_type": "markdown",
      "metadata": {
        "id": "xzwYMqpDx4_S"
      },
      "source": [
        "**QUIZ** (what do you think)\n",
        "\n",
        "```\n",
        "Is k in kNN a parameter or hyperparameter of the model ?\n",
        "\n",
        "a)parameter\n",
        "b)hyperparameter\n",
        "\n",
        "```\n",
        "\n",
        "**Correct Answer** b)hyperparameter\n"
      ]
    },
    {
      "cell_type": "markdown",
      "source": [
        "**quiz**\n",
        "\n",
        "```\n",
        "k→ hyperparameter, then what data to use for hyperparamter tuning ?\n",
        "\n",
        "a) validation\n",
        "b) training\n",
        "c) test\n",
        "d) entire data\n",
        "\n",
        "\n",
        "```\n",
        "**Correct Answer** a) validation"
      ],
      "metadata": {
        "id": "_jAhAHsDYfSj"
      }
    },
    {
      "cell_type": "markdown",
      "source": [
        "Lets summarize things:\n",
        "\n",
        "1. if $k ⇑$, it means kNN underfits\n",
        "\n",
        "2. if $k ⇓$, it means kNN overfits\n",
        "\n",
        "\n",
        "Hence if we plot Accuracy vs k:"
      ],
      "metadata": {
        "id": "0WW0hbV0ZdRz"
      }
    },
    {
      "cell_type": "markdown",
      "source": [
        "<img src=https://d2beiqkhq929f0.cloudfront.net/public_assets/assets/000/040/486/original/Screenshot_2023-07-23_at_7.46.35_PM.png?1690132043 width=700>"
      ],
      "metadata": {
        "id": "c_zrG0S5uCkS"
      }
    },
    {
      "cell_type": "markdown",
      "source": [
        "**observe**\n",
        "\n",
        "1. training accuracy of kNN decreases as k increases\n",
        "2. Validation accuracy of kNN first increases as k increases , then decreases\n",
        "\n",
        "Hence we can say:\n",
        "- when k → very small,\n",
        " - since **gap between training and validation accuracy is high**\n",
        " - kNN is being a very complex model, and hence it overfits\n",
        "\n",
        "- when k → very large,\n",
        " - though the gap between training and validation accuracy is low, but **training accuracy is worse**\n",
        " - kNN is being a very simple model, and hence it underfits"
      ],
      "metadata": {
        "id": "ptRGIx9wYs3_"
      }
    },
    {
      "cell_type": "markdown",
      "source": [
        "Hyperparameter tuning of kNN"
      ],
      "metadata": {
        "id": "hTDZB3A-jkM_"
      }
    },
    {
      "cell_type": "code",
      "execution_count": null,
      "metadata": {
        "id": "sFeSfLJzLq1i"
      },
      "outputs": [],
      "source": [
        "Acc = []\n",
        "\n",
        "# Calculating error for K values between 1 and 50\n",
        "# Note: 51 is not included in the loop\n",
        "for i in range(1, 51):\n",
        "    knn = KNeighborsClassifier(n_neighbors=i,metric='euclidean')\n",
        "    knn.fit(X_sm, y_sm)\n",
        "\n",
        "    Acc.append(knn.score(X_val_scaled,y_val))"
      ]
    },
    {
      "cell_type": "markdown",
      "metadata": {
        "id": "Uc0XyQEBLq1i"
      },
      "source": [
        "Visualizing the error and K values"
      ]
    },
    {
      "cell_type": "code",
      "execution_count": null,
      "metadata": {
        "colab": {
          "base_uri": "https://localhost:8080/"
        },
        "id": "_kYPCvrtLq1i",
        "outputId": "cd4f7e75-6f79-4389-c4f4-04a3ab49b59f"
      },
      "outputs": [
        {
          "output_type": "execute_result",
          "data": {
            "text/plain": [
              "Text(0, 0.5, 'Accuracy')"
            ]
          },
          "metadata": {},
          "execution_count": 31
        },
        {
          "output_type": "display_data",
          "data": {
            "text/plain": [
              "<Figure size 1200x600 with 1 Axes>"
            ],
            "image/png": "[encoded data removed]"
          },
          "metadata": {}
        }
      ],
      "source": [
        "plt.figure(figsize=(12, 6))\n",
        "plt.plot(range(1, 51), Acc, color='red', linestyle='dashed', marker='o',\n",
        "         markerfacecolor='blue', markersize=10)\n",
        "plt.title('Accuracy of K Value')\n",
        "plt.xlabel('K Value')\n",
        "plt.ylabel('Accuracy')"
      ]
    },
    {
      "cell_type": "markdown",
      "metadata": {
        "id": "PCesv0h4Lq1j"
      },
      "source": [
        "**observe**\n",
        "\n",
        "From this accuracy plot, it is clear that:\n",
        "- Highest accuracy attained when $k = 5$\n",
        "\n",
        "- Meaning our intial kNN is the best model"
      ]
    },
    {
      "cell_type": "markdown",
      "source": [
        "Decision Boundary plot"
      ],
      "metadata": {
        "id": "ggl5ln2KOuSc"
      }
    },
    {
      "cell_type": "code",
      "source": [
        "import matplotlib.pyplot as plt\n",
        "from sklearn.inspection import DecisionBoundaryDisplay\n",
        "from sklearn.neighbors import KNeighborsClassifier\n",
        "\n",
        "# Choosing the first 2 columns for the plot\n",
        "\n",
        "\n",
        "pca = PCA(n_components=2)\n",
        "X_train_cols = pca.fit_transform(X_sm)\n",
        "\n",
        "# Creating and fitting the tree classifier\n",
        "\n",
        "classifier = KNeighborsClassifier(n_neighbors=5,metric='euclidean')\n",
        "\n",
        "classifier.fit(X_train_cols, y_sm)\n",
        "\n",
        "# Plotting the tree boundaries\n",
        "disp = DecisionBoundaryDisplay.from_estimator(classifier,\n",
        "                                              X_train_cols,\n",
        "                                              response_method=\"predict\",\n",
        "                                              xlabel='f1', ylabel='f2',\n",
        "                                              alpha=0.5,\n",
        "                                              cmap=plt.cm.coolwarm)\n",
        "\n",
        "# Plotting the data points\n",
        "disp.ax_.scatter(X_train_cols[:, 0], X_train_cols[:, 1],\n",
        "                 c=y_sm, edgecolor=\"k\",\n",
        "                 cmap=plt.cm.coolwarm)\n",
        "\n",
        "\n",
        "plt.show()"
      ],
      "metadata": {
        "colab": {
          "base_uri": "https://localhost:8080/"
        },
        "id": "-bO4JJneNpV4",
        "outputId": "7d73c825-8ff7-4e2d-c9b8-13d329586f3b"
      },
      "execution_count": null,
      "outputs": [
        {
          "output_type": "display_data",
          "data": {
            "text/plain": [
              "<Figure size 640x480 with 1 Axes>"
            ],
            "image/png": "[encoded data removed]"
          },
          "metadata": {}
        }
      ]
    },
    {
      "cell_type": "markdown",
      "source": [
        "**observe**\n",
        "\n",
        "We can clearly see:\n",
        "- kNN creates a non-linear decision Boundary\n",
        "\n",
        "1. **Class1** and its decision boundary → shown in **red**\n",
        "2. **Class2** and its decision boundary → shown in **sky Blue**\n",
        "3. **Class3** and its decision boundary → shown in **Blue**"
      ],
      "metadata": {
        "id": "7hFuclDOSXZv"
      }
    },
    {
      "cell_type": "markdown",
      "metadata": {
        "id": "xH0WtFK88CU0"
      },
      "source": [
        "**QUIZ**\n",
        "\n",
        "```\n",
        "Which of the following option is true about k-NN algorithm?\n",
        "\n",
        "1. It is Supervised Learning Algorithm\n",
        "2. It is Unsupervised Learning Algorithm\n",
        "```\n",
        "\n",
        "**ANSWER**:\n",
        "3. It is Supervised Learning Algorithm  \n",
        "\n"
      ]
    },
    {
      "cell_type": "markdown",
      "metadata": {
        "id": "MKaYaxBB1tO-"
      },
      "source": [
        "## **Time-Complexity of KNN**\n",
        "\n",
        "\n"
      ]
    },
    {
      "cell_type": "markdown",
      "source": [
        "**quiz**(what do you think)\n",
        "\n",
        "```\n",
        "What will be the training time complexity of kNN ?\n",
        "\n",
        "a) O(nd)\n",
        "b) O(n)\n",
        "c) O(nlogn)\n",
        "d) O(1)\n",
        "```\n",
        "\n",
        "**Correct Answer**\n",
        "d) O(1)"
      ],
      "metadata": {
        "id": "ehk-M49yNOqD"
      }
    },
    {
      "cell_type": "markdown",
      "source": [
        "#### Why does training time complexity of kNN is O(1) ?\n",
        "\n",
        "ans: simply in training time:\n",
        "- kNN does not perform any kind of computation\n",
        "\n",
        "- kNN only stores the data\n",
        "\n",
        "Hence complexity is O(1)"
      ],
      "metadata": {
        "id": "PXeeCovd8VLO"
      }
    },
    {
      "cell_type": "markdown",
      "source": [
        "<img src=https://d2beiqkhq929f0.cloudfront.net/public_assets/assets/000/040/487/original/Screenshot_2023-07-23_at_7.46.44_PM.png?1690132163 width=700>"
      ],
      "metadata": {
        "id": "wfTtKratulnl"
      }
    },
    {
      "cell_type": "markdown",
      "source": [],
      "metadata": {
        "id": "m_iaWcxaurfS"
      }
    },
    {
      "cell_type": "markdown",
      "source": [
        "\n",
        "\n",
        "#### What is the space complexity of kNN ?\n",
        "Ans: As kNN is storing the entire training data\n",
        "- the space complexity → $O(n \\times d)$\n",
        "- where n is the number of samples and d is the number of features\n",
        "\n",
        "<br>\n",
        "\n",
        "\n",
        "\n"
      ],
      "metadata": {
        "id": "N5U9PFNeNokM"
      }
    },
    {
      "cell_type": "markdown",
      "source": [
        "#### What is the test time complexity of kNN ?\n",
        "Ans: Since kNN performs all its computation for  query datapoints $x^q$, so lets look into each of them:\n",
        "\n",
        "1. finding distance from all training data\n",
        " - Complexity: $O(n \\times d)$\n",
        "\n",
        "2. Sort the training data based on distance calculated"
      ],
      "metadata": {
        "id": "N-GaAnis8gUp"
      }
    },
    {
      "cell_type": "markdown",
      "source": [
        "<img src=https://d2beiqkhq929f0.cloudfront.net/public_assets/assets/000/040/488/original/Screenshot_2023-07-23_at_7.46.52_PM.png?1690132269 width=700>"
      ],
      "metadata": {
        "id": "bR-VxwL0vAsc"
      }
    },
    {
      "cell_type": "markdown",
      "source": [
        "**quiz**\n",
        "\n",
        "```\n",
        "What will be the complexity of optimal sorting algorithm ?\n",
        "\n",
        "a) O(n^2)\n",
        "b) O(n)\n",
        "c) O(n logn)\n",
        "d) o(1)\n",
        "\n",
        "```\n",
        "**correct answer** c) O(n logn)"
      ],
      "metadata": {
        "id": "JXLGW1fZPTlJ"
      }
    },
    {
      "cell_type": "markdown",
      "source": [
        "Complexity for sorting : $O(n \\times log n)$\n",
        "\n",
        "3. Since we pick the k nearest neighbors\n",
        " - Complexity becomes: $O(k)$\n",
        "\n",
        "Hence total complexity becomes:\n",
        "- $O(n\\times d. + n logn + k)$\n",
        "\n",
        "As k can be very small , as compared to $n$ and $d$, we can ignore it:\n",
        "\n",
        "- Therefore final test complexity: $O(n \\times d + n\\times logn)$\n"
      ],
      "metadata": {
        "id": "6oOnUQ-3PT8E"
      }
    },
    {
      "cell_type": "markdown",
      "metadata": {
        "id": "XmGtrtrxwShO"
      },
      "source": [
        "**QUIZ**\n",
        "\n",
        "```\n",
        "k-NN algorithm does more computation on test time rather than train time.\n",
        "\n",
        "1. TRUE\n",
        "2. FALSE\n",
        "```\n",
        "\n",
        "\n",
        "**Answer:**\n",
        "\n",
        "1. True\n",
        "\n",
        "**Explanation**\n",
        "\n",
        "- The training phase of the algorithm consists only of storing the feature vectors and class labels of the training samples.\n",
        "\n",
        "- In the testing phase, a test point is classified by assigning the label which are most frequent among the k training samples nearest to that query point – hence higher computation."
      ]
    },
    {
      "cell_type": "markdown",
      "source": [
        "<img src=https://d2beiqkhq929f0.cloudfront.net/public_assets/assets/000/040/491/original/Screenshot_2023-07-23_at_7.47.00_PM.png?1690132808 width=700>"
      ],
      "metadata": {
        "id": "jknqXBp6xEs1"
      }
    },
    {
      "cell_type": "markdown",
      "source": [
        "<img src=https://d2beiqkhq929f0.cloudfront.net/public_assets/assets/000/040/492/original/Screenshot_2023-07-23_at_7.47.08_PM.png?1690132852 width=700>"
      ],
      "metadata": {
        "id": "mWu3tPSkxHnW"
      }
    },
    {
      "cell_type": "markdown",
      "source": [
        "# **kNN for Categorical features**"
      ],
      "metadata": {
        "id": "Grs_1WvS3eE-"
      }
    },
    {
      "cell_type": "markdown",
      "source": [
        "Suppose, we have a diabetic data such that:\n",
        "\n",
        "1. 40 samples → Diabetic (Class $(+)$)\n",
        "2. 40 samples → Non-Diabetic(Class $(-)$)\n",
        "\n"
      ],
      "metadata": {
        "id": "zTcs9Mkt9jS_"
      }
    },
    {
      "cell_type": "markdown",
      "source": [
        "<img src=https://d2beiqkhq929f0.cloudfront.net/public_assets/assets/000/040/489/original/Screenshot_2023-07-23_at_7.47.16_PM.png?1690132318 width=700>"
      ],
      "metadata": {
        "id": "PlmXFDlbvPa_"
      }
    },
    {
      "cell_type": "markdown",
      "source": [
        "Which contains features:\n",
        "1. Gender (male, female)\n",
        "2. Age\n",
        "3. Blood Group ($A^+,B^+,AB^+,O^+,A^-,B^-,AB^-,O^-)$\n",
        "4. Glucose level\n",
        "5. Blood Pressure"
      ],
      "metadata": {
        "id": "RNnTgSpw9kqx"
      }
    },
    {
      "cell_type": "markdown",
      "source": [
        "\n",
        "\n",
        "<br>\n",
        "\n",
        "\n",
        "#### Can kNN be used for such a data ?\n",
        "ans: No, because of the categorical features:\n",
        "- Euclidean distance cannot be calculated\n",
        "\n",
        "<br>\n",
        "\n",
        "Hence **need of converting Categorical data to Numerical**\n",
        "- So Euclidean distance can be used"
      ],
      "metadata": {
        "id": "FnCnJk6L3jNJ"
      }
    },
    {
      "cell_type": "markdown",
      "source": [
        "**quiz**\n",
        "\n",
        "```\n",
        "What are the 2 ways to convert Categorical data to numerical ?\n",
        "\n",
        "a) One-Hot, Target Encoding\n",
        "b) One-Hot Encoding, Standardization\n",
        "c) Target Encoding, Scaling\n",
        "d) Standardization,Scaling\n",
        "\n",
        "```\n",
        "**Correct Answer**\n",
        "a) One-Hot, Target Encoding"
      ],
      "metadata": {
        "id": "dZqENRjg5RkG"
      }
    },
    {
      "cell_type": "markdown",
      "source": [
        "<img src=https://d2beiqkhq929f0.cloudfront.net/public_assets/assets/000/040/490/original/Screenshot_2023-07-23_at_7.47.26_PM.png?1690132755 width=700>"
      ],
      "metadata": {
        "id": "SJEX5ES8wvWp"
      }
    },
    {
      "cell_type": "markdown",
      "source": [
        "Suppose if we use One Hot Encoding(OHE):\n",
        "- As Gender feature contains 2 unique values, One Hot Encoding shape changes to $(n,2)$\n",
        "\n",
        "|Gender|OHE-Male|OHE-Female|\n",
        "|:--|:--|:--|\n",
        "|Male|1|0|\n",
        "|Female|0|1|\n",
        "|Female|0|1|\n",
        "|Male|1|0|\n",
        "|Male|1|0|\n",
        "|Female|0|1|\n",
        "|Male|1|0|\n",
        "|Female|0|1|\n",
        "\n",
        "<br>\n",
        "\n",
        "similarly for Blood Group, as there are 8 unique values:\n",
        "- shape of Blood Group feature becomes: $(n,8)$\n",
        "\n",
        "<br>\n",
        "\n",
        "\n",
        "\n",
        "\n",
        "\n"
      ],
      "metadata": {
        "id": "Paxqz1M15Rzq"
      }
    },
    {
      "cell_type": "markdown",
      "source": [
        "<img src=https://d2beiqkhq929f0.cloudfront.net/public_assets/assets/000/040/493/original/Screenshot_2023-07-23_at_7.47.33_PM.png?1690132897 width=700>"
      ],
      "metadata": {
        "id": "uez8ZPOxxQuG"
      }
    },
    {
      "cell_type": "markdown",
      "source": [
        "\n",
        "**observe**\n",
        "\n",
        "The total dimension of data becomes:\n",
        "\n",
        "|Feature|dimension|\n",
        "|:--|:--|\n",
        "|gender|2|\n",
        "|Age|1|\n",
        "|Blood Group|8|\n",
        "|glucose level|1|\n",
        "|Blood Pressure|1|\n",
        "|| $d = 13 $|\n"
      ],
      "metadata": {
        "id": "0ehXl86j9v7I"
      }
    },
    {
      "cell_type": "markdown",
      "metadata": {
        "id": "XYchZmHrfcRF"
      },
      "source": [
        "# **Problem with Euclidean Distance**\n",
        "\n",
        "\n",
        "\n"
      ]
    },
    {
      "cell_type": "markdown",
      "source": [
        "**quiz** (what do you think)\n",
        "\n",
        "```\n",
        "if One Hot Encoding increases data dimension to (d=1000), will Eculidean Distance work ?\n",
        "\n",
        "a) Yes\n",
        "b) No\n",
        "\n",
        "```\n",
        "\n",
        "**Correct Answer**\n",
        "\n",
        "b) No"
      ],
      "metadata": {
        "id": "N-yPHOh9w5K_"
      }
    },
    {
      "cell_type": "markdown",
      "source": [
        "#### Why would Euclidean distance not work when there is high dimensional data ?"
      ],
      "metadata": {
        "id": "eOpnur527xnN"
      }
    },
    {
      "cell_type": "markdown",
      "source": [
        "<img src=https://d2beiqkhq929f0.cloudfront.net/public_assets/assets/000/040/494/original/Screenshot_2023-07-23_at_7.47.40_PM.png?1690133064 width=700>"
      ],
      "metadata": {
        "id": "8yfbHRpCyFH0"
      }
    },
    {
      "cell_type": "markdown",
      "source": [
        "\n",
        "\n",
        "Ans: Suppose we have two datapoints $x^{(1)}$ and $x^{(2)}$ and dimension $d= 4$:\n",
        "- Euclidean finds distance between them\n",
        " - $dist(x^{(1)},x^{(2)}) = [\\sum_{j = 1}^{d = 4} (x_j^{(1)}-x_j^{(2)})^2]^{\\frac{1}{2}}$\n",
        "\n",
        "\n",
        "\n"
      ],
      "metadata": {
        "id": "JtFh2KOdxQ9l"
      }
    },
    {
      "cell_type": "markdown",
      "source": [
        "<img src=https://d2beiqkhq929f0.cloudfront.net/public_assets/assets/000/040/495/original/Screenshot_2023-07-23_at_7.47.47_PM.png?1690133190 width=700>"
      ],
      "metadata": {
        "id": "eK25wyK1yXqS"
      }
    },
    {
      "cell_type": "markdown",
      "source": [
        "As $(x)^2 = |x|^2$, hence Euclidean distance can also become:\n",
        "-  $dist(x^{(1)},x^{(2)}) = [\\sum_{j = 1}^{d = 4} |x_j^{(1)}-x_j^{(2)}|^2]^{\\frac{1}{2}}$\n",
        "\n",
        "<br>\n",
        "\n",
        "\n",
        "if we project $x^{(1)}$ and $x^{(2)}$  in 2-D, **Euclidean distance value is large** because:\n",
        "- dimension is low\n",
        "- and the **datapoints will be far apart**\n",
        "\n",
        "<br>\n"
      ],
      "metadata": {
        "id": "CjIhxjhuyX7B"
      }
    },
    {
      "cell_type": "markdown",
      "source": [
        "\n",
        "Now if $d = 1000$ , then if we project $x^{(1)}$ and $x^{(2)}$ in 2-D, as **dimension is quite high**:\n",
        "\n",
        "- the **datapoints will be very close to each other**\n",
        "\n",
        "- Hence, **Euclidean distance value will be low**\n",
        "\n",
        "<br>\n",
        "\n",
        "\n",
        "This **issue of Euclidean distance when data is high dimension** is called **Curse of Dimensionality**\n"
      ],
      "metadata": {
        "id": "4v5DdVvR7vX-"
      }
    },
    {
      "cell_type": "markdown",
      "source": [
        "Clearly, Using One Hot Encoding just for 5 features, increases dimension to 13:\n",
        "- Showing how One Hot Encoding will rapidly increase the dimension of data\n",
        "\n",
        "Which results in failing of **Euclidean distance** due to **Curse of Dimensionality**\n",
        "\n",
        "<br>\n",
        "\n",
        "**Note:** Due to One Hot Encoding high dimensional issue, Target Encoding is used.\n",
        "\n",
        "- Remember Target Encoding is covered in EDA of Cars-24"
      ],
      "metadata": {
        "id": "Glk6FYvt7q0w"
      }
    },
    {
      "cell_type": "markdown",
      "source": [
        "<img src=https://d2beiqkhq929f0.cloudfront.net/public_assets/assets/000/040/496/original/Screenshot_2023-07-23_at_7.47.54_PM.png?1690133294 width=700>"
      ],
      "metadata": {
        "id": "bPP3-9B5y5A9"
      }
    },
    {
      "cell_type": "markdown",
      "source": [
        "<img src=https://d2beiqkhq929f0.cloudfront.net/public_assets/assets/000/040/497/original/Screenshot_2023-07-23_at_7.48.03_PM.png?1690133331 width=700>"
      ],
      "metadata": {
        "id": "NzYVRX5ty7Db"
      }
    },
    {
      "cell_type": "markdown",
      "metadata": {
        "id": "XrWn2ABtl9k1"
      },
      "source": [
        "# **Mahattan Distance**\n",
        "\n",
        "\n",
        "\n"
      ]
    },
    {
      "cell_type": "markdown",
      "source": [
        "As Euclidean distance is the distance between $x^{(1)}$ and $x^{(2)}$\n",
        "\n",
        "<br>\n",
        "\n",
        "#### What other distance to use for  $x^{(1)}$ and $x^{(2)}$ ?"
      ],
      "metadata": {
        "id": "Rc16bKn573To"
      }
    },
    {
      "cell_type": "markdown",
      "source": [
        "<img src=https://d2beiqkhq929f0.cloudfront.net/public_assets/assets/000/040/498/original/Screenshot_2023-07-23_at_7.48.09_PM.png?1690133375 width=700>"
      ],
      "metadata": {
        "id": "cf3t_iOqzFzd"
      }
    },
    {
      "cell_type": "markdown",
      "source": [
        "\n",
        "\n",
        "Ans: lets consider distance $(d_1)$ along one feature $f_1$:\n",
        "- And distance $(d_2)$ along another feature $f_2$\n",
        "\n",
        "Now take the sum of $d_1$ and $d_2$:\n",
        "- $dist(x^{(1)},x^{(2)}) = d_1 + d_2$\n",
        "\n",
        "<br>\n",
        "\n",
        "**note:** This distance is known as **Manhattan Distance**\n",
        "- Manhattan Distance$(dist) = [\\sum_{j=1}^{d} |x^{(1)}_j - x^{(2)}_j|^1]^1$\n",
        "\n",
        "\n",
        "\n"
      ],
      "metadata": {
        "id": "vbSkwEmp8GnL"
      }
    },
    {
      "cell_type": "markdown",
      "source": [
        "**observe**\n",
        "\n",
        "There is a common pattern between Euclidean and Manhattan Distance:\n",
        "- both have $\\sum_{j=1}^{d}|x_j^{(1)}-x_j^{(2)}|$\n",
        "\n",
        "<br>\n",
        "\n",
        "The only difference lies in the power, hence lets generalize the distance equation:\n"
      ],
      "metadata": {
        "id": "Ikvl3vHD8E75"
      }
    },
    {
      "cell_type": "markdown",
      "source": [
        "<img src=https://d2beiqkhq929f0.cloudfront.net/public_assets/assets/000/040/499/original/Screenshot_2023-07-23_at_7.48.16_PM.png?1690133415 width=700>"
      ],
      "metadata": {
        "id": "BvCJak2JzQdg"
      }
    },
    {
      "cell_type": "markdown",
      "source": [
        "\n",
        "- $dist(x^{(1)},x^{(2)}) = \\sum_{j=1}^{d} (|x_j^{(1)}-x_j^{(2)}|^p)^{\\frac{1}{p}}$\n",
        "  \n",
        "\n",
        "if p = 1:\n",
        "-  $dist(x^{(1)},x^{(2)}) = \\sum_{j=1}^{d} (|x_j^{(1)}-x_j^{(2)}|^1)^{\\frac{1}{1}} $\n",
        "- it becomes Manhattan Distance\n",
        "\n",
        "if p = 2:\n",
        "\n",
        "-  $dist(x^{(1)},x^{(2)}) = \\sum_{j=1}^{d} (|x_j^{(1)}-x_j^{(2)}|^2)^{\\frac{1}{2}} $\n",
        "- it becomes Euclidean Distance\n",
        "\n",
        "<br>\n",
        "\n",
        "\n",
        "**note:** As in Manhattan $\\sum_{j=1}^{d}|x_j^{(1)}-x_j^{(2)}|$, which is also used in L1 -Norm($\\sum_{j=1}^{d}|w_j|$):\n",
        "- hence **Manhattan distance** is also called as **L1 Distance**\n",
        "\n",
        "<br>\n",
        "\n",
        "Similarly, in Euclidean $\\sum_{j=1}^{d}|x_j^{(1)}-x_j^{(2)}|^2$, which is also used in L1 -Norm($\\sum_{j=1}^{d}w_j^2$):\n",
        "- hence **Euclidean distance** is also called as **L2 Distance**\n",
        "\n",
        "<br>\n",
        "\n",
        "\n",
        "Also all **these distance metrics are hyperparameters of kNN**\n",
        "\n",
        "\n",
        "\n"
      ],
      "metadata": {
        "id": "8vvfmXwCDDRU"
      }
    },
    {
      "cell_type": "markdown",
      "metadata": {
        "id": "td1TKYbCitIn"
      },
      "source": [
        "**QUIZ**\n",
        "\n",
        "```\n",
        "Which of the following will be Manhattan Distance between the two data point A(1,1,3) and B(1,3,5)?\n",
        "\n",
        "1. 1\n",
        "2. 2\n",
        "3. 4\n",
        "4. 5\n",
        "\n",
        "```\n",
        "**ANSWER**\n",
        "\n",
        "3. 4\n",
        "\n",
        "**Explanation**\n",
        "\n",
        "Man(A,B) = $ |1-1| + |1-3| + |3-5| = 0 + 2 + 2 = 4 $"
      ]
    },
    {
      "cell_type": "markdown",
      "source": [
        "#### Will Mahattan Distance work for One Hot Encoding ?"
      ],
      "metadata": {
        "id": "kUmf2WoK94OZ"
      }
    },
    {
      "cell_type": "markdown",
      "source": [
        "<img src=https://d2beiqkhq929f0.cloudfront.net/public_assets/assets/000/040/500/original/Screenshot_2023-07-23_at_7.48.23_PM.png?1690134078 width=700>"
      ],
      "metadata": {
        "id": "qi2_N2uA15mn"
      }
    },
    {
      "cell_type": "markdown",
      "source": [
        "\n",
        "Ans: When using One Hot Encoding:\n",
        "- $X →$ will be sparse containing many irrelevant features\n",
        "- **Manhattan distance will consider all features equally**\n",
        " - even the irrelevant ones which provide no useful information\n",
        "\n",
        "<br>\n"
      ],
      "metadata": {
        "id": "X1cJM9FlBYG_"
      }
    },
    {
      "cell_type": "markdown",
      "source": [
        "\n",
        "#### What if we used Cosine Similarity as distance when data has One Hot Encoding ?\n",
        "\n"
      ],
      "metadata": {
        "id": "fBrbyw7n99y9"
      }
    },
    {
      "cell_type": "markdown",
      "source": [
        "<img src=https://d2beiqkhq929f0.cloudfront.net/public_assets/assets/000/040/501/original/Screenshot_2023-07-23_at_7.48.29_PM.png?1690134118 width=700>"
      ],
      "metadata": {
        "id": "l3eJoTjT18W6"
      }
    },
    {
      "cell_type": "markdown",
      "source": [
        "Ans: As **cosine similarity focuses on the direction of the vectors**:\n",
        "- $Cosine Similarity (x^{(1)},x^{(2)}) = \\frac{x^{(1)}. \\space x^{(2)}}{||x^{(1)}|| \\space ||x^{(2)}||}$\n",
        "\n",
        "- It can **effectively ignore irrelevant features** and make **kNN more robust for high-dimensional sparse data**\n",
        "\n",
        "<br>\n",
        "\n",
        "\n",
        "\n"
      ],
      "metadata": {
        "id": "Oq_11X5K9_p7"
      }
    },
    {
      "cell_type": "markdown",
      "source": [
        "**quiz**\n",
        "\n",
        "```\n",
        "What will be the range of Cosine Similarity ?\n",
        "\n",
        "a) [-1,1]\n",
        "b)[0,∞]\n",
        "c)[-∞,∞]\n",
        "d)[-∞,0]\n",
        "\n",
        "\n",
        "```\n",
        "**Correct Answer**\n",
        "a) [-1,1]"
      ],
      "metadata": {
        "id": "CTxDGAgVEZKZ"
      }
    },
    {
      "cell_type": "markdown",
      "source": [
        "As Cosine Similarity ranges from [-1,1], this means:\n",
        "\n",
        "1. $x^{(1)},x^{(2)}$ similar if $Cosine Similarity = 1$\n",
        "2. $x^{(1)},x^{(2)}$ dissimilar if $Cosine Similarity = -1$\n",
        "\n",
        "<br>\n",
        "\n"
      ],
      "metadata": {
        "id": "uGVpG1Gc6S3P"
      }
    },
    {
      "cell_type": "markdown",
      "source": [
        "**quiz** (what do you think)\n",
        "\n",
        "```\n",
        "How will kNN sort distance when using CosineSimilarity ?\n",
        "\n",
        "a) Ascending\n",
        "b) Descending\n",
        "\n",
        "```\n",
        "**correct Answer**\n",
        "b) Descending"
      ],
      "metadata": {
        "id": "yKev2eewFZDY"
      }
    },
    {
      "cell_type": "markdown",
      "source": [
        "#### Which distance metrics to use for kNN?\n"
      ],
      "metadata": {
        "id": "VGia7rrJGeK4"
      }
    },
    {
      "cell_type": "markdown",
      "source": [
        "<img src=https://d2beiqkhq929f0.cloudfront.net/public_assets/assets/000/040/502/original/Screenshot_2023-07-23_at_7.48.36_PM.png?1690134154 width=700>"
      ],
      "metadata": {
        "id": "3Mjtnd3U2Koc"
      }
    },
    {
      "cell_type": "markdown",
      "source": [
        "\n",
        "Ans: Lets look into all 4 distance metrics:\n",
        "\n",
        "1. Euclidean (Most Common) → useful when dimension of data is small\n",
        "2. Mahattan → useful when data represents maps\n",
        "3. Cosine Similarity (Most Common) → useful when dimension of data is large\n",
        "4. Minkowski → useful when a custom distance metric is needed"
      ],
      "metadata": {
        "id": "5KRWWOik-HGK"
      }
    },
    {
      "cell_type": "markdown",
      "source": [
        "<img src=https://d2beiqkhq929f0.cloudfront.net/public_assets/assets/000/040/505/original/Screenshot_2023-07-23_at_7.48.42_PM.png?1690134288 width=700>"
      ],
      "metadata": {
        "id": "u9nP3FOt2jBH"
      }
    },
    {
      "cell_type": "markdown",
      "source": [
        "<img src=https://d2beiqkhq929f0.cloudfront.net/public_assets/assets/000/040/506/original/Screenshot_2023-07-23_at_7.48.49_PM.png?1690134332 width=700>"
      ],
      "metadata": {
        "id": "1zmRTMgr2jSa"
      }
    },
    {
      "cell_type": "markdown",
      "source": [
        "# Optional"
      ],
      "metadata": {
        "id": "BWg0CDLG2QGt"
      }
    },
    {
      "cell_type": "markdown",
      "source": [
        "Remember in Logistic Regression, the sigmoid output:\n",
        "-  $p^{(i)} = P(y^{(i)}=1|x^{(i)})$ is the probability\n",
        " - showing how confident the model is that the datapoint belong to class1\n",
        "\n",
        "<br>\n",
        "\n",
        "#### Is there a way to find probability of a class using kNN ?"
      ],
      "metadata": {
        "id": "lKomNxG2HY6g"
      }
    },
    {
      "cell_type": "markdown",
      "source": [
        "![Screenshot 2023-06-26 at 6.59.12 PM.png](data:image/png;base64,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)"
      ],
      "metadata": {
        "id": "yFDWXl5s-OIg"
      }
    },
    {
      "cell_type": "markdown",
      "source": [
        "Ans: Suppose k = 5 and the 5 nearest neighbors are:\n",
        "\n",
        "||Class label (y)|\n",
        "|:--|:--|\n",
        "|$x^{(4)}$| $(+)$ |\n",
        "|$x^{(8)}$| $(-)$ |\n",
        "|$x^{(10)}$| $(+)$ |\n",
        "|$x^{(1)}$| $(+)$ |\n",
        "|$x^{(6)}$| $(o)$ |\n",
        "\n",
        "Then $p^{(+)} = \\frac{count \\space of \\space all \\space the \\space (+) \\space class \\space neighbors}{total \\space no \\space of \\space neighbors} = \\frac{3}{5} = 0.6$\n",
        "\n",
        "- Simiarly $p^{(-)} = \\frac{count \\space of \\space all \\space the \\space (-) \\space class \\space neighbors}{total \\space no \\space of \\space neighbors} = \\frac{1}{5} = 0.2$\n",
        "\n",
        "- and $p^{(o)} = \\frac{count \\space of \\space all \\space the \\space (o) \\space class \\space neighbors}{total \\space no \\space of \\space neighbors} = \\frac{1}{5} = 0.2$\n",
        "\n",
        "\n",
        "<br>\n",
        "\n",
        "this shows:\n",
        "- kNN is 60% confident that $x^q$ has class label $= (+) $"
      ],
      "metadata": {
        "id": "5qWFqI7gGgBV"
      }
    },
    {
      "cell_type": "markdown",
      "metadata": {
        "id": "VW9ELmt0dBmT"
      },
      "source": [
        "**QUIZ**\n",
        "\n",
        "```\n",
        "What will be the probalistic class label when we have K = 10, with 6 +ve and 4 -ve class count ?\n",
        "\n",
        "a. 0.6 , 0.3\n",
        "b. 0.80 , 0.12\n",
        "c. 0.12 , 0.80\n",
        "d. 0.3 , 0.6\n",
        "```\n",
        "\n",
        "**ANSWER**\n",
        "a. 0.6 , 0.3\n",
        "\n"
      ]
    },
    {
      "cell_type": "markdown",
      "source": [
        "# **Application of kNN**"
      ],
      "metadata": {
        "id": "sGpKDs2AKmNo"
      }
    },
    {
      "cell_type": "markdown",
      "source": [
        "#**LSH (Locality Sensitive Hashing)**"
      ],
      "metadata": {
        "id": "vhFWQ_SyuBBd"
      }
    },
    {
      "cell_type": "markdown",
      "source": [
        "We already know that:\n",
        "- time time complexity of kNN $= O(nd+ nlogn)$\n",
        "\n",
        "Such a high time complexity makes:\n",
        "- kNN not a suitable model for Real World scenarios\n",
        "- where finding similar data has to happen in real time\n",
        "\n",
        "<br>\n",
        "\n",
        "### But ever wondered how **Google images is able to provide pictures of famous monuments** just by **searching a city's name** ?\n",
        "\n",
        "Ans: To your Surpise:\n",
        "- Google does uses kNN for this [Google ScaNN: Efficient Vector Similarity Search](https://ai.googleblog.com/2020/07/announcing-scann-efficient-vector.html)\n",
        "\n",
        "\n",
        "\n",
        "\n",
        "\n"
      ],
      "metadata": {
        "id": "__u3vDHwuFog"
      }
    },
    {
      "cell_type": "markdown",
      "source": [
        "<img src=https://d2beiqkhq929f0.cloudfront.net/public_assets/assets/000/040/503/original/Screenshot_2023-07-23_at_7.48.56_PM.png?1690134225 width=700>"
      ],
      "metadata": {
        "id": "bl5j3JTz2dsS"
      }
    },
    {
      "cell_type": "markdown",
      "source": [
        "#### But how kNN works so fast ?\n",
        "\n",
        "Ans: By using a specific **Hashing Algorithm** called **LSH (Locality Sensitive Hashing)**\n"
      ],
      "metadata": {
        "id": "0V-6Arjz2dLb"
      }
    },
    {
      "cell_type": "markdown",
      "source": [
        "<img src=https://d2beiqkhq929f0.cloudfront.net/public_assets/assets/000/040/507/original/Screenshot_2023-07-23_at_7.49.04_PM.png?1690134685 width=700>"
      ],
      "metadata": {
        "id": "KkxwEfnf2U0i"
      }
    },
    {
      "cell_type": "markdown",
      "source": [
        "Lets have a quick recap on\n",
        "\n",
        "#### What Hashing is ?\n",
        "\n",
        "Ans: Hashing is a Data Structuring Algorithm (DSA):\n",
        "\n",
        "- **Hashing stores data** such that every **Value** has a  **unique Key**\n",
        "- This makes Hashing table to contain **Key- Value Pair**\n",
        "\n",
        "|Key|Value|\n",
        "|:--|:--|\n",
        "|'Delhi'|['Indian Gate','Red Fort','Qutub Minar']|\n",
        "|'Mumbai'|['Gateway of India','Marine Drive']|\n",
        "\n",
        "If we want to know about **Delhi**\n",
        "- Hash returns ['Indian Gate','Red Fort','Qutub Minar'] as value\n",
        "\n",
        "<br>\n",
        "\n",
        "**observe**\n",
        "\n",
        "Hashing is **analogus to Dictonary**\n",
        "\n"
      ],
      "metadata": {
        "id": "6OqSJB1IuGnf"
      }
    },
    {
      "cell_type": "markdown",
      "source": [
        "#### How does LSH work ?\n"
      ],
      "metadata": {
        "id": "OVjTmnoDuGk0"
      }
    },
    {
      "cell_type": "markdown",
      "source": [],
      "metadata": {
        "id": "UDE45c1U4EEE"
      }
    },
    {
      "cell_type": "markdown",
      "source": [
        " <img src=https://d2beiqkhq929f0.cloudfront.net/public_assets/assets/000/040/508/original/Screenshot_2023-07-23_at_7.49.10_PM.png?1690134720 width=700>"
      ],
      "metadata": {
        "id": "vq8Vl5tw4bXd"
      }
    },
    {
      "cell_type": "markdown",
      "source": [
        "Ans: Lets understand LSH working with a data which looks like:\n",
        "\n",
        "Suppose if the data looks like:\n",
        "\n",
        "||f1|f2|f3|\n",
        "|:--|:--|:--|:--|\n",
        "|$x^{(1)}$|5|10|7|\n",
        "|$x^{(2)}$|-1|0|-10|\n",
        "|$x^{(3)}$|-20|20|20|\n",
        "|$x^{(4)}$|100|20|30|\n",
        "\n",
        "\n",
        "<br>\n",
        "\n",
        "LSH uses a randomized hashing function $h(x)$:\n",
        "- Which creates the Unqiue keys for the hashtable\n",
        "\n"
      ],
      "metadata": {
        "id": "nHeOaZqw0ueO"
      }
    },
    {
      "cell_type": "markdown",
      "source": [
        "<img src=https://d2beiqkhq929f0.cloudfront.net/public_assets/assets/000/040/509/original/Screenshot_2023-07-23_at_7.49.16_PM.png?1690134790 width=700>"
      ],
      "metadata": {
        "id": "k6HZtVHo4ZBv"
      }
    },
    {
      "cell_type": "markdown",
      "source": [
        "\n",
        "Suppose we take a vector of random values $v = [10,-20,30]$,\n",
        "- so if $f1,f2,f3\\geq v$, then value = 1 else 0\n",
        "\n",
        "\n",
        "||f1|f2|f3|Hash Function $h(x)$|\n",
        "|:--|:--|:--|:--|:--|\n",
        "|$x^{(1)}$|5|10|7| [0,1,0]|\n",
        "|$x^{(2)}$|30|0|10|[1,1,0]|\n",
        "|$x^{(3)}$|-20|20|50| [0,1,1]|\n",
        "|$x^{(4)}$|8|20|10| [0,1,0]|\n",
        "\n",
        "<br>\n"
      ],
      "metadata": {
        "id": "9qnVBQMxuGfH"
      }
    },
    {
      "cell_type": "markdown",
      "source": [
        "<img src=https://d2beiqkhq929f0.cloudfront.net/public_assets/assets/000/040/510/original/Screenshot_2023-07-23_at_7.49.22_PM.png?1690134950 width=700>"
      ],
      "metadata": {
        "id": "6Y6uHGgE5NXN"
      }
    },
    {
      "cell_type": "markdown",
      "source": [
        "\n",
        "Using the HashFunction\n",
        "- we club the $x^{(i)}$ which have the same HashFunction value\n",
        "\n",
        "\n",
        "\n",
        "|Hash Function $h(x)$| value|\n",
        "|:--|:--|\n",
        "|[0,1,0]|$x^{(1)}$, $x^{(4)}$|\n",
        "|[1,1,0]|$x^{(2)}$|\n",
        "|[0,1,1]|$x^{(3)}$|\n",
        "\n",
        "\n",
        "<br>\n",
        "\n",
        "**Observe:**\n",
        "\n",
        "LSH is grouping similar datapoints together:\n",
        "- As $x^{(1)}$, $x^{(4)}$ **are grouped into one Key**\n",
        "\n",
        "This means that for the two points $x^{(1)}$, $x^{(4)}$ :\n",
        "\n",
        "1. $P(h(x^{(1)}) == h(x^{(4)}))$ will be high:\n",
        " -  So LSH concludes $x^{(1)}$ and $x^{(4)}$ are near.\n",
        " - Hence give them a single key\n",
        "\n",
        "2. Similarly, as $P(h(x^{(1)}) == h(x^{(3)}))$ is Low\n",
        " - So LSH concludes $x^{(1)}$ and $x^{(3)}$ are far apart\n",
        " - Hence give them different key\n",
        "\n",
        "\n",
        "\n",
        "\n",
        "\n",
        "\n",
        "\n",
        "\n",
        "\n",
        "\n",
        "\n"
      ],
      "metadata": {
        "id": "SEuIbRCj073-"
      }
    },
    {
      "cell_type": "markdown",
      "source": [
        "<img src=https://d2beiqkhq929f0.cloudfront.net/public_assets/assets/000/040/511/original/Screenshot_2023-07-23_at_7.49.29_PM.png?1690134992 width=700>"
      ],
      "metadata": {
        "id": "IvWeJDsC5Xux"
      }
    },
    {
      "cell_type": "markdown",
      "source": [
        "<br>\n",
        "\n",
        "As LSH groups similar datapoints together,\n",
        "- Now if we have a query point $x^q$ whose hash value = [0,1,0]\n",
        "\n",
        "Instead of using kNN for the entire data\n",
        "- kNN is done only for datapoints which have hash value = [0,1,0]\n",
        "\n",
        "Hence LSH approach fastens the kNN as:\n",
        "- kNN is performed only on subset of data\n"
      ],
      "metadata": {
        "id": "j-nAvbhF5c37"
      }
    },
    {
      "cell_type": "markdown",
      "source": [
        "<img src=https://d2beiqkhq929f0.cloudfront.net/public_assets/assets/000/040/512/original/Screenshot_2023-07-23_at_7.49.35_PM.png?1690135057 width=700>"
      ],
      "metadata": {
        "id": "0JtTvaC75nDv"
      }
    },
    {
      "cell_type": "markdown",
      "source": [
        "<img src=https://d2beiqkhq929f0.cloudfront.net/public_assets/assets/000/040/513/original/Screenshot_2023-07-23_at_7.49.41_PM.png?1690135113 width=700>"
      ],
      "metadata": {
        "id": "x-9KC-SP5o4a"
      }
    },
    {
      "cell_type": "markdown",
      "source": [
        "<img src=https://d2beiqkhq929f0.cloudfront.net/public_assets/assets/000/040/514/original/Screenshot_2023-07-23_at_7.49.47_PM.png?1690135140 width=700>"
      ],
      "metadata": {
        "id": "PGvwVXF45pRq"
      }
    },
    {
      "cell_type": "markdown",
      "metadata": {
        "id": "YyxDxM6VoJah"
      },
      "source": [
        "## **KNN based Imputation**"
      ]
    },
    {
      "cell_type": "markdown",
      "source": [
        "Suppose for some training data $x^{(i)}$:\n",
        "\n",
        "- There is missing value at $f_j$\n",
        "\n",
        "<br>\n",
        "\n",
        "#### What all techniques to use to for imputing the missing value?"
      ],
      "metadata": {
        "id": "LxLZ-sIz-WCA"
      }
    },
    {
      "cell_type": "markdown",
      "source": [
        "<img src=https://d2beiqkhq929f0.cloudfront.net/public_assets/assets/000/040/515/original/Screenshot_2023-07-23_at_7.49.53_PM.png?1690135168 width=700>"
      ],
      "metadata": {
        "id": "7glx0zA_59ii"
      }
    },
    {
      "cell_type": "markdown",
      "source": [
        "\n",
        "\n",
        "ans: Imputing the missing value for $f_j$ at $x^{(i)}:$\n",
        "1. mean or median of $f_j$ feature\n",
        "2. Analysing the data and then manually entrying value\n",
        "3. mean or median of the entire data\n",
        "\n",
        "<br>\n"
      ],
      "metadata": {
        "id": "pKdVtGtmLlVN"
      }
    },
    {
      "cell_type": "markdown",
      "source": [
        "#### Can kNN be used to impute missing data ?\n",
        "\n",
        "Ans: Yes, but only if we follow these steps:\n",
        "\n"
      ],
      "metadata": {
        "id": "jTSIPwEg-esU"
      }
    },
    {
      "cell_type": "markdown",
      "source": [
        "1. **Step1:** exclude $f_j$ feature from the data"
      ],
      "metadata": {
        "id": "Jd352YqP6kUS"
      }
    },
    {
      "cell_type": "markdown",
      "source": [
        "<img src=https://d2beiqkhq929f0.cloudfront.net/public_assets/assets/000/040/516/original/Screenshot_2023-07-23_at_7.50.00_PM.png?1690135208 width=700>"
      ],
      "metadata": {
        "id": "hV3Wr-JZ6GUx"
      }
    },
    {
      "cell_type": "markdown",
      "source": [
        "\n",
        "\n",
        "2. **Step2:** Find nearest neighbors for $x^{(i)}$\n",
        "\n"
      ],
      "metadata": {
        "id": "nkqbzmmy-gKI"
      }
    },
    {
      "cell_type": "markdown",
      "source": [
        "<img src=https://d2beiqkhq929f0.cloudfront.net/public_assets/assets/000/040/517/original/Screenshot_2023-07-23_at_7.50.06_PM.png?1690135242 width=700>"
      ],
      "metadata": {
        "id": "DHzb45As6PGO"
      }
    },
    {
      "cell_type": "markdown",
      "source": [
        "\n",
        "3. **Step3:** Find mean for $f_j$ feature for the nearest neighbors\n"
      ],
      "metadata": {
        "id": "imosLZss-l1W"
      }
    },
    {
      "cell_type": "markdown",
      "source": [
        "<img src=https://d2beiqkhq929f0.cloudfront.net/public_assets/assets/000/040/518/original/Screenshot_2023-07-23_at_7.50.12_PM.png?1690135291 width=700>"
      ],
      "metadata": {
        "id": "Z8nFmtZj6aBL"
      }
    },
    {
      "cell_type": "markdown",
      "source": [
        "- This **mean of $f_j$ for nearest neighbor is  then imputed  for missing value of $x^{(i)}$**"
      ],
      "metadata": {
        "id": "qTlc92Dh6adD"
      }
    },
    {
      "cell_type": "markdown",
      "source": [
        "<img src=https://d2beiqkhq929f0.cloudfront.net/public_assets/assets/000/040/512/original/Screenshot_2023-07-23_at_7.49.35_PM.png?1690135057 width=700>"
      ],
      "metadata": {
        "id": "GV6bkpp7619E"
      }
    },
    {
      "cell_type": "markdown",
      "source": [
        "<img src=https://d2beiqkhq929f0.cloudfront.net/public_assets/assets/000/040/513/original/Screenshot_2023-07-23_at_7.49.41_PM.png?1690135113 width=700>"
      ],
      "metadata": {
        "id": "NTxQb5lh619R"
      }
    },
    {
      "cell_type": "markdown",
      "source": [
        "<img src=https://d2beiqkhq929f0.cloudfront.net/public_assets/assets/000/040/519/original/Screenshot_2023-07-23_at_7.50.31_PM.png?1690135354 width=700>"
      ],
      "metadata": {
        "id": "wcqYYWsh6xiZ"
      }
    },
    {
      "cell_type": "markdown",
      "metadata": {
        "id": "OxmZFDE1jKIM"
      },
      "source": [
        "Lets implement KNNImputator\n",
        "- By creating a Dummy data having two nan  "
      ]
    },
    {
      "cell_type": "code",
      "execution_count": null,
      "metadata": {
        "colab": {
          "base_uri": "https://localhost:8080/"
        },
        "id": "s5JYptefBAgC",
        "outputId": "982d6b6f-501f-41e8-f1ca-592eef1bc82e"
      },
      "outputs": [
        {
          "output_type": "stream",
          "name": "stdout",
          "text": [
            "Downloading...\n",
            "From: https://drive.google.com/uc?id=1vDIXh1yJxLpmgdh3gZGM6WX0u3GCPuIS\n",
            "To: /content/knn_imputation.csv\n",
            "\r  0% 0.00/12.9k [00:00<?, ?B/s]\r100% 12.9k/12.9k [00:00<00:00, 23.9MB/s]\n"
          ]
        }
      ],
      "source": [
        "!gdown 1vDIXh1yJxLpmgdh3gZGM6WX0u3GCPuIS\n"
      ]
    },
    {
      "cell_type": "code",
      "execution_count": null,
      "metadata": {
        "id": "oA4vGg1rA8C_"
      },
      "outputs": [],
      "source": [
        "import pandas as pd\n",
        "import numpy as np\n",
        "\n",
        "df_imp = pd.read_csv('knn_imputation.csv')\n",
        "df_imp.drop(['Unnamed: 0'],axis=1,inplace=True)"
      ]
    },
    {
      "cell_type": "code",
      "execution_count": null,
      "metadata": {
        "colab": {
          "base_uri": "https://localhost:8080/"
        },
        "id": "GlJYWUSwnT7V",
        "outputId": "0490dfe7-2751-4ccd-8246-5b398ac506cf"
      },
      "outputs": [
        {
          "output_type": "execute_result",
          "data": {
            "text/plain": [
              "   Region    Fresh    Milk  Grocery  Frozen  Detergents_Paper  Delicassen\n",
              "0     3.0  12669.0  9656.0   7561.0   214.0            2674.0      1338.0\n",
              "1     3.0   7057.0  9810.0   9568.0  1762.0            3293.0      1776.0\n",
              "2     3.0   6353.0  8808.0      NaN  2405.0            3516.0      7844.0\n",
              "3     3.0  13265.0  1196.0   4221.0  6404.0             507.0      1788.0\n",
              "4     3.0  22615.0  5410.0   7198.0  3915.0            1777.0      5185.0"
            ],
            "text/html": [
              "\n",
              "  <div id=\"df-3a058cb0-81ca-40e9-b701-0052f280dae6\" class=\"colab-df-container\">\n",
              "    <div>\n",
              "<style scoped>\n",
              "    .dataframe tbody tr th:only-of-type {\n",
              "        vertical-align: middle;\n",
              "    }\n",
              "\n",
              "    .dataframe tbody tr th {\n",
              "        vertical-align: top;\n",
              "    }\n",
              "\n",
              "    .dataframe thead th {\n",
              "        text-align: right;\n",
              "    }\n",
              "</style>\n",
              "<table border=\"1\" class=\"dataframe\">\n",
              "  <thead>\n",
              "    <tr style=\"text-align: right;\">\n",
              "      <th></th>\n",
              "      <th>Region</th>\n",
              "      <th>Fresh</th>\n",
              "      <th>Milk</th>\n",
              "      <th>Grocery</th>\n",
              "      <th>Frozen</th>\n",
              "      <th>Detergents_Paper</th>\n",
              "      <th>Delicassen</th>\n",
              "    </tr>\n",
              "  </thead>\n",
              "  <tbody>\n",
              "    <tr>\n",
              "      <th>0</th>\n",
              "      <td>3.0</td>\n",
              "      <td>12669.0</td>\n",
              "      <td>9656.0</td>\n",
              "      <td>7561.0</td>\n",
              "      <td>214.0</td>\n",
              "      <td>2674.0</td>\n",
              "      <td>1338.0</td>\n",
              "    </tr>\n",
              "    <tr>\n",
              "      <th>1</th>\n",
              "      <td>3.0</td>\n",
              "      <td>7057.0</td>\n",
              "      <td>9810.0</td>\n",
              "      <td>9568.0</td>\n",
              "      <td>1762.0</td>\n",
              "      <td>3293.0</td>\n",
              "      <td>1776.0</td>\n",
              "    </tr>\n",
              "    <tr>\n",
              "      <th>2</th>\n",
              "      <td>3.0</td>\n",
              "      <td>6353.0</td>\n",
              "      <td>8808.0</td>\n",
              "      <td>NaN</td>\n",
              "      <td>2405.0</td>\n",
              "      <td>3516.0</td>\n",
              "      <td>7844.0</td>\n",
              "    </tr>\n",
              "    <tr>\n",
              "      <th>3</th>\n",
              "      <td>3.0</td>\n",
              "      <td>13265.0</td>\n",
              "      <td>1196.0</td>\n",
              "      <td>4221.0</td>\n",
              "      <td>6404.0</td>\n",
              "      <td>507.0</td>\n",
              "      <td>1788.0</td>\n",
              "    </tr>\n",
              "    <tr>\n",
              "      <th>4</th>\n",
              "      <td>3.0</td>\n",
              "      <td>22615.0</td>\n",
              "      <td>5410.0</td>\n",
              "      <td>7198.0</td>\n",
              "      <td>3915.0</td>\n",
              "      <td>1777.0</td>\n",
              "      <td>5185.0</td>\n",
              "    </tr>\n",
              "  </tbody>\n",
              "</table>\n",
              "</div>\n",
              "    <div class=\"colab-df-buttons\">\n",
              "\n",
              "  <div class=\"colab-df-container\">\n",
              "    <button class=\"colab-df-convert\" onclick=\"convertToInteractive('df-3a058cb0-81ca-40e9-b701-0052f280dae6')\"\n",
              "            title=\"Convert this dataframe to an interactive table.\"\n",
              "            style=\"display:none;\">\n",
              "\n",
              "  <svg xmlns=\"http://www.w3.org/2000/svg\" height=\"24px\" viewBox=\"0 -960 960 960\">\n",
              "    <path d=\"M120-120v-720h720v720H120Zm60-500h600v-160H180v160Zm220 220h160v-160H400v160Zm0 220h160v-160H400v160ZM180-400h160v-160H180v160Zm440 0h160v-160H620v160ZM180-180h160v-160H180v160Zm440 0h160v-160H620v160Z\"/>\n",
              "  </svg>\n",
              "    </button>\n",
              "\n",
              "  <style>\n",
              "    .colab-df-container {\n",
              "      display:flex;\n",
              "      gap: 12px;\n",
              "    }\n",
              "\n",
              "    .colab-df-convert {\n",
              "      background-color: #E8F0FE;\n",
              "      border: none;\n",
              "      border-radius: 50%;\n",
              "      cursor: pointer;\n",
              "      display: none;\n",
              "      fill: #1967D2;\n",
              "      height: 32px;\n",
              "      padding: 0 0 0 0;\n",
              "      width: 32px;\n",
              "    }\n",
              "\n",
              "    .colab-df-convert:hover {\n",
              "      background-color: #E2EBFA;\n",
              "      box-shadow: 0px 1px 2px rgba(60, 64, 67, 0.3), 0px 1px 3px 1px rgba(60, 64, 67, 0.15);\n",
              "      fill: #174EA6;\n",
              "    }\n",
              "\n",
              "    .colab-df-buttons div {\n",
              "      margin-bottom: 4px;\n",
              "    }\n",
              "\n",
              "    [theme=dark] .colab-df-convert {\n",
              "      background-color: #3B4455;\n",
              "      fill: #D2E3FC;\n",
              "    }\n",
              "\n",
              "    [theme=dark] .colab-df-convert:hover {\n",
              "      background-color: #434B5C;\n",
              "      box-shadow: 0px 1px 3px 1px rgba(0, 0, 0, 0.15);\n",
              "      filter: drop-shadow(0px 1px 2px rgba(0, 0, 0, 0.3));\n",
              "      fill: #FFFFFF;\n",
              "    }\n",
              "  </style>\n",
              "\n",
              "    <script>\n",
              "      const buttonEl =\n",
              "        document.querySelector('#df-3a058cb0-81ca-40e9-b701-0052f280dae6 button.colab-df-convert');\n",
              "      buttonEl.style.display =\n",
              "        google.colab.kernel.accessAllowed ? 'block' : 'none';\n",
              "\n",
              "      async function convertToInteractive(key) {\n",
              "        const element = document.querySelector('#df-3a058cb0-81ca-40e9-b701-0052f280dae6');\n",
              "        const dataTable =\n",
              "          await google.colab.kernel.invokeFunction('convertToInteractive',\n",
              "                                                    [key], {});\n",
              "        if (!dataTable) return;\n",
              "\n",
              "        const docLinkHtml = 'Like what you see? Visit the ' +\n",
              "          '<a target=\"_blank\" href=https://colab.research.google.com/notebooks/data_table.ipynb>data table notebook</a>'\n",
              "          + ' to learn more about interactive tables.';\n",
              "        element.innerHTML = '';\n",
              "        dataTable['output_type'] = 'display_data';\n",
              "        await google.colab.output.renderOutput(dataTable, element);\n",
              "        const docLink = document.createElement('div');\n",
              "        docLink.innerHTML = docLinkHtml;\n",
              "        element.appendChild(docLink);\n",
              "      }\n",
              "    </script>\n",
              "  </div>\n",
              "\n",
              "\n",
              "<div id=\"df-e8a47f2e-99da-4dbf-96ba-512d74c5efa0\">\n",
              "  <button class=\"colab-df-quickchart\" onclick=\"quickchart('df-e8a47f2e-99da-4dbf-96ba-512d74c5efa0')\"\n",
              "            title=\"Suggest charts\"\n",
              "            style=\"display:none;\">\n",
              "\n",
              "<svg xmlns=\"http://www.w3.org/2000/svg\" height=\"24px\"viewBox=\"0 0 24 24\"\n",
              "     width=\"24px\">\n",
              "    <g>\n",
              "        <path d=\"M19 3H5c-1.1 0-2 .9-2 2v14c0 1.1.9 2 2 2h14c1.1 0 2-.9 2-2V5c0-1.1-.9-2-2-2zM9 17H7v-7h2v7zm4 0h-2V7h2v10zm4 0h-2v-4h2v4z\"/>\n",
              "    </g>\n",
              "</svg>\n",
              "  </button>\n",
              "\n",
              "<style>\n",
              "  .colab-df-quickchart {\n",
              "      --bg-color: #E8F0FE;\n",
              "      --fill-color: #1967D2;\n",
              "      --hover-bg-color: #E2EBFA;\n",
              "      --hover-fill-color: #174EA6;\n",
              "      --disabled-fill-color: #AAA;\n",
              "      --disabled-bg-color: #DDD;\n",
              "  }\n",
              "\n",
              "  [theme=dark] .colab-df-quickchart {\n",
              "      --bg-color: #3B4455;\n",
              "      --fill-color: #D2E3FC;\n",
              "      --hover-bg-color: #434B5C;\n",
              "      --hover-fill-color: #FFFFFF;\n",
              "      --disabled-bg-color: #3B4455;\n",
              "      --disabled-fill-color: #666;\n",
              "  }\n",
              "\n",
              "  .colab-df-quickchart {\n",
              "    background-color: var(--bg-color);\n",
              "    border: none;\n",
              "    border-radius: 50%;\n",
              "    cursor: pointer;\n",
              "    display: none;\n",
              "    fill: var(--fill-color);\n",
              "    height: 32px;\n",
              "    padding: 0;\n",
              "    width: 32px;\n",
              "  }\n",
              "\n",
              "  .colab-df-quickchart:hover {\n",
              "    background-color: var(--hover-bg-color);\n",
              "    box-shadow: 0 1px 2px rgba(60, 64, 67, 0.3), 0 1px 3px 1px rgba(60, 64, 67, 0.15);\n",
              "    fill: var(--button-hover-fill-color);\n",
              "  }\n",
              "\n",
              "  .colab-df-quickchart-complete:disabled,\n",
              "  .colab-df-quickchart-complete:disabled:hover {\n",
              "    background-color: var(--disabled-bg-color);\n",
              "    fill: var(--disabled-fill-color);\n",
              "    box-shadow: none;\n",
              "  }\n",
              "\n",
              "  .colab-df-spinner {\n",
              "    border: 2px solid var(--fill-color);\n",
              "    border-color: transparent;\n",
              "    border-bottom-color: var(--fill-color);\n",
              "    animation:\n",
              "      spin 1s steps(1) infinite;\n",
              "  }\n",
              "\n",
              "  @keyframes spin {\n",
              "    0% {\n",
              "      border-color: transparent;\n",
              "      border-bottom-color: var(--fill-color);\n",
              "      border-left-color: var(--fill-color);\n",
              "    }\n",
              "    20% {\n",
              "      border-color: transparent;\n",
              "      border-left-color: var(--fill-color);\n",
              "      border-top-color: var(--fill-color);\n",
              "    }\n",
              "    30% {\n",
              "      border-color: transparent;\n",
              "      border-left-color: var(--fill-color);\n",
              "      border-top-color: var(--fill-color);\n",
              "      border-right-color: var(--fill-color);\n",
              "    }\n",
              "    40% {\n",
              "      border-color: transparent;\n",
              "      border-right-color: var(--fill-color);\n",
              "      border-top-color: var(--fill-color);\n",
              "    }\n",
              "    60% {\n",
              "      border-color: transparent;\n",
              "      border-right-color: var(--fill-color);\n",
              "    }\n",
              "    80% {\n",
              "      border-color: transparent;\n",
              "      border-right-color: var(--fill-color);\n",
              "      border-bottom-color: var(--fill-color);\n",
              "    }\n",
              "    90% {\n",
              "      border-color: transparent;\n",
              "      border-bottom-color: var(--fill-color);\n",
              "    }\n",
              "  }\n",
              "</style>\n",
              "\n",
              "  <script>\n",
              "    async function quickchart(key) {\n",
              "      const quickchartButtonEl =\n",
              "        document.querySelector('#' + key + ' button');\n",
              "      quickchartButtonEl.disabled = true;  // To prevent multiple clicks.\n",
              "      quickchartButtonEl.classList.add('colab-df-spinner');\n",
              "      try {\n",
              "        const charts = await google.colab.kernel.invokeFunction(\n",
              "            'suggestCharts', [key], {});\n",
              "      } catch (error) {\n",
              "        console.error('Error during call to suggestCharts:', error);\n",
              "      }\n",
              "      quickchartButtonEl.classList.remove('colab-df-spinner');\n",
              "      quickchartButtonEl.classList.add('colab-df-quickchart-complete');\n",
              "    }\n",
              "    (() => {\n",
              "      let quickchartButtonEl =\n",
              "        document.querySelector('#df-e8a47f2e-99da-4dbf-96ba-512d74c5efa0 button');\n",
              "      quickchartButtonEl.style.display =\n",
              "        google.colab.kernel.accessAllowed ? 'block' : 'none';\n",
              "    })();\n",
              "  </script>\n",
              "</div>\n",
              "\n",
              "    </div>\n",
              "  </div>\n"
            ],
            "application/vnd.google.colaboratory.intrinsic+json": {
              "type": "dataframe",
              "variable_name": "df_imp",
              "summary": "{\n  \"name\": \"df_imp\",\n  \"rows\": 267,\n  \"fields\": [\n    {\n      \"column\": \"Region\",\n      \"properties\": {\n        \"dtype\": \"number\",\n        \"std\": 0.7382615254188728,\n        \"min\": 1.0,\n        \"max\": 3.0,\n        \"num_unique_values\": 3,\n        \"samples\": [\n          3.0,\n          1.0,\n          2.0\n        ],\n        \"semantic_type\": \"\",\n        \"description\": \"\"\n      }\n    },\n    {\n      \"column\": \"Fresh\",\n      \"properties\": {\n        \"dtype\": \"number\",\n        \"std\": 14680.293498863883,\n        \"min\": 18.0,\n        \"max\": 112151.0,\n        \"num_unique_values\": 253,\n        \"samples\": [\n          1210.0,\n          6006.0,\n          18044.0\n        ],\n        \"semantic_type\": \"\",\n        \"description\": \"\"\n      }\n    },\n    {\n      \"column\": \"Milk\",\n      \"properties\": {\n        \"dtype\": \"number\",\n        \"std\": 8907.966732286997,\n        \"min\": 134.0,\n        \"max\": 73498.0,\n        \"num_unique_values\": 249,\n        \"samples\": [\n          1475.0,\n          11093.0,\n          5291.0\n        ],\n        \"semantic_type\": \"\",\n        \"description\": \"\"\n      }\n    },\n    {\n      \"column\": \"Grocery\",\n      \"properties\": {\n        \"dtype\": \"number\",\n        \"std\": 11185.416807990503,\n        \"min\": 3.0,\n        \"max\": 92780.0,\n        \"num_unique_values\": 258,\n        \"samples\": [\n          16267.0,\n          15775.0,\n          12091.0\n        ],\n        \"semantic_type\": \"\",\n        \"description\": \"\"\n      }\n    },\n    {\n      \"column\": \"Frozen\",\n      \"properties\": {\n        \"dtype\": \"number\",\n        \"std\": 5686.207745351967,\n        \"min\": 25.0,\n        \"max\": 60869.0,\n        \"num_unique_values\": 253,\n        \"samples\": [\n          2809.0,\n          1159.0,\n          3220.0\n        ],\n        \"semantic_type\": \"\",\n        \"description\": \"\"\n      }\n    },\n    {\n      \"column\": \"Detergents_Paper\",\n      \"properties\": {\n        \"dtype\": \"number\",\n        \"std\": 5759.558698302976,\n        \"min\": 3.0,\n        \"max\": 40827.0,\n        \"num_unique_values\": 253,\n        \"samples\": [\n          90.0,\n          7425.0,\n          118.0\n        ],\n        \"semantic_type\": \"\",\n        \"description\": \"\"\n      }\n    },\n    {\n      \"column\": \"Delicassen\",\n      \"properties\": {\n        \"dtype\": \"number\",\n        \"std\": 3549.320986806722,\n        \"min\": 3.0,\n        \"max\": 47943.0,\n        \"num_unique_values\": 248,\n        \"samples\": [\n          4985.0,\n          2098.0,\n          925.0\n        ],\n        \"semantic_type\": \"\",\n        \"description\": \"\"\n      }\n    }\n  ]\n}"
            }
          },
          "metadata": {},
          "execution_count": 35
        }
      ],
      "source": [
        "df_imp.head()"
      ]
    },
    {
      "cell_type": "code",
      "execution_count": null,
      "metadata": {
        "colab": {
          "base_uri": "https://localhost:8080/"
        },
        "id": "sWB6703BHMPK",
        "outputId": "f1098b0a-2238-4c2c-f8e7-e77b0a192ddf"
      },
      "outputs": [
        {
          "output_type": "execute_result",
          "data": {
            "text/plain": [
              "Region               8\n",
              "Fresh               13\n",
              "Milk                15\n",
              "Grocery              9\n",
              "Frozen               8\n",
              "Detergents_Paper    10\n",
              "Delicassen          11\n",
              "dtype: int64"
            ],
            "text/html": [
              "<div>\n",
              "<style scoped>\n",
              "    .dataframe tbody tr th:only-of-type {\n",
              "        vertical-align: middle;\n",
              "    }\n",
              "\n",
              "    .dataframe tbody tr th {\n",
              "        vertical-align: top;\n",
              "    }\n",
              "\n",
              "    .dataframe thead th {\n",
              "        text-align: right;\n",
              "    }\n",
              "</style>\n",
              "<table border=\"1\" class=\"dataframe\">\n",
              "  <thead>\n",
              "    <tr style=\"text-align: right;\">\n",
              "      <th></th>\n",
              "      <th>0</th>\n",
              "    </tr>\n",
              "  </thead>\n",
              "  <tbody>\n",
              "    <tr>\n",
              "      <th>Region</th>\n",
              "      <td>8</td>\n",
              "    </tr>\n",
              "    <tr>\n",
              "      <th>Fresh</th>\n",
              "      <td>13</td>\n",
              "    </tr>\n",
              "    <tr>\n",
              "      <th>Milk</th>\n",
              "      <td>15</td>\n",
              "    </tr>\n",
              "    <tr>\n",
              "      <th>Grocery</th>\n",
              "      <td>9</td>\n",
              "    </tr>\n",
              "    <tr>\n",
              "      <th>Frozen</th>\n",
              "      <td>8</td>\n",
              "    </tr>\n",
              "    <tr>\n",
              "      <th>Detergents_Paper</th>\n",
              "      <td>10</td>\n",
              "    </tr>\n",
              "    <tr>\n",
              "      <th>Delicassen</th>\n",
              "      <td>11</td>\n",
              "    </tr>\n",
              "  </tbody>\n",
              "</table>\n",
              "</div><br><label><b>dtype:</b> int64</label>"
            ]
          },
          "metadata": {},
          "execution_count": 36
        }
      ],
      "source": [
        "df_imp.isna().sum()"
      ]
    },
    {
      "cell_type": "markdown",
      "source": [
        "**observe**\n",
        "\n",
        "We have ```nan``` values for every feature\n",
        "\n",
        "Lets see if kNN can impute these missing values"
      ],
      "metadata": {
        "id": "LziU-be-SXv5"
      }
    },
    {
      "cell_type": "code",
      "execution_count": null,
      "metadata": {
        "id": "IUYJKRM45mZH"
      },
      "outputs": [],
      "source": [
        "from sklearn.pipeline import Pipeline\n",
        "from sklearn.impute import KNNImputer\n",
        "from sklearn.preprocessing import StandardScaler\n",
        "\n",
        "# Create the pipeline\n",
        "pipeline = Pipeline([\n",
        "    ('scaler', StandardScaler()),  # Step 1: StandardScaler for feature scaling\n",
        "    ('imputer', KNNImputer(n_neighbors=5))  # Step 2: KNNImputer for missing value imputation\n",
        "])\n",
        "\n",
        "# Fit and transform the data using the pipeline\n",
        "X_transformed = pipeline.fit_transform(df_imp)\n",
        "\n",
        "# Creating dataframe\n",
        "X_transformed = pd.DataFrame(X_transformed,columns=df_imp.columns)"
      ]
    },
    {
      "cell_type": "code",
      "execution_count": null,
      "metadata": {
        "colab": {
          "base_uri": "https://localhost:8080/"
        },
        "id": "95Q3571Enmkp",
        "outputId": "c361b9ff-dc57-4c9d-debf-747eca07b1d1"
      },
      "outputs": [
        {
          "output_type": "execute_result",
          "data": {
            "text/plain": [
              "     Region     Fresh      Milk   Grocery    Frozen  Detergents_Paper  \\\n",
              "0  0.555438 -0.233395  0.187310 -0.319038 -0.554681         -0.272830   \n",
              "1  0.555438 -0.616431  0.204632 -0.139260 -0.281917         -0.165147   \n",
              "2  0.555438 -0.664481  0.091925  0.200717 -0.168617         -0.126353   \n",
              "3  0.555438 -0.192716 -0.764292 -0.618222  0.536025         -0.649809   \n",
              "4  0.555438  0.445450 -0.290291 -0.351554  0.097452         -0.428875   \n",
              "\n",
              "   Delicassen  \n",
              "0   -0.175386  \n",
              "1   -0.051741  \n",
              "2    1.661231  \n",
              "3   -0.048353  \n",
              "4    0.910606  "
            ],
            "text/html": [
              "\n",
              "  <div id=\"df-39c604a4-f19e-4196-bb78-a41f98edc781\" class=\"colab-df-container\">\n",
              "    <div>\n",
              "<style scoped>\n",
              "    .dataframe tbody tr th:only-of-type {\n",
              "        vertical-align: middle;\n",
              "    }\n",
              "\n",
              "    .dataframe tbody tr th {\n",
              "        vertical-align: top;\n",
              "    }\n",
              "\n",
              "    .dataframe thead th {\n",
              "        text-align: right;\n",
              "    }\n",
              "</style>\n",
              "<table border=\"1\" class=\"dataframe\">\n",
              "  <thead>\n",
              "    <tr style=\"text-align: right;\">\n",
              "      <th></th>\n",
              "      <th>Region</th>\n",
              "      <th>Fresh</th>\n",
              "      <th>Milk</th>\n",
              "      <th>Grocery</th>\n",
              "      <th>Frozen</th>\n",
              "      <th>Detergents_Paper</th>\n",
              "      <th>Delicassen</th>\n",
              "    </tr>\n",
              "  </thead>\n",
              "  <tbody>\n",
              "    <tr>\n",
              "      <th>0</th>\n",
              "      <td>0.555438</td>\n",
              "      <td>-0.233395</td>\n",
              "      <td>0.187310</td>\n",
              "      <td>-0.319038</td>\n",
              "      <td>-0.554681</td>\n",
              "      <td>-0.272830</td>\n",
              "      <td>-0.175386</td>\n",
              "    </tr>\n",
              "    <tr>\n",
              "      <th>1</th>\n",
              "      <td>0.555438</td>\n",
              "      <td>-0.616431</td>\n",
              "      <td>0.204632</td>\n",
              "      <td>-0.139260</td>\n",
              "      <td>-0.281917</td>\n",
              "      <td>-0.165147</td>\n",
              "      <td>-0.051741</td>\n",
              "    </tr>\n",
              "    <tr>\n",
              "      <th>2</th>\n",
              "      <td>0.555438</td>\n",
              "      <td>-0.664481</td>\n",
              "      <td>0.091925</td>\n",
              "      <td>0.200717</td>\n",
              "      <td>-0.168617</td>\n",
              "      <td>-0.126353</td>\n",
              "      <td>1.661231</td>\n",
              "    </tr>\n",
              "    <tr>\n",
              "      <th>3</th>\n",
              "      <td>0.555438</td>\n",
              "      <td>-0.192716</td>\n",
              "      <td>-0.764292</td>\n",
              "      <td>-0.618222</td>\n",
              "      <td>0.536025</td>\n",
              "      <td>-0.649809</td>\n",
              "      <td>-0.048353</td>\n",
              "    </tr>\n",
              "    <tr>\n",
              "      <th>4</th>\n",
              "      <td>0.555438</td>\n",
              "      <td>0.445450</td>\n",
              "      <td>-0.290291</td>\n",
              "      <td>-0.351554</td>\n",
              "      <td>0.097452</td>\n",
              "      <td>-0.428875</td>\n",
              "      <td>0.910606</td>\n",
              "    </tr>\n",
              "  </tbody>\n",
              "</table>\n",
              "</div>\n",
              "    <div class=\"colab-df-buttons\">\n",
              "\n",
              "  <div class=\"colab-df-container\">\n",
              "    <button class=\"colab-df-convert\" onclick=\"convertToInteractive('df-39c604a4-f19e-4196-bb78-a41f98edc781')\"\n",
              "            title=\"Convert this dataframe to an interactive table.\"\n",
              "            style=\"display:none;\">\n",
              "\n",
              "  <svg xmlns=\"http://www.w3.org/2000/svg\" height=\"24px\" viewBox=\"0 -960 960 960\">\n",
              "    <path d=\"M120-120v-720h720v720H120Zm60-500h600v-160H180v160Zm220 220h160v-160H400v160Zm0 220h160v-160H400v160ZM180-400h160v-160H180v160Zm440 0h160v-160H620v160ZM180-180h160v-160H180v160Zm440 0h160v-160H620v160Z\"/>\n",
              "  </svg>\n",
              "    </button>\n",
              "\n",
              "  <style>\n",
              "    .colab-df-container {\n",
              "      display:flex;\n",
              "      gap: 12px;\n",
              "    }\n",
              "\n",
              "    .colab-df-convert {\n",
              "      background-color: #E8F0FE;\n",
              "      border: none;\n",
              "      border-radius: 50%;\n",
              "      cursor: pointer;\n",
              "      display: none;\n",
              "      fill: #1967D2;\n",
              "      height: 32px;\n",
              "      padding: 0 0 0 0;\n",
              "      width: 32px;\n",
              "    }\n",
              "\n",
              "    .colab-df-convert:hover {\n",
              "      background-color: #E2EBFA;\n",
              "      box-shadow: 0px 1px 2px rgba(60, 64, 67, 0.3), 0px 1px 3px 1px rgba(60, 64, 67, 0.15);\n",
              "      fill: #174EA6;\n",
              "    }\n",
              "\n",
              "    .colab-df-buttons div {\n",
              "      margin-bottom: 4px;\n",
              "    }\n",
              "\n",
              "    [theme=dark] .colab-df-convert {\n",
              "      background-color: #3B4455;\n",
              "      fill: #D2E3FC;\n",
              "    }\n",
              "\n",
              "    [theme=dark] .colab-df-convert:hover {\n",
              "      background-color: #434B5C;\n",
              "      box-shadow: 0px 1px 3px 1px rgba(0, 0, 0, 0.15);\n",
              "      filter: drop-shadow(0px 1px 2px rgba(0, 0, 0, 0.3));\n",
              "      fill: #FFFFFF;\n",
              "    }\n",
              "  </style>\n",
              "\n",
              "    <script>\n",
              "      const buttonEl =\n",
              "        document.querySelector('#df-39c604a4-f19e-4196-bb78-a41f98edc781 button.colab-df-convert');\n",
              "      buttonEl.style.display =\n",
              "        google.colab.kernel.accessAllowed ? 'block' : 'none';\n",
              "\n",
              "      async function convertToInteractive(key) {\n",
              "        const element = document.querySelector('#df-39c604a4-f19e-4196-bb78-a41f98edc781');\n",
              "        const dataTable =\n",
              "          await google.colab.kernel.invokeFunction('convertToInteractive',\n",
              "                                                    [key], {});\n",
              "        if (!dataTable) return;\n",
              "\n",
              "        const docLinkHtml = 'Like what you see? Visit the ' +\n",
              "          '<a target=\"_blank\" href=https://colab.research.google.com/notebooks/data_table.ipynb>data table notebook</a>'\n",
              "          + ' to learn more about interactive tables.';\n",
              "        element.innerHTML = '';\n",
              "        dataTable['output_type'] = 'display_data';\n",
              "        await google.colab.output.renderOutput(dataTable, element);\n",
              "        const docLink = document.createElement('div');\n",
              "        docLink.innerHTML = docLinkHtml;\n",
              "        element.appendChild(docLink);\n",
              "      }\n",
              "    </script>\n",
              "  </div>\n",
              "\n",
              "\n",
              "<div id=\"df-4403f8ae-a5af-44f0-a326-4df7390deccf\">\n",
              "  <button class=\"colab-df-quickchart\" onclick=\"quickchart('df-4403f8ae-a5af-44f0-a326-4df7390deccf')\"\n",
              "            title=\"Suggest charts\"\n",
              "            style=\"display:none;\">\n",
              "\n",
              "<svg xmlns=\"http://www.w3.org/2000/svg\" height=\"24px\"viewBox=\"0 0 24 24\"\n",
              "     width=\"24px\">\n",
              "    <g>\n",
              "        <path d=\"M19 3H5c-1.1 0-2 .9-2 2v14c0 1.1.9 2 2 2h14c1.1 0 2-.9 2-2V5c0-1.1-.9-2-2-2zM9 17H7v-7h2v7zm4 0h-2V7h2v10zm4 0h-2v-4h2v4z\"/>\n",
              "    </g>\n",
              "</svg>\n",
              "  </button>\n",
              "\n",
              "<style>\n",
              "  .colab-df-quickchart {\n",
              "      --bg-color: #E8F0FE;\n",
              "      --fill-color: #1967D2;\n",
              "      --hover-bg-color: #E2EBFA;\n",
              "      --hover-fill-color: #174EA6;\n",
              "      --disabled-fill-color: #AAA;\n",
              "      --disabled-bg-color: #DDD;\n",
              "  }\n",
              "\n",
              "  [theme=dark] .colab-df-quickchart {\n",
              "      --bg-color: #3B4455;\n",
              "      --fill-color: #D2E3FC;\n",
              "      --hover-bg-color: #434B5C;\n",
              "      --hover-fill-color: #FFFFFF;\n",
              "      --disabled-bg-color: #3B4455;\n",
              "      --disabled-fill-color: #666;\n",
              "  }\n",
              "\n",
              "  .colab-df-quickchart {\n",
              "    background-color: var(--bg-color);\n",
              "    border: none;\n",
              "    border-radius: 50%;\n",
              "    cursor: pointer;\n",
              "    display: none;\n",
              "    fill: var(--fill-color);\n",
              "    height: 32px;\n",
              "    padding: 0;\n",
              "    width: 32px;\n",
              "  }\n",
              "\n",
              "  .colab-df-quickchart:hover {\n",
              "    background-color: var(--hover-bg-color);\n",
              "    box-shadow: 0 1px 2px rgba(60, 64, 67, 0.3), 0 1px 3px 1px rgba(60, 64, 67, 0.15);\n",
              "    fill: var(--button-hover-fill-color);\n",
              "  }\n",
              "\n",
              "  .colab-df-quickchart-complete:disabled,\n",
              "  .colab-df-quickchart-complete:disabled:hover {\n",
              "    background-color: var(--disabled-bg-color);\n",
              "    fill: var(--disabled-fill-color);\n",
              "    box-shadow: none;\n",
              "  }\n",
              "\n",
              "  .colab-df-spinner {\n",
              "    border: 2px solid var(--fill-color);\n",
              "    border-color: transparent;\n",
              "    border-bottom-color: var(--fill-color);\n",
              "    animation:\n",
              "      spin 1s steps(1) infinite;\n",
              "  }\n",
              "\n",
              "  @keyframes spin {\n",
              "    0% {\n",
              "      border-color: transparent;\n",
              "      border-bottom-color: var(--fill-color);\n",
              "      border-left-color: var(--fill-color);\n",
              "    }\n",
              "    20% {\n",
              "      border-color: transparent;\n",
              "      border-left-color: var(--fill-color);\n",
              "      border-top-color: var(--fill-color);\n",
              "    }\n",
              "    30% {\n",
              "      border-color: transparent;\n",
              "      border-left-color: var(--fill-color);\n",
              "      border-top-color: var(--fill-color);\n",
              "      border-right-color: var(--fill-color);\n",
              "    }\n",
              "    40% {\n",
              "      border-color: transparent;\n",
              "      border-right-color: var(--fill-color);\n",
              "      border-top-color: var(--fill-color);\n",
              "    }\n",
              "    60% {\n",
              "      border-color: transparent;\n",
              "      border-right-color: var(--fill-color);\n",
              "    }\n",
              "    80% {\n",
              "      border-color: transparent;\n",
              "      border-right-color: var(--fill-color);\n",
              "      border-bottom-color: var(--fill-color);\n",
              "    }\n",
              "    90% {\n",
              "      border-color: transparent;\n",
              "      border-bottom-color: var(--fill-color);\n",
              "    }\n",
              "  }\n",
              "</style>\n",
              "\n",
              "  <script>\n",
              "    async function quickchart(key) {\n",
              "      const quickchartButtonEl =\n",
              "        document.querySelector('#' + key + ' button');\n",
              "      quickchartButtonEl.disabled = true;  // To prevent multiple clicks.\n",
              "      quickchartButtonEl.classList.add('colab-df-spinner');\n",
              "      try {\n",
              "        const charts = await google.colab.kernel.invokeFunction(\n",
              "            'suggestCharts', [key], {});\n",
              "      } catch (error) {\n",
              "        console.error('Error during call to suggestCharts:', error);\n",
              "      }\n",
              "      quickchartButtonEl.classList.remove('colab-df-spinner');\n",
              "      quickchartButtonEl.classList.add('colab-df-quickchart-complete');\n",
              "    }\n",
              "    (() => {\n",
              "      let quickchartButtonEl =\n",
              "        document.querySelector('#df-4403f8ae-a5af-44f0-a326-4df7390deccf button');\n",
              "      quickchartButtonEl.style.display =\n",
              "        google.colab.kernel.accessAllowed ? 'block' : 'none';\n",
              "    })();\n",
              "  </script>\n",
              "</div>\n",
              "\n",
              "    </div>\n",
              "  </div>\n"
            ],
            "application/vnd.google.colaboratory.intrinsic+json": {
              "type": "dataframe",
              "variable_name": "X_transformed",
              "summary": "{\n  \"name\": \"X_transformed\",\n  \"rows\": 267,\n  \"fields\": [\n    {\n      \"column\": \"Region\",\n      \"properties\": {\n        \"dtype\": \"number\",\n        \"std\": 0.9893027786790327,\n        \"min\": -2.1588737479106785,\n        \"max\": 0.5554383914527475,\n        \"num_unique_values\": 7,\n        \"samples\": [\n          0.5554383914527475,\n          0.2840071775164049,\n          0.012575963580062365\n        ],\n        \"semantic_type\": \"\",\n        \"description\": \"\"\n      }\n    },\n    {\n      \"column\": \"Fresh\",\n      \"properties\": {\n        \"dtype\": \"number\",\n        \"std\": 0.9838360919950458,\n        \"min\": -1.096863618115509,\n        \"max\": 6.556552042871766,\n        \"num_unique_values\": 266,\n        \"samples\": [\n          0.011701899312503452,\n          -0.2547578827364413,\n          0.16916161170669286\n        ],\n        \"semantic_type\": \"\",\n        \"description\": \"\"\n      }\n    },\n    {\n      \"column\": \"Milk\",\n      \"properties\": {\n        \"dtype\": \"number\",\n        \"std\": 0.9786212827389683,\n        \"min\": -0.8837483883856767,\n        \"max\": 7.368415137092945,\n        \"num_unique_values\": 263,\n        \"samples\": [\n          -0.035293158672394395,\n          2.433696937072872,\n          -0.45766481286480787\n        ],\n        \"semantic_type\": \"\",\n        \"description\": \"\"\n      }\n    },\n    {\n      \"column\": \"Grocery\",\n      \"properties\": {\n        \"dtype\": \"number\",\n        \"std\": 0.9890455209540094,\n        \"min\": -0.996052967595192,\n        \"max\": 7.3145291370171845,\n        \"num_unique_values\": 267,\n        \"samples\": [\n          -0.7310874926882279,\n          4.34222204155982,\n          -0.8041635016230153\n        ],\n        \"semantic_type\": \"\",\n        \"description\": \"\"\n      }\n    },\n    {\n      \"column\": \"Frozen\",\n      \"properties\": {\n        \"dtype\": \"number\",\n        \"std\": 0.9880292760774942,\n        \"min\": -0.5879839523835781,\n        \"max\": 10.133010323801958,\n        \"num_unique_values\": 261,\n        \"samples\": [\n          1.0833169270724046,\n          -0.5608484399496064,\n          -0.40402632263639354\n        ],\n        \"semantic_type\": \"\",\n        \"description\": \"\"\n      }\n    },\n    {\n      \"column\": \"Detergents_Paper\",\n      \"properties\": {\n        \"dtype\": \"number\",\n        \"std\": 0.9899518569336301,\n        \"min\": -0.7374861577481908,\n        \"max\": 6.364387232857663,\n        \"num_unique_values\": 263,\n        \"samples\": [\n          0.973093918918166,\n          0.12276183158519006,\n          -0.32554131674890957\n        ],\n        \"semantic_type\": \"\",\n        \"description\": \"\"\n      }\n    },\n    {\n      \"column\": \"Delicassen\",\n      \"properties\": {\n        \"dtype\": \"number\",\n        \"std\": 0.9820639140936548,\n        \"min\": -0.5522513358185683,\n        \"max\": 12.981015506471396,\n        \"num_unique_values\": 259,\n        \"samples\": [\n          0.3019761457160464,\n          0.01629266544075555,\n          0.2743111446617198\n        ],\n        \"semantic_type\": \"\",\n        \"description\": \"\"\n      }\n    }\n  ]\n}"
            }
          },
          "metadata": {},
          "execution_count": 38
        }
      ],
      "source": [
        "X_transformed.head()"
      ]
    },
    {
      "cell_type": "code",
      "execution_count": null,
      "metadata": {
        "colab": {
          "base_uri": "https://localhost:8080/"
        },
        "id": "5aLjJnFTHB0a",
        "outputId": "1f095143-0c37-4b50-bb57-6abf54e77ea1"
      },
      "outputs": [
        {
          "output_type": "execute_result",
          "data": {
            "text/plain": [
              "Region              0\n",
              "Fresh               0\n",
              "Milk                0\n",
              "Grocery             0\n",
              "Frozen              0\n",
              "Detergents_Paper    0\n",
              "Delicassen          0\n",
              "dtype: int64"
            ],
            "text/html": [
              "<div>\n",
              "<style scoped>\n",
              "    .dataframe tbody tr th:only-of-type {\n",
              "        vertical-align: middle;\n",
              "    }\n",
              "\n",
              "    .dataframe tbody tr th {\n",
              "        vertical-align: top;\n",
              "    }\n",
              "\n",
              "    .dataframe thead th {\n",
              "        text-align: right;\n",
              "    }\n",
              "</style>\n",
              "<table border=\"1\" class=\"dataframe\">\n",
              "  <thead>\n",
              "    <tr style=\"text-align: right;\">\n",
              "      <th></th>\n",
              "      <th>0</th>\n",
              "    </tr>\n",
              "  </thead>\n",
              "  <tbody>\n",
              "    <tr>\n",
              "      <th>Region</th>\n",
              "      <td>0</td>\n",
              "    </tr>\n",
              "    <tr>\n",
              "      <th>Fresh</th>\n",
              "      <td>0</td>\n",
              "    </tr>\n",
              "    <tr>\n",
              "      <th>Milk</th>\n",
              "      <td>0</td>\n",
              "    </tr>\n",
              "    <tr>\n",
              "      <th>Grocery</th>\n",
              "      <td>0</td>\n",
              "    </tr>\n",
              "    <tr>\n",
              "      <th>Frozen</th>\n",
              "      <td>0</td>\n",
              "    </tr>\n",
              "    <tr>\n",
              "      <th>Detergents_Paper</th>\n",
              "      <td>0</td>\n",
              "    </tr>\n",
              "    <tr>\n",
              "      <th>Delicassen</th>\n",
              "      <td>0</td>\n",
              "    </tr>\n",
              "  </tbody>\n",
              "</table>\n",
              "</div><br><label><b>dtype:</b> int64</label>"
            ]
          },
          "metadata": {},
          "execution_count": 39
        }
      ],
      "source": [
        "X_transformed.isna().sum()\n"
      ]
    },
    {
      "cell_type": "markdown",
      "source": [
        "**observe**\n",
        "\n",
        "kNN imputes every missing value for every feature\n",
        "- This shows how good kNNImputator is"
      ],
      "metadata": {
        "id": "_jpiwvWHSjnE"
      }
    },
    {
      "cell_type": "markdown",
      "source": [
        "#**Next Lecture Quiz**"
      ],
      "metadata": {
        "id": "Wb4Bss4R2xW7"
      }
    },
    {
      "cell_type": "markdown",
      "source": [
        "**Quiz-1**\n",
        "\n",
        "```\n",
        "What is the main idea behind the k-nearest neighbors (kNN) algorithm?\n",
        "a) Classification based on decision boundaries\n",
        "b) Assigning labels based on the neighbors\n",
        "c) Finding the optimal hyperplane\n",
        "d) Clustering data points into groups\n",
        "```\n",
        "**Correct Answer**\n",
        "b) Assigning labels based on the neighbors"
      ],
      "metadata": {
        "id": "vp6il-Pa2Zs4"
      }
    },
    {
      "cell_type": "markdown",
      "source": [
        "**Quiz-2**\n",
        "```\n",
        "How does the choice of 'k' affect the kNN algorithm?\n",
        "a) Higher values of 'k' result in a more flexible decision boundary\n",
        "b) Lower values of 'k' make the algorithm more sensitive to outliers\n",
        "c) Higher values of 'k' increase computational complexity\n",
        "d) All of the above\n",
        "```\n",
        "Answer: d) All of the above"
      ],
      "metadata": {
        "id": "cbLOQmp12wKo"
      }
    },
    {
      "cell_type": "markdown",
      "source": [
        "**quiz-3**\n",
        "\n",
        "```\n",
        "What is the main disadvantage of the kNN algorithm?\n",
        "a) It is computationally expensive for large datasets\n",
        "b) It assumes that all features have equal importance\n",
        "c) It cannot handle missing values in the dataset\n",
        "d) It is sensitive to the choice of distance metric\n",
        "```\n",
        "\n",
        "Answer: a) It is computationally expensive for large datasets\n"
      ],
      "metadata": {
        "id": "lgC70YnS3UY2"
      }
    },
    {
      "cell_type": "markdown",
      "source": [
        "**quiz-4**\n",
        "\n",
        "```\n",
        "Can kNN be used for regression tasks?\n",
        "a) Yes\n",
        "b) No\n",
        "\n",
        "```\n",
        "Answer: a) Yes\n"
      ],
      "metadata": {
        "id": "gHiYvhS43aLt"
      }
    },
    {
      "cell_type": "markdown",
      "source": [
        "**quiz-5**\n",
        "\n",
        "```\n",
        "\n",
        "What statement is true?\n",
        "a) Distance metrics has no impact on kNN performance\n",
        "b) Different distance metrics for different types of data\n",
        "c) Euclidean distance always outperforms other metrics\n",
        "d) Manhattan distance is the most robust choice for kNN\n",
        "```\n",
        "Answer: b) Different distance metrics are suitable for different types of data"
      ],
      "metadata": {
        "id": "cQDsy8ty3rLs"
      }
    }
  ],
  "metadata": {
    "colab": {
      "provenance": [],
      "collapsed_sections": [
        "BWg0CDLG2QGt"
      ]
    },
    "kernelspec": {
      "display_name": "Python 3",
      "name": "python3"
    },
    "language_info": {
      "name": "python"
    }
  },
  "nbformat": 4,
  "nbformat_minor": 0
}