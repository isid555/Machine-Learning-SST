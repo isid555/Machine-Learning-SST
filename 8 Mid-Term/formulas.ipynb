{
 "cells": [
  {
   "cell_type": "code",
   "id": "initial_id",
   "metadata": {
    "collapsed": true,
    "ExecuteTime": {
     "end_time": "2024-12-16T06:15:43.651262Z",
     "start_time": "2024-12-16T06:15:43.648898Z"
    }
   },
   "source": "# R squares\n",
   "outputs": [],
   "execution_count": null
  },
  {
   "metadata": {
    "ExecuteTime": {
     "end_time": "2024-12-16T06:20:38.045158Z",
     "start_time": "2024-12-16T06:20:37.873882Z"
    }
   },
   "cell_type": "code",
   "source": [
    "import numpy as np\n",
    "\n",
    "\n",
    "def der2_and_adj(y,y_hat):\n",
    "    n = len(y)\n",
    "    total_sum_of_squares = np.sum((y  - np.mean(y)) **2)\n",
    "    residual_sum_squares = np.sum((y - y_hat)**2)\n",
    "    \n",
    "    r_square = 1 - (residual_sum_squares/total_sum_of_squares)\n",
    "    \n",
    "    k =     y.shape[1]-1\n",
    "    adj_r_square = 1 - ( (1-r_square) * (n-1)/(n-k-1))\n",
    "    \n",
    "    print(r_square)\n",
    "    print(adj_r_square)"
   ],
   "id": "eec54a515ec9a707",
   "outputs": [],
   "execution_count": 1
  },
  {
   "metadata": {
    "ExecuteTime": {
     "end_time": "2024-12-16T06:29:26.331249Z",
     "start_time": "2024-12-16T06:29:21.403002Z"
    }
   },
   "cell_type": "code",
   "source": [
    "\n",
    "\n",
    "import numpy as np\n",
    "import pandas as pd\n",
    "import statsmodels.api as sm\n",
    "\n",
    "\n",
    "# [1 / (1 - sm.OLS(X[:, i], X[:, list(range(n)) != i]).fit().rsquared) for i in range(n)]\n",
    "# Calculatiing VIF for a col\n",
    "\n",
    "def calculate_VIF(X):\n",
    "    n = X.shape[1]\n",
    "    vif = pd.DataFrame()\n",
    "    vif['Feature' ] = X.coloums\n",
    "    \n",
    "    vif['VIF'] = [1 / (1 - sm.OLS(X[:, i], X[:, list(range(n)) != i]).fit().rsquared) for i in range(n)]\n",
    "    \n",
    "  "
   ],
   "id": "2d8ba60899272145",
   "outputs": [],
   "execution_count": 2
  },
  {
   "metadata": {
    "ExecuteTime": {
     "end_time": "2024-12-16T06:29:46.966892Z",
     "start_time": "2024-12-16T06:29:46.964073Z"
    }
   },
   "cell_type": "code",
   "source": [
    "def sigmoid(z):\n",
    "    return 1 / (1+np.exp(-z))"
   ],
   "id": "b431138a873949f",
   "outputs": [],
   "execution_count": 3
  },
  {
   "metadata": {
    "ExecuteTime": {
     "end_time": "2024-12-16T06:33:18.093547Z",
     "start_time": "2024-12-16T06:33:18.086472Z"
    }
   },
   "cell_type": "code",
   "source": [
    "z = np.array([[1,2,3],[4,5,6],[7,8,9]])\n",
    "y = sigmoid(z)\n",
    "y"
   ],
   "id": "271ec2fbd0b44269",
   "outputs": [
    {
     "data": {
      "text/plain": [
       "array([[0.73105858, 0.88079708, 0.95257413],\n",
       "       [0.98201379, 0.99330715, 0.99752738],\n",
       "       [0.99908895, 0.99966465, 0.99987661]])"
      ]
     },
     "execution_count": 5,
     "metadata": {},
     "output_type": "execute_result"
    }
   ],
   "execution_count": 5
  },
  {
   "metadata": {
    "ExecuteTime": {
     "end_time": "2024-12-16T06:34:59.578690Z",
     "start_time": "2024-12-16T06:34:59.574835Z"
    }
   },
   "cell_type": "code",
   "source": [
    "def mean_squared_error(y,y_hat):\n",
    "    n= len(y)\n",
    "    squared_error = (y-y_hat)**2\n",
    "    return np.sum(squared_error)/n"
   ],
   "id": "40b333c3b737918e",
   "outputs": [],
   "execution_count": 6
  },
  {
   "metadata": {},
   "cell_type": "code",
   "outputs": [],
   "execution_count": null,
   "source": "",
   "id": "131e54d5ae890fb4"
  }
 ],
 "metadata": {
  "kernelspec": {
   "display_name": "Python 3",
   "language": "python",
   "name": "python3"
  },
  "language_info": {
   "codemirror_mode": {
    "name": "ipython",
    "version": 2
   },
   "file_extension": ".py",
   "mimetype": "text/x-python",
   "name": "python",
   "nbconvert_exporter": "python",
   "pygments_lexer": "ipython2",
   "version": "2.7.6"
  }
 },
 "nbformat": 4,
 "nbformat_minor": 5
}
