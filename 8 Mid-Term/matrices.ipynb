{
 "cells": [
  {
   "metadata": {
    "ExecuteTime": {
     "end_time": "2024-12-16T05:00:56.772865Z",
     "start_time": "2024-12-16T05:00:56.253219Z"
    }
   },
   "cell_type": "code",
   "source": "import numpy as np",
   "id": "338ca082546a74ea",
   "outputs": [],
   "execution_count": 2
  },
  {
   "cell_type": "code",
   "id": "initial_id",
   "metadata": {
    "collapsed": true,
    "ExecuteTime": {
     "end_time": "2024-12-16T05:01:33.053097Z",
     "start_time": "2024-12-16T05:01:33.046421Z"
    }
   },
   "source": [
    "matrix = np.array(   [\n",
    "    [1,2,3],\n",
    "     [4,5,6,]\n",
    "])\n",
    "\n",
    "matrix"
   ],
   "outputs": [
    {
     "data": {
      "text/plain": [
       "array([[1, 2, 3],\n",
       "       [4, 5, 6]])"
      ]
     },
     "execution_count": 4,
     "metadata": {},
     "output_type": "execute_result"
    }
   ],
   "execution_count": 4
  },
  {
   "metadata": {
    "ExecuteTime": {
     "end_time": "2024-12-16T05:01:51.040130Z",
     "start_time": "2024-12-16T05:01:51.036017Z"
    }
   },
   "cell_type": "code",
   "source": "# Basic operations",
   "id": "f641765721955e74",
   "outputs": [],
   "execution_count": 5
  },
  {
   "metadata": {
    "ExecuteTime": {
     "end_time": "2024-12-16T05:03:23.310134Z",
     "start_time": "2024-12-16T05:03:23.306512Z"
    }
   },
   "cell_type": "code",
   "source": [
    "A = np.array([[1,2],[3,4]])\n",
    "B = np.array([[5,6],[7,8]])\n",
    "result = A+B\n",
    "print(result)"
   ],
   "id": "8e9e40b23684b91e",
   "outputs": [
    {
     "name": "stdout",
     "output_type": "stream",
     "text": [
      "[[ 6  8]\n",
      " [10 12]]\n"
     ]
    }
   ],
   "execution_count": 8
  },
  {
   "metadata": {
    "ExecuteTime": {
     "end_time": "2024-12-16T05:03:33.958643Z",
     "start_time": "2024-12-16T05:03:33.954674Z"
    }
   },
   "cell_type": "code",
   "source": "print(A-B)",
   "id": "fcd70e7c4d0f17cb",
   "outputs": [
    {
     "name": "stdout",
     "output_type": "stream",
     "text": [
      "[[-4 -4]\n",
      " [-4 -4]]\n"
     ]
    }
   ],
   "execution_count": 9
  },
  {
   "metadata": {
    "ExecuteTime": {
     "end_time": "2024-12-16T05:03:42.232510Z",
     "start_time": "2024-12-16T05:03:42.229073Z"
    }
   },
   "cell_type": "code",
   "source": "print(A*B)",
   "id": "39d0e6161e3ca700",
   "outputs": [
    {
     "name": "stdout",
     "output_type": "stream",
     "text": [
      "[[ 5 12]\n",
      " [21 32]]\n"
     ]
    }
   ],
   "execution_count": 10
  },
  {
   "metadata": {
    "ExecuteTime": {
     "end_time": "2024-12-16T05:04:41.293803Z",
     "start_time": "2024-12-16T05:04:41.291130Z"
    }
   },
   "cell_type": "code",
   "source": [
    "from numpy.linalg import det\n",
    "\n"
   ],
   "id": "a6812159f2b710bb",
   "outputs": [],
   "execution_count": 12
  },
  {
   "metadata": {
    "ExecuteTime": {
     "end_time": "2024-12-16T05:04:57.476279Z",
     "start_time": "2024-12-16T05:04:57.471641Z"
    }
   },
   "cell_type": "code",
   "source": [
    "determinant = det(A)\n",
    "determinant"
   ],
   "id": "52f8865e29ba0cea",
   "outputs": [
    {
     "data": {
      "text/plain": [
       "np.float64(-2.0000000000000004)"
      ]
     },
     "execution_count": 13,
     "metadata": {},
     "output_type": "execute_result"
    }
   ],
   "execution_count": 13
  },
  {
   "metadata": {
    "ExecuteTime": {
     "end_time": "2024-12-16T05:24:32.075309Z",
     "start_time": "2024-12-16T05:24:32.070783Z"
    }
   },
   "cell_type": "code",
   "source": [
    "random_matrix = A\n",
    "random_matrix\n"
   ],
   "id": "5fdeb922f90313f9",
   "outputs": [
    {
     "data": {
      "text/plain": [
       "array([[1, 2],\n",
       "       [3, 4]])"
      ]
     },
     "execution_count": 18,
     "metadata": {},
     "output_type": "execute_result"
    }
   ],
   "execution_count": 18
  },
  {
   "metadata": {
    "ExecuteTime": {
     "end_time": "2024-12-16T05:25:55.250133Z",
     "start_time": "2024-12-16T05:25:55.246899Z"
    }
   },
   "cell_type": "code",
   "source": [
    "matrix = np.array([\n",
    "    [1, 2, 3],\n",
    "    [4, 5, 6],\n",
    "    [7, 8, 9]\n",
    "])\n"
   ],
   "id": "814670c82fba5f5c",
   "outputs": [],
   "execution_count": 25
  },
  {
   "metadata": {
    "ExecuteTime": {
     "end_time": "2024-12-16T05:38:37.438482Z",
     "start_time": "2024-12-16T05:38:37.434475Z"
    }
   },
   "cell_type": "code",
   "source": [
    "col_sums = matrix.sum(axis=0)\n",
    "col_sums"
   ],
   "id": "509400c16862d8d3",
   "outputs": [
    {
     "data": {
      "text/plain": [
       "array([12, 15, 18])"
      ]
     },
     "execution_count": 46,
     "metadata": {},
     "output_type": "execute_result"
    }
   ],
   "execution_count": 46
  },
  {
   "metadata": {
    "ExecuteTime": {
     "end_time": "2024-12-16T05:37:02.737150Z",
     "start_time": "2024-12-16T05:37:02.731986Z"
    }
   },
   "cell_type": "code",
   "source": [
    "col_mean = matrix.mean(axis=0)\n",
    "col_mean"
   ],
   "id": "f7516ed8c0c6fed8",
   "outputs": [
    {
     "data": {
      "text/plain": [
       "array([4., 5., 6.])"
      ]
     },
     "execution_count": 41,
     "metadata": {},
     "output_type": "execute_result"
    }
   ],
   "execution_count": 41
  },
  {
   "metadata": {
    "ExecuteTime": {
     "end_time": "2024-12-16T05:37:25.001020Z",
     "start_time": "2024-12-16T05:37:24.996231Z"
    }
   },
   "cell_type": "code",
   "source": [
    "col_std = matrix.std(axis=0)\n",
    "col_std"
   ],
   "id": "abb23a999a7eece9",
   "outputs": [
    {
     "data": {
      "text/plain": [
       "array([2.44948974, 2.44948974, 2.44948974])"
      ]
     },
     "execution_count": 43,
     "metadata": {},
     "output_type": "execute_result"
    }
   ],
   "execution_count": 43
  },
  {
   "metadata": {
    "ExecuteTime": {
     "end_time": "2024-12-16T05:38:01.437782Z",
     "start_time": "2024-12-16T05:38:01.434025Z"
    }
   },
   "cell_type": "code",
   "source": [
    "col_var = matrix.var(axis=0)\n",
    "col_var"
   ],
   "id": "ad0aa36937e99486",
   "outputs": [
    {
     "data": {
      "text/plain": [
       "array([6., 6., 6.])"
      ]
     },
     "execution_count": 45,
     "metadata": {},
     "output_type": "execute_result"
    }
   ],
   "execution_count": 45
  },
  {
   "metadata": {
    "ExecuteTime": {
     "end_time": "2024-12-16T05:40:52.866993Z",
     "start_time": "2024-12-16T05:40:52.861652Z"
    }
   },
   "cell_type": "code",
   "source": [
    "col = matrix.T\n",
    "col[0]"
   ],
   "id": "edaee2daa596b0eb",
   "outputs": [
    {
     "data": {
      "text/plain": [
       "array([1, 4, 7])"
      ]
     },
     "execution_count": 49,
     "metadata": {},
     "output_type": "execute_result"
    }
   ],
   "execution_count": 49
  },
  {
   "metadata": {
    "ExecuteTime": {
     "end_time": "2024-12-16T05:43:19.606550Z",
     "start_time": "2024-12-16T05:43:19.603476Z"
    }
   },
   "cell_type": "code",
   "source": "col_div_std = col/col_std",
   "id": "edd7da8db3cac4f6",
   "outputs": [],
   "execution_count": 50
  },
  {
   "metadata": {
    "ExecuteTime": {
     "end_time": "2024-12-16T05:43:23.192931Z",
     "start_time": "2024-12-16T05:43:23.189250Z"
    }
   },
   "cell_type": "code",
   "source": "col_div_std",
   "id": "d7a3d2af5a8ed733",
   "outputs": [
    {
     "data": {
      "text/plain": [
       "array([[0.40824829, 1.63299316, 2.85773803],\n",
       "       [0.81649658, 2.04124145, 3.26598632],\n",
       "       [1.22474487, 2.44948974, 3.67423461]])"
      ]
     },
     "execution_count": 51,
     "metadata": {},
     "output_type": "execute_result"
    }
   ],
   "execution_count": 51
  },
  {
   "metadata": {},
   "cell_type": "code",
   "outputs": [],
   "execution_count": null,
   "source": "",
   "id": "fb4196e05969ff1a"
  }
 ],
 "metadata": {
  "kernelspec": {
   "display_name": "Python 3",
   "language": "python",
   "name": "python3"
  },
  "language_info": {
   "codemirror_mode": {
    "name": "ipython",
    "version": 2
   },
   "file_extension": ".py",
   "mimetype": "text/x-python",
   "name": "python",
   "nbconvert_exporter": "python",
   "pygments_lexer": "ipython2",
   "version": "2.7.6"
  }
 },
 "nbformat": 4,
 "nbformat_minor": 5
}
