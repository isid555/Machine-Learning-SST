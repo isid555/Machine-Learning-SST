{
 "cells": [
  {
   "metadata": {
    "ExecuteTime": {
     "end_time": "2024-12-16T08:46:17.650421Z",
     "start_time": "2024-12-16T08:46:17.646889Z"
    }
   },
   "cell_type": "code",
   "source": [
    "import numpy as np\n",
    "from sklearn.model_selection import train_test_split\n",
    "from sklearn.linear_model import LogisticRegression\n"
   ],
   "id": "25669bfad837b732",
   "outputs": [],
   "execution_count": 19
  },
  {
   "cell_type": "code",
   "id": "initial_id",
   "metadata": {
    "collapsed": true,
    "ExecuteTime": {
     "end_time": "2024-12-16T08:44:23.546748Z",
     "start_time": "2024-12-16T08:44:23.542470Z"
    }
   },
   "source": [
    "def train(X,Y):\n",
    "    X_train, X_test, Y_train, Y_test = train_test_split(X, Y, test_size=0.2, random_state=42)\n",
    "    classifier =LogisticRegression(random_state=42)\n",
    "    classifier = classifier.fit(X_train, Y_train)   \n",
    "    acc = classifier.score(X_test, Y_test)\n",
    "    coef = classifier.coef_.round(2)\n",
    "    intercept = classifier.intercept_.round(2)\n",
    "    return round(acc,2), coef, intercept\n",
    "    \n",
    "    \n",
    "    \n",
    "    "
   ],
   "outputs": [],
   "execution_count": 12
  },
  {
   "metadata": {
    "ExecuteTime": {
     "end_time": "2024-12-16T08:44:23.874696Z",
     "start_time": "2024-12-16T08:44:23.866972Z"
    }
   },
   "cell_type": "code",
   "source": [
    "def normalize_coloums(arr):\n",
    "    col_mean = np.mean(arr, axis=0)\n",
    "    col_std = np.std(arr , axis=0)\n",
    "    normalise = (arr-col_mean)/col_std\n",
    "    return normalise\n",
    "    "
   ],
   "id": "21d4d86ff21a11d0",
   "outputs": [],
   "execution_count": 13
  },
  {
   "metadata": {
    "ExecuteTime": {
     "end_time": "2024-12-16T08:54:22.881066Z",
     "start_time": "2024-12-16T08:54:22.876169Z"
    }
   },
   "cell_type": "code",
   "source": [
    "import numpy as np\n",
    "from sklearn.metrics import r2_score\n",
    "def calc_r2(y_true, y_pred):\n",
    "    r2 = r2_score(y_true,y_pred)\n",
    "    return r2"
   ],
   "id": "b466eeedefc82f2b",
   "outputs": [],
   "execution_count": 32
  },
  {
   "metadata": {
    "ExecuteTime": {
     "end_time": "2024-12-16T08:54:23.295971Z",
     "start_time": "2024-12-16T08:54:23.288197Z"
    }
   },
   "cell_type": "code",
   "source": [
    "y =     [9.91 , 12.79 , 12.36 , 5.31 ,4.11]\n",
    "y_pred  = [0.88 , 2.6, 0.36 , -0.45 , 1.64]\n",
    "\n",
    "rsq = calc_r2(y,y_pred)\n",
    "rsq"
   ],
   "id": "e1c439c57e2ea8b3",
   "outputs": [
    {
     "data": {
      "text/plain": [
       "-4.764212288713852"
      ]
     },
     "execution_count": 33,
     "metadata": {},
     "output_type": "execute_result"
    }
   ],
   "execution_count": 33
  },
  {
   "metadata": {},
   "cell_type": "code",
   "outputs": [],
   "execution_count": null,
   "source": "    ",
   "id": "4d803d70fe9cabba"
  }
 ],
 "metadata": {
  "kernelspec": {
   "display_name": "Python 3",
   "language": "python",
   "name": "python3"
  },
  "language_info": {
   "codemirror_mode": {
    "name": "ipython",
    "version": 2
   },
   "file_extension": ".py",
   "mimetype": "text/x-python",
   "name": "python",
   "nbconvert_exporter": "python",
   "pygments_lexer": "ipython2",
   "version": "2.7.6"
  }
 },
 "nbformat": 4,
 "nbformat_minor": 5
}
