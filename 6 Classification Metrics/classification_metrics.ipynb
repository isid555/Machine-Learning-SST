{
 "nbformat": 4,
 "nbformat_minor": 0,
 "metadata": {
  "colab": {
   "provenance": []
  },
  "kernelspec": {
   "name": "python3",
   "display_name": "Python 3 (ipykernel)",
   "language": "python"
  },
  "language_info": {
   "name": "python"
  }
 },
 "cells": [
  {
   "cell_type": "code",
   "metadata": {
    "colab": {
     "base_uri": "https://localhost:8080/"
    },
    "id": "2E2t4ujkdQyS",
    "outputId": "5614a712-29d4-4abc-b3b9-0355404c9284",
    "ExecuteTime": {
     "end_time": "2024-12-13T08:53:08.240025Z",
     "start_time": "2024-12-13T08:53:02.679107Z"
    }
   },
   "source": [
    "!gdown 1CgBW5H54YfdYtJmYE5GWctaHZSpFt71V"
   ],
   "outputs": [
    {
     "name": "stderr",
     "output_type": "stream",
     "text": [
      "Downloading...\n",
      "From: https://drive.google.com/uc?id=1CgBW5H54YfdYtJmYE5GWctaHZSpFt71V\n",
      "To: S:\\Machine Learning Scaler\\Classification Metrics\\spam_ham_dataset.csv\n",
      "\n",
      "  0%|          | 0.00/5.50M [00:00<?, ?B/s]\n",
      " 10%|9         | 524k/5.50M [00:00<00:01, 4.50MB/s]\n",
      " 38%|###8      | 2.10M/5.50M [00:00<00:00, 10.5MB/s]\n",
      " 95%|#########5| 5.24M/5.50M [00:00<00:00, 19.6MB/s]\n",
      "100%|##########| 5.50M/5.50M [00:00<00:00, 17.1MB/s]\n"
     ]
    }
   ],
   "execution_count": 2
  },
  {
   "cell_type": "code",
   "source": [
    "import pandas as pd\n",
    "import numpy as np\n",
    "import matplotlib.pyplot as plt"
   ],
   "metadata": {
    "id": "2tS-vpbjdTAv",
    "ExecuteTime": {
     "end_time": "2024-12-13T08:53:11.867883Z",
     "start_time": "2024-12-13T08:53:08.241626Z"
    }
   },
   "outputs": [],
   "execution_count": 3
  },
  {
   "cell_type": "code",
   "source": [
    "demo1 = pd.read_csv('spam_ham_dataset.csv')\n",
    "demo1.drop(['Unnamed: 0','label'],axis=1,inplace=True)\n",
    "demo1.head()"
   ],
   "metadata": {
    "colab": {
     "base_uri": "https://localhost:8080/",
     "height": 206
    },
    "id": "iEZKoYChdWAp",
    "outputId": "40cb88b3-9e92-4dd4-f1b5-804e647d2e41",
    "ExecuteTime": {
     "end_time": "2024-12-13T08:53:11.958399Z",
     "start_time": "2024-12-13T08:53:11.869967Z"
    }
   },
   "outputs": [
    {
     "data": {
      "text/plain": [
       "                                                text  label_num\n",
       "0  Subject: enron methanol ; meter # : 988291\\r\\n...          0\n",
       "1  Subject: hpl nom for january 9 , 2001\\r\\n( see...          0\n",
       "2  Subject: neon retreat\\r\\nho ho ho , we ' re ar...          0\n",
       "3  Subject: photoshop , windows , office . cheap ...          1\n",
       "4  Subject: re : indian springs\\r\\nthis deal is t...          0"
      ],
      "text/html": [
       "<div>\n",
       "<style scoped>\n",
       "    .dataframe tbody tr th:only-of-type {\n",
       "        vertical-align: middle;\n",
       "    }\n",
       "\n",
       "    .dataframe tbody tr th {\n",
       "        vertical-align: top;\n",
       "    }\n",
       "\n",
       "    .dataframe thead th {\n",
       "        text-align: right;\n",
       "    }\n",
       "</style>\n",
       "<table border=\"1\" class=\"dataframe\">\n",
       "  <thead>\n",
       "    <tr style=\"text-align: right;\">\n",
       "      <th></th>\n",
       "      <th>text</th>\n",
       "      <th>label_num</th>\n",
       "    </tr>\n",
       "  </thead>\n",
       "  <tbody>\n",
       "    <tr>\n",
       "      <th>0</th>\n",
       "      <td>Subject: enron methanol ; meter # : 988291\\r\\n...</td>\n",
       "      <td>0</td>\n",
       "    </tr>\n",
       "    <tr>\n",
       "      <th>1</th>\n",
       "      <td>Subject: hpl nom for january 9 , 2001\\r\\n( see...</td>\n",
       "      <td>0</td>\n",
       "    </tr>\n",
       "    <tr>\n",
       "      <th>2</th>\n",
       "      <td>Subject: neon retreat\\r\\nho ho ho , we ' re ar...</td>\n",
       "      <td>0</td>\n",
       "    </tr>\n",
       "    <tr>\n",
       "      <th>3</th>\n",
       "      <td>Subject: photoshop , windows , office . cheap ...</td>\n",
       "      <td>1</td>\n",
       "    </tr>\n",
       "    <tr>\n",
       "      <th>4</th>\n",
       "      <td>Subject: re : indian springs\\r\\nthis deal is t...</td>\n",
       "      <td>0</td>\n",
       "    </tr>\n",
       "  </tbody>\n",
       "</table>\n",
       "</div>"
      ]
     },
     "execution_count": 4,
     "metadata": {},
     "output_type": "execute_result"
    }
   ],
   "execution_count": 4
  },
  {
   "cell_type": "code",
   "source": [
    "!gdown 1dw56R8SzKgTgiKurfBLUTxmiewJacMkt"
   ],
   "metadata": {
    "colab": {
     "base_uri": "https://localhost:8080/"
    },
    "id": "RmWX8gjydX38",
    "outputId": "96cee758-d05a-4f6b-f450-336c91699353",
    "ExecuteTime": {
     "end_time": "2024-12-13T08:53:17.616110Z",
     "start_time": "2024-12-13T08:53:11.959849Z"
    }
   },
   "outputs": [
    {
     "name": "stderr",
     "output_type": "stream",
     "text": [
      "Downloading...\n",
      "From: https://drive.google.com/uc?id=1dw56R8SzKgTgiKurfBLUTxmiewJacMkt\n",
      "To: S:\\Machine Learning Scaler\\Classification Metrics\\Spam_finalData.csv\n",
      "\n",
      "  0%|          | 0.00/1.64M [00:00<?, ?B/s]\n",
      " 32%|###1      | 524k/1.64M [00:00<00:00, 3.71MB/s]\n",
      "100%|##########| 1.64M/1.64M [00:00<00:00, 8.30MB/s]\n"
     ]
    }
   ],
   "execution_count": 5
  },
  {
   "cell_type": "code",
   "source": [
    "dt = pd.read_csv('Spam_finalData.csv')"
   ],
   "metadata": {
    "id": "-9npWpFJdoWy",
    "ExecuteTime": {
     "end_time": "2024-12-13T08:53:17.641856Z",
     "start_time": "2024-12-13T08:53:17.617658Z"
    }
   },
   "outputs": [],
   "execution_count": 6
  },
  {
   "cell_type": "code",
   "source": [
    "dt.head()"
   ],
   "metadata": {
    "colab": {
     "base_uri": "https://localhost:8080/",
     "height": 226
    },
    "id": "2nSdZShidqxg",
    "outputId": "da356ae0-8796-4cff-87af-089a2c909dc5",
    "ExecuteTime": {
     "end_time": "2024-12-13T08:53:17.658181Z",
     "start_time": "2024-12-13T08:53:17.644962Z"
    }
   },
   "outputs": [
    {
     "data": {
      "text/plain": [
       "   label_num  Feature0  Feature1  Feature2  Feature3  Feature4  Feature5  \\\n",
       "0          0 -0.031489 -0.003323 -0.071238  0.047743  0.060798  0.046597   \n",
       "1          0 -0.122601  0.114176  0.460451  0.000953  0.014707  0.007610   \n",
       "2          0 -0.076681 -0.084330 -0.054658 -0.048236 -0.019999 -0.045909   \n",
       "3          1 -0.075948 -0.059706 -0.025301 -0.037603 -0.001208 -0.030660   \n",
       "4          0 -0.054680  0.033033 -0.090885 -0.047280 -0.029304  0.085893   \n",
       "\n",
       "   Feature6  Feature7  Feature8  Feature9  Feature10  Feature11  Feature12  \\\n",
       "0 -0.069530 -0.000031 -0.037924  0.024059  -0.015085  -0.007752  -0.021617   \n",
       "1 -0.011173 -0.052478  0.040209  0.000076   0.010306   0.023397  -0.007294   \n",
       "2 -0.004712 -0.001524  0.013735 -0.022429   0.010273  -0.007458  -0.044340   \n",
       "3  0.018873 -0.013434 -0.014981  0.000741   0.005653   0.032153   0.001884   \n",
       "4 -0.105351 -0.053915 -0.006857  0.021673   0.056718   0.006140   0.042217   \n",
       "\n",
       "   Feature13  Feature14  \n",
       "0  -0.025395   0.046050  \n",
       "1   0.063543   0.081119  \n",
       "2  -0.051093   0.025553  \n",
       "3  -0.018005  -0.011060  \n",
       "4   0.018862  -0.007373  "
      ],
      "text/html": [
       "<div>\n",
       "<style scoped>\n",
       "    .dataframe tbody tr th:only-of-type {\n",
       "        vertical-align: middle;\n",
       "    }\n",
       "\n",
       "    .dataframe tbody tr th {\n",
       "        vertical-align: top;\n",
       "    }\n",
       "\n",
       "    .dataframe thead th {\n",
       "        text-align: right;\n",
       "    }\n",
       "</style>\n",
       "<table border=\"1\" class=\"dataframe\">\n",
       "  <thead>\n",
       "    <tr style=\"text-align: right;\">\n",
       "      <th></th>\n",
       "      <th>label_num</th>\n",
       "      <th>Feature0</th>\n",
       "      <th>Feature1</th>\n",
       "      <th>Feature2</th>\n",
       "      <th>Feature3</th>\n",
       "      <th>Feature4</th>\n",
       "      <th>Feature5</th>\n",
       "      <th>Feature6</th>\n",
       "      <th>Feature7</th>\n",
       "      <th>Feature8</th>\n",
       "      <th>Feature9</th>\n",
       "      <th>Feature10</th>\n",
       "      <th>Feature11</th>\n",
       "      <th>Feature12</th>\n",
       "      <th>Feature13</th>\n",
       "      <th>Feature14</th>\n",
       "    </tr>\n",
       "  </thead>\n",
       "  <tbody>\n",
       "    <tr>\n",
       "      <th>0</th>\n",
       "      <td>0</td>\n",
       "      <td>-0.031489</td>\n",
       "      <td>-0.003323</td>\n",
       "      <td>-0.071238</td>\n",
       "      <td>0.047743</td>\n",
       "      <td>0.060798</td>\n",
       "      <td>0.046597</td>\n",
       "      <td>-0.069530</td>\n",
       "      <td>-0.000031</td>\n",
       "      <td>-0.037924</td>\n",
       "      <td>0.024059</td>\n",
       "      <td>-0.015085</td>\n",
       "      <td>-0.007752</td>\n",
       "      <td>-0.021617</td>\n",
       "      <td>-0.025395</td>\n",
       "      <td>0.046050</td>\n",
       "    </tr>\n",
       "    <tr>\n",
       "      <th>1</th>\n",
       "      <td>0</td>\n",
       "      <td>-0.122601</td>\n",
       "      <td>0.114176</td>\n",
       "      <td>0.460451</td>\n",
       "      <td>0.000953</td>\n",
       "      <td>0.014707</td>\n",
       "      <td>0.007610</td>\n",
       "      <td>-0.011173</td>\n",
       "      <td>-0.052478</td>\n",
       "      <td>0.040209</td>\n",
       "      <td>0.000076</td>\n",
       "      <td>0.010306</td>\n",
       "      <td>0.023397</td>\n",
       "      <td>-0.007294</td>\n",
       "      <td>0.063543</td>\n",
       "      <td>0.081119</td>\n",
       "    </tr>\n",
       "    <tr>\n",
       "      <th>2</th>\n",
       "      <td>0</td>\n",
       "      <td>-0.076681</td>\n",
       "      <td>-0.084330</td>\n",
       "      <td>-0.054658</td>\n",
       "      <td>-0.048236</td>\n",
       "      <td>-0.019999</td>\n",
       "      <td>-0.045909</td>\n",
       "      <td>-0.004712</td>\n",
       "      <td>-0.001524</td>\n",
       "      <td>0.013735</td>\n",
       "      <td>-0.022429</td>\n",
       "      <td>0.010273</td>\n",
       "      <td>-0.007458</td>\n",
       "      <td>-0.044340</td>\n",
       "      <td>-0.051093</td>\n",
       "      <td>0.025553</td>\n",
       "    </tr>\n",
       "    <tr>\n",
       "      <th>3</th>\n",
       "      <td>1</td>\n",
       "      <td>-0.075948</td>\n",
       "      <td>-0.059706</td>\n",
       "      <td>-0.025301</td>\n",
       "      <td>-0.037603</td>\n",
       "      <td>-0.001208</td>\n",
       "      <td>-0.030660</td>\n",
       "      <td>0.018873</td>\n",
       "      <td>-0.013434</td>\n",
       "      <td>-0.014981</td>\n",
       "      <td>0.000741</td>\n",
       "      <td>0.005653</td>\n",
       "      <td>0.032153</td>\n",
       "      <td>0.001884</td>\n",
       "      <td>-0.018005</td>\n",
       "      <td>-0.011060</td>\n",
       "    </tr>\n",
       "    <tr>\n",
       "      <th>4</th>\n",
       "      <td>0</td>\n",
       "      <td>-0.054680</td>\n",
       "      <td>0.033033</td>\n",
       "      <td>-0.090885</td>\n",
       "      <td>-0.047280</td>\n",
       "      <td>-0.029304</td>\n",
       "      <td>0.085893</td>\n",
       "      <td>-0.105351</td>\n",
       "      <td>-0.053915</td>\n",
       "      <td>-0.006857</td>\n",
       "      <td>0.021673</td>\n",
       "      <td>0.056718</td>\n",
       "      <td>0.006140</td>\n",
       "      <td>0.042217</td>\n",
       "      <td>0.018862</td>\n",
       "      <td>-0.007373</td>\n",
       "    </tr>\n",
       "  </tbody>\n",
       "</table>\n",
       "</div>"
      ]
     },
     "execution_count": 7,
     "metadata": {},
     "output_type": "execute_result"
    }
   ],
   "execution_count": 7
  },
  {
   "cell_type": "code",
   "source": [
    "from sklearn.model_selection import train_test_split\n",
    "\n",
    "X_train,X_test,y_train,y_test = train_test_split(dt.drop(['label_num'],axis=1),dt['label_num'])"
   ],
   "metadata": {
    "id": "9JFcbUBgdsRP",
    "ExecuteTime": {
     "end_time": "2024-12-13T08:53:22.208431Z",
     "start_time": "2024-12-13T08:53:17.660271Z"
    }
   },
   "outputs": [],
   "execution_count": 8
  },
  {
   "cell_type": "code",
   "source": [
    "y_test.value_counts().plot(kind='bar')\n",
    "plt.xlabel('Class')\n",
    "plt.ylabel('Number of Samples')\n",
    "plt.title('Test Data Distribution')\n",
    "plt.show()"
   ],
   "metadata": {
    "colab": {
     "base_uri": "https://localhost:8080/",
     "height": 467
    },
    "id": "VQr4ifIPeQDb",
    "outputId": "f7835657-8818-419b-8cad-5ff695906fab",
    "ExecuteTime": {
     "end_time": "2024-12-13T08:53:22.487748Z",
     "start_time": "2024-12-13T08:53:22.209711Z"
    }
   },
   "outputs": [
    {
     "data": {
      "text/plain": [
       "<Figure size 640x480 with 1 Axes>"
      ],
      "image/png": "[encoded data removed]"
     },
     "metadata": {},
     "output_type": "display_data"
    }
   ],
   "execution_count": 9
  },
  {
   "cell_type": "code",
   "source": [
    "from sklearn.linear_model import LogisticRegression\n",
    "\n",
    "\n",
    "model = LogisticRegression()\n",
    "model.fit(X_train,y_train)\n"
   ],
   "metadata": {
    "colab": {
     "base_uri": "https://localhost:8080/",
     "height": 79
    },
    "id": "GR4BEik5eSDl",
    "outputId": "cd2ebbc6-783b-428a-8579-3341117396e7",
    "ExecuteTime": {
     "end_time": "2024-12-13T08:53:22.798540Z",
     "start_time": "2024-12-13T08:53:22.491619Z"
    }
   },
   "outputs": [
    {
     "data": {
      "text/plain": [
       "LogisticRegression()"
      ],
      "text/html": [
       "<style>#sk-container-id-1 {\n",
       "  /* Definition of color scheme common for light and dark mode */\n",
       "  --sklearn-color-text: #000;\n",
       "  --sklearn-color-text-muted: #666;\n",
       "  --sklearn-color-line: gray;\n",
       "  /* Definition of color scheme for unfitted estimators */\n",
       "  --sklearn-color-unfitted-level-0: #fff5e6;\n",
       "  --sklearn-color-unfitted-level-1: #f6e4d2;\n",
       "  --sklearn-color-unfitted-level-2: #ffe0b3;\n",
       "  --sklearn-color-unfitted-level-3: chocolate;\n",
       "  /* Definition of color scheme for fitted estimators */\n",
       "  --sklearn-color-fitted-level-0: #f0f8ff;\n",
       "  --sklearn-color-fitted-level-1: #d4ebff;\n",
       "  --sklearn-color-fitted-level-2: #b3dbfd;\n",
       "  --sklearn-color-fitted-level-3: cornflowerblue;\n",
       "\n",
       "  /* Specific color for light theme */\n",
       "  --sklearn-color-text-on-default-background: var(--sg-text-color, var(--theme-code-foreground, var(--jp-content-font-color1, black)));\n",
       "  --sklearn-color-background: var(--sg-background-color, var(--theme-background, var(--jp-layout-color0, white)));\n",
       "  --sklearn-color-border-box: var(--sg-text-color, var(--theme-code-foreground, var(--jp-content-font-color1, black)));\n",
       "  --sklearn-color-icon: #696969;\n",
       "\n",
       "  @media (prefers-color-scheme: dark) {\n",
       "    /* Redefinition of color scheme for dark theme */\n",
       "    --sklearn-color-text-on-default-background: var(--sg-text-color, var(--theme-code-foreground, var(--jp-content-font-color1, white)));\n",
       "    --sklearn-color-background: var(--sg-background-color, var(--theme-background, var(--jp-layout-color0, #111)));\n",
       "    --sklearn-color-border-box: var(--sg-text-color, var(--theme-code-foreground, var(--jp-content-font-color1, white)));\n",
       "    --sklearn-color-icon: #878787;\n",
       "  }\n",
       "}\n",
       "\n",
       "#sk-container-id-1 {\n",
       "  color: var(--sklearn-color-text);\n",
       "}\n",
       "\n",
       "#sk-container-id-1 pre {\n",
       "  padding: 0;\n",
       "}\n",
       "\n",
       "#sk-container-id-1 input.sk-hidden--visually {\n",
       "  border: 0;\n",
       "  clip: rect(1px 1px 1px 1px);\n",
       "  clip: rect(1px, 1px, 1px, 1px);\n",
       "  height: 1px;\n",
       "  margin: -1px;\n",
       "  overflow: hidden;\n",
       "  padding: 0;\n",
       "  position: absolute;\n",
       "  width: 1px;\n",
       "}\n",
       "\n",
       "#sk-container-id-1 div.sk-dashed-wrapped {\n",
       "  border: 1px dashed var(--sklearn-color-line);\n",
       "  margin: 0 0.4em 0.5em 0.4em;\n",
       "  box-sizing: border-box;\n",
       "  padding-bottom: 0.4em;\n",
       "  background-color: var(--sklearn-color-background);\n",
       "}\n",
       "\n",
       "#sk-container-id-1 div.sk-container {\n",
       "  /* jupyter's `normalize.less` sets `[hidden] { display: none; }`\n",
       "     but bootstrap.min.css set `[hidden] { display: none !important; }`\n",
       "     so we also need the `!important` here to be able to override the\n",
       "     default hidden behavior on the sphinx rendered scikit-learn.org.\n",
       "     See: https://github.com/scikit-learn/scikit-learn/issues/21755 */\n",
       "  display: inline-block !important;\n",
       "  position: relative;\n",
       "}\n",
       "\n",
       "#sk-container-id-1 div.sk-text-repr-fallback {\n",
       "  display: none;\n",
       "}\n",
       "\n",
       "div.sk-parallel-item,\n",
       "div.sk-serial,\n",
       "div.sk-item {\n",
       "  /* draw centered vertical line to link estimators */\n",
       "  background-image: linear-gradient(var(--sklearn-color-text-on-default-background), var(--sklearn-color-text-on-default-background));\n",
       "  background-size: 2px 100%;\n",
       "  background-repeat: no-repeat;\n",
       "  background-position: center center;\n",
       "}\n",
       "\n",
       "/* Parallel-specific style estimator block */\n",
       "\n",
       "#sk-container-id-1 div.sk-parallel-item::after {\n",
       "  content: \"\";\n",
       "  width: 100%;\n",
       "  border-bottom: 2px solid var(--sklearn-color-text-on-default-background);\n",
       "  flex-grow: 1;\n",
       "}\n",
       "\n",
       "#sk-container-id-1 div.sk-parallel {\n",
       "  display: flex;\n",
       "  align-items: stretch;\n",
       "  justify-content: center;\n",
       "  background-color: var(--sklearn-color-background);\n",
       "  position: relative;\n",
       "}\n",
       "\n",
       "#sk-container-id-1 div.sk-parallel-item {\n",
       "  display: flex;\n",
       "  flex-direction: column;\n",
       "}\n",
       "\n",
       "#sk-container-id-1 div.sk-parallel-item:first-child::after {\n",
       "  align-self: flex-end;\n",
       "  width: 50%;\n",
       "}\n",
       "\n",
       "#sk-container-id-1 div.sk-parallel-item:last-child::after {\n",
       "  align-self: flex-start;\n",
       "  width: 50%;\n",
       "}\n",
       "\n",
       "#sk-container-id-1 div.sk-parallel-item:only-child::after {\n",
       "  width: 0;\n",
       "}\n",
       "\n",
       "/* Serial-specific style estimator block */\n",
       "\n",
       "#sk-container-id-1 div.sk-serial {\n",
       "  display: flex;\n",
       "  flex-direction: column;\n",
       "  align-items: center;\n",
       "  background-color: var(--sklearn-color-background);\n",
       "  padding-right: 1em;\n",
       "  padding-left: 1em;\n",
       "}\n",
       "\n",
       "\n",
       "/* Toggleable style: style used for estimator/Pipeline/ColumnTransformer box that is\n",
       "clickable and can be expanded/collapsed.\n",
       "- Pipeline and ColumnTransformer use this feature and define the default style\n",
       "- Estimators will overwrite some part of the style using the `sk-estimator` class\n",
       "*/\n",
       "\n",
       "/* Pipeline and ColumnTransformer style (default) */\n",
       "\n",
       "#sk-container-id-1 div.sk-toggleable {\n",
       "  /* Default theme specific background. It is overwritten whether we have a\n",
       "  specific estimator or a Pipeline/ColumnTransformer */\n",
       "  background-color: var(--sklearn-color-background);\n",
       "}\n",
       "\n",
       "/* Toggleable label */\n",
       "#sk-container-id-1 label.sk-toggleable__label {\n",
       "  cursor: pointer;\n",
       "  display: flex;\n",
       "  width: 100%;\n",
       "  margin-bottom: 0;\n",
       "  padding: 0.5em;\n",
       "  box-sizing: border-box;\n",
       "  text-align: center;\n",
       "  align-items: start;\n",
       "  justify-content: space-between;\n",
       "  gap: 0.5em;\n",
       "}\n",
       "\n",
       "#sk-container-id-1 label.sk-toggleable__label .caption {\n",
       "  font-size: 0.6rem;\n",
       "  font-weight: lighter;\n",
       "  color: var(--sklearn-color-text-muted);\n",
       "}\n",
       "\n",
       "#sk-container-id-1 label.sk-toggleable__label-arrow:before {\n",
       "  /* Arrow on the left of the label */\n",
       "  content: \"▸\";\n",
       "  float: left;\n",
       "  margin-right: 0.25em;\n",
       "  color: var(--sklearn-color-icon);\n",
       "}\n",
       "\n",
       "#sk-container-id-1 label.sk-toggleable__label-arrow:hover:before {\n",
       "  color: var(--sklearn-color-text);\n",
       "}\n",
       "\n",
       "/* Toggleable content - dropdown */\n",
       "\n",
       "#sk-container-id-1 div.sk-toggleable__content {\n",
       "  max-height: 0;\n",
       "  max-width: 0;\n",
       "  overflow: hidden;\n",
       "  text-align: left;\n",
       "  /* unfitted */\n",
       "  background-color: var(--sklearn-color-unfitted-level-0);\n",
       "}\n",
       "\n",
       "#sk-container-id-1 div.sk-toggleable__content.fitted {\n",
       "  /* fitted */\n",
       "  background-color: var(--sklearn-color-fitted-level-0);\n",
       "}\n",
       "\n",
       "#sk-container-id-1 div.sk-toggleable__content pre {\n",
       "  margin: 0.2em;\n",
       "  border-radius: 0.25em;\n",
       "  color: var(--sklearn-color-text);\n",
       "  /* unfitted */\n",
       "  background-color: var(--sklearn-color-unfitted-level-0);\n",
       "}\n",
       "\n",
       "#sk-container-id-1 div.sk-toggleable__content.fitted pre {\n",
       "  /* unfitted */\n",
       "  background-color: var(--sklearn-color-fitted-level-0);\n",
       "}\n",
       "\n",
       "#sk-container-id-1 input.sk-toggleable__control:checked~div.sk-toggleable__content {\n",
       "  /* Expand drop-down */\n",
       "  max-height: 200px;\n",
       "  max-width: 100%;\n",
       "  overflow: auto;\n",
       "}\n",
       "\n",
       "#sk-container-id-1 input.sk-toggleable__control:checked~label.sk-toggleable__label-arrow:before {\n",
       "  content: \"▾\";\n",
       "}\n",
       "\n",
       "/* Pipeline/ColumnTransformer-specific style */\n",
       "\n",
       "#sk-container-id-1 div.sk-label input.sk-toggleable__control:checked~label.sk-toggleable__label {\n",
       "  color: var(--sklearn-color-text);\n",
       "  background-color: var(--sklearn-color-unfitted-level-2);\n",
       "}\n",
       "\n",
       "#sk-container-id-1 div.sk-label.fitted input.sk-toggleable__control:checked~label.sk-toggleable__label {\n",
       "  background-color: var(--sklearn-color-fitted-level-2);\n",
       "}\n",
       "\n",
       "/* Estimator-specific style */\n",
       "\n",
       "/* Colorize estimator box */\n",
       "#sk-container-id-1 div.sk-estimator input.sk-toggleable__control:checked~label.sk-toggleable__label {\n",
       "  /* unfitted */\n",
       "  background-color: var(--sklearn-color-unfitted-level-2);\n",
       "}\n",
       "\n",
       "#sk-container-id-1 div.sk-estimator.fitted input.sk-toggleable__control:checked~label.sk-toggleable__label {\n",
       "  /* fitted */\n",
       "  background-color: var(--sklearn-color-fitted-level-2);\n",
       "}\n",
       "\n",
       "#sk-container-id-1 div.sk-label label.sk-toggleable__label,\n",
       "#sk-container-id-1 div.sk-label label {\n",
       "  /* The background is the default theme color */\n",
       "  color: var(--sklearn-color-text-on-default-background);\n",
       "}\n",
       "\n",
       "/* On hover, darken the color of the background */\n",
       "#sk-container-id-1 div.sk-label:hover label.sk-toggleable__label {\n",
       "  color: var(--sklearn-color-text);\n",
       "  background-color: var(--sklearn-color-unfitted-level-2);\n",
       "}\n",
       "\n",
       "/* Label box, darken color on hover, fitted */\n",
       "#sk-container-id-1 div.sk-label.fitted:hover label.sk-toggleable__label.fitted {\n",
       "  color: var(--sklearn-color-text);\n",
       "  background-color: var(--sklearn-color-fitted-level-2);\n",
       "}\n",
       "\n",
       "/* Estimator label */\n",
       "\n",
       "#sk-container-id-1 div.sk-label label {\n",
       "  font-family: monospace;\n",
       "  font-weight: bold;\n",
       "  display: inline-block;\n",
       "  line-height: 1.2em;\n",
       "}\n",
       "\n",
       "#sk-container-id-1 div.sk-label-container {\n",
       "  text-align: center;\n",
       "}\n",
       "\n",
       "/* Estimator-specific */\n",
       "#sk-container-id-1 div.sk-estimator {\n",
       "  font-family: monospace;\n",
       "  border: 1px dotted var(--sklearn-color-border-box);\n",
       "  border-radius: 0.25em;\n",
       "  box-sizing: border-box;\n",
       "  margin-bottom: 0.5em;\n",
       "  /* unfitted */\n",
       "  background-color: var(--sklearn-color-unfitted-level-0);\n",
       "}\n",
       "\n",
       "#sk-container-id-1 div.sk-estimator.fitted {\n",
       "  /* fitted */\n",
       "  background-color: var(--sklearn-color-fitted-level-0);\n",
       "}\n",
       "\n",
       "/* on hover */\n",
       "#sk-container-id-1 div.sk-estimator:hover {\n",
       "  /* unfitted */\n",
       "  background-color: var(--sklearn-color-unfitted-level-2);\n",
       "}\n",
       "\n",
       "#sk-container-id-1 div.sk-estimator.fitted:hover {\n",
       "  /* fitted */\n",
       "  background-color: var(--sklearn-color-fitted-level-2);\n",
       "}\n",
       "\n",
       "/* Specification for estimator info (e.g. \"i\" and \"?\") */\n",
       "\n",
       "/* Common style for \"i\" and \"?\" */\n",
       "\n",
       ".sk-estimator-doc-link,\n",
       "a:link.sk-estimator-doc-link,\n",
       "a:visited.sk-estimator-doc-link {\n",
       "  float: right;\n",
       "  font-size: smaller;\n",
       "  line-height: 1em;\n",
       "  font-family: monospace;\n",
       "  background-color: var(--sklearn-color-background);\n",
       "  border-radius: 1em;\n",
       "  height: 1em;\n",
       "  width: 1em;\n",
       "  text-decoration: none !important;\n",
       "  margin-left: 0.5em;\n",
       "  text-align: center;\n",
       "  /* unfitted */\n",
       "  border: var(--sklearn-color-unfitted-level-1) 1pt solid;\n",
       "  color: var(--sklearn-color-unfitted-level-1);\n",
       "}\n",
       "\n",
       ".sk-estimator-doc-link.fitted,\n",
       "a:link.sk-estimator-doc-link.fitted,\n",
       "a:visited.sk-estimator-doc-link.fitted {\n",
       "  /* fitted */\n",
       "  border: var(--sklearn-color-fitted-level-1) 1pt solid;\n",
       "  color: var(--sklearn-color-fitted-level-1);\n",
       "}\n",
       "\n",
       "/* On hover */\n",
       "div.sk-estimator:hover .sk-estimator-doc-link:hover,\n",
       ".sk-estimator-doc-link:hover,\n",
       "div.sk-label-container:hover .sk-estimator-doc-link:hover,\n",
       ".sk-estimator-doc-link:hover {\n",
       "  /* unfitted */\n",
       "  background-color: var(--sklearn-color-unfitted-level-3);\n",
       "  color: var(--sklearn-color-background);\n",
       "  text-decoration: none;\n",
       "}\n",
       "\n",
       "div.sk-estimator.fitted:hover .sk-estimator-doc-link.fitted:hover,\n",
       ".sk-estimator-doc-link.fitted:hover,\n",
       "div.sk-label-container:hover .sk-estimator-doc-link.fitted:hover,\n",
       ".sk-estimator-doc-link.fitted:hover {\n",
       "  /* fitted */\n",
       "  background-color: var(--sklearn-color-fitted-level-3);\n",
       "  color: var(--sklearn-color-background);\n",
       "  text-decoration: none;\n",
       "}\n",
       "\n",
       "/* Span, style for the box shown on hovering the info icon */\n",
       ".sk-estimator-doc-link span {\n",
       "  display: none;\n",
       "  z-index: 9999;\n",
       "  position: relative;\n",
       "  font-weight: normal;\n",
       "  right: .2ex;\n",
       "  padding: .5ex;\n",
       "  margin: .5ex;\n",
       "  width: min-content;\n",
       "  min-width: 20ex;\n",
       "  max-width: 50ex;\n",
       "  color: var(--sklearn-color-text);\n",
       "  box-shadow: 2pt 2pt 4pt #999;\n",
       "  /* unfitted */\n",
       "  background: var(--sklearn-color-unfitted-level-0);\n",
       "  border: .5pt solid var(--sklearn-color-unfitted-level-3);\n",
       "}\n",
       "\n",
       ".sk-estimator-doc-link.fitted span {\n",
       "  /* fitted */\n",
       "  background: var(--sklearn-color-fitted-level-0);\n",
       "  border: var(--sklearn-color-fitted-level-3);\n",
       "}\n",
       "\n",
       ".sk-estimator-doc-link:hover span {\n",
       "  display: block;\n",
       "}\n",
       "\n",
       "/* \"?\"-specific style due to the `<a>` HTML tag */\n",
       "\n",
       "#sk-container-id-1 a.estimator_doc_link {\n",
       "  float: right;\n",
       "  font-size: 1rem;\n",
       "  line-height: 1em;\n",
       "  font-family: monospace;\n",
       "  background-color: var(--sklearn-color-background);\n",
       "  border-radius: 1rem;\n",
       "  height: 1rem;\n",
       "  width: 1rem;\n",
       "  text-decoration: none;\n",
       "  /* unfitted */\n",
       "  color: var(--sklearn-color-unfitted-level-1);\n",
       "  border: var(--sklearn-color-unfitted-level-1) 1pt solid;\n",
       "}\n",
       "\n",
       "#sk-container-id-1 a.estimator_doc_link.fitted {\n",
       "  /* fitted */\n",
       "  border: var(--sklearn-color-fitted-level-1) 1pt solid;\n",
       "  color: var(--sklearn-color-fitted-level-1);\n",
       "}\n",
       "\n",
       "/* On hover */\n",
       "#sk-container-id-1 a.estimator_doc_link:hover {\n",
       "  /* unfitted */\n",
       "  background-color: var(--sklearn-color-unfitted-level-3);\n",
       "  color: var(--sklearn-color-background);\n",
       "  text-decoration: none;\n",
       "}\n",
       "\n",
       "#sk-container-id-1 a.estimator_doc_link.fitted:hover {\n",
       "  /* fitted */\n",
       "  background-color: var(--sklearn-color-fitted-level-3);\n",
       "}\n",
       "</style><div id=\"sk-container-id-1\" class=\"sk-top-container\"><div class=\"sk-text-repr-fallback\"><pre>LogisticRegression()</pre><b>In a Jupyter environment, please rerun this cell to show the HTML representation or trust the notebook. <br />On GitHub, the HTML representation is unable to render, please try loading this page with nbviewer.org.</b></div><div class=\"sk-container\" hidden><div class=\"sk-item\"><div class=\"sk-estimator fitted sk-toggleable\"><input class=\"sk-toggleable__control sk-hidden--visually\" id=\"sk-estimator-id-1\" type=\"checkbox\" checked><label for=\"sk-estimator-id-1\" class=\"sk-toggleable__label fitted sk-toggleable__label-arrow\"><div><div>LogisticRegression</div></div><div><a class=\"sk-estimator-doc-link fitted\" rel=\"noreferrer\" target=\"_blank\" href=\"https://scikit-learn.org/1.6/modules/generated/sklearn.linear_model.LogisticRegression.html\">?<span>Documentation for LogisticRegression</span></a><span class=\"sk-estimator-doc-link fitted\">i<span>Fitted</span></span></div></label><div class=\"sk-toggleable__content fitted\"><pre>LogisticRegression()</pre></div> </div></div></div></div>"
      ]
     },
     "execution_count": 10,
     "metadata": {},
     "output_type": "execute_result"
    }
   ],
   "execution_count": 10
  },
  {
   "cell_type": "code",
   "source": [
    "print('Model Accuracy:',model.score(X_test,y_test))"
   ],
   "metadata": {
    "colab": {
     "base_uri": "https://localhost:8080/"
    },
    "id": "C0bZ7KLPegQv",
    "outputId": "f64b1200-df3f-45d1-9081-51a2f341afde",
    "ExecuteTime": {
     "end_time": "2024-12-13T08:53:22.809089Z",
     "start_time": "2024-12-13T08:53:22.800327Z"
    }
   },
   "outputs": [
    {
     "name": "stdout",
     "output_type": "stream",
     "text": [
      "Model Accuracy: 0.9381283836040216\n"
     ]
    }
   ],
   "execution_count": 11
  },
  {
   "metadata": {},
   "cell_type": "markdown",
   "source": [
    "if data1: 20 Cancer Patients and 100 non-Cancer Patients and data2: 80 Cancer Patients 100 non-Cancer Patients, then:\n",
    "\n",
    "A) Data1 = Imbalance, Data2 = balance\n",
    "B) Data1 = balance, Data2 = Imbalance\n",
    "C) Data1 = balance, Data2 = balance\n",
    "Data1 = Imbalance, Data2 = Imbalance"
   ]
  },
  {
   "metadata": {},
   "cell_type": "markdown",
   "source": [
    "Why is accuracy a bad metric when dealing with imbalanced data?\n",
    "\n",
    "a) It focuses only on the minority class.\n",
    "\n",
    "b) It is sensitive to the distribution of positive instances only.\n",
    "\n",
    "c) It overestimates the model's performance when the majority class dominates.\n",
    "\n",
    "d) Accuracy is insensitive to imbalance data"
   ]
  },
  {
   "metadata": {},
   "cell_type": "markdown",
   "source": [
    "What is a confusion matrix?\n",
    "\n",
    "a) A matrix used to calculate accuracy only\n",
    "\n",
    "b) A matrix used to visualize the performance of model.\n",
    "\n",
    "c) A matrix that summarizes the results of model\n",
    "\n",
    "d) A matrix that stores the feature of data"
   ]
  },
  {
   "metadata": {},
   "cell_type": "markdown",
   "source": [
    "if model classifies students into Group A,B and C , then Confusion matrix looks like ?\n",
    "\n",
    "a) 12 x 12\n",
    "b) 2 x 2\n",
    "c) 4 x 4\n",
    "d) 3 X 3"
   ]
  },
  {
   "metadata": {},
   "cell_type": "markdown",
   "source": [
    "For Ideal Model, which of the following is true?\n",
    "\n",
    "a. FP and FN ⇓, while TP and TN ⇑\n",
    "b. TP and TN ⇓, while FP and FN ⇑\n",
    "c. TP and FN ⇓, while FP and TN ⇑\n",
    "d. FP and TN ⇓, while TP and FN ⇑"
   ]
  },
  {
   "cell_type": "code",
   "source": [
    "from sklearn.metrics import confusion_matrix"
   ],
   "metadata": {
    "id": "kJwZe4dlrPMc",
    "ExecuteTime": {
     "end_time": "2024-12-13T08:54:01.001735Z",
     "start_time": "2024-12-13T08:54:00.997457Z"
    }
   },
   "outputs": [],
   "execution_count": 13
  },
  {
   "cell_type": "code",
   "source": [
    "y_pred= model.predict(X_test)"
   ],
   "metadata": {
    "id": "PtgfBpT2rPOx",
    "ExecuteTime": {
     "end_time": "2024-12-13T08:54:01.091417Z",
     "start_time": "2024-12-13T08:54:01.083656Z"
    }
   },
   "outputs": [],
   "execution_count": 14
  },
  {
   "cell_type": "code",
   "source": [
    "y_pred_prob= model.predict_proba(X_test)"
   ],
   "metadata": {
    "id": "7HLPhNDFr0KV",
    "ExecuteTime": {
     "end_time": "2024-12-13T08:54:01.115251Z",
     "start_time": "2024-12-13T08:54:01.109733Z"
    }
   },
   "outputs": [],
   "execution_count": 15
  },
  {
   "cell_type": "code",
   "source": [
    "y_pred_prob"
   ],
   "metadata": {
    "colab": {
     "base_uri": "https://localhost:8080/"
    },
    "id": "O5qtVos8r0Mr",
    "outputId": "18078c82-d476-40ac-af08-c2c74c6644f5",
    "ExecuteTime": {
     "end_time": "2024-12-13T08:54:01.153517Z",
     "start_time": "2024-12-13T08:54:01.147609Z"
    }
   },
   "outputs": [
    {
     "data": {
      "text/plain": [
       "array([[0.98659858, 0.01340142],\n",
       "       [0.30736932, 0.69263068],\n",
       "       [0.99116155, 0.00883845],\n",
       "       ...,\n",
       "       [0.30871976, 0.69128024],\n",
       "       [0.49368652, 0.50631348],\n",
       "       [0.43004218, 0.56995782]], shape=(1293, 2))"
      ]
     },
     "execution_count": 16,
     "metadata": {},
     "output_type": "execute_result"
    }
   ],
   "execution_count": 16
  },
  {
   "cell_type": "code",
   "source": [
    "y_pred"
   ],
   "metadata": {
    "colab": {
     "base_uri": "https://localhost:8080/"
    },
    "id": "5cD27NP6rrX_",
    "outputId": "6c65f87e-e1d2-4333-ee5a-48ca47aae52c",
    "ExecuteTime": {
     "end_time": "2024-12-13T08:54:01.195956Z",
     "start_time": "2024-12-13T08:54:01.189755Z"
    }
   },
   "outputs": [
    {
     "data": {
      "text/plain": [
       "array([0, 1, 0, ..., 1, 1, 1], shape=(1293,))"
      ]
     },
     "execution_count": 17,
     "metadata": {},
     "output_type": "execute_result"
    }
   ],
   "execution_count": 17
  },
  {
   "cell_type": "code",
   "source": [
    "X_test"
   ],
   "metadata": {
    "colab": {
     "base_uri": "https://localhost:8080/",
     "height": 443
    },
    "id": "ZhG8Z4Tjrsev",
    "outputId": "206f9256-06b6-432b-ca2e-82718915ad28",
    "ExecuteTime": {
     "end_time": "2024-12-13T08:54:01.244128Z",
     "start_time": "2024-12-13T08:54:01.231752Z"
    }
   },
   "outputs": [
    {
     "data": {
      "text/plain": [
       "      Feature0  Feature1  Feature2  Feature3  Feature4  Feature5  Feature6  \\\n",
       "1545  0.036868  0.138338 -0.006008  0.118247  0.043443  0.102191  0.151050   \n",
       "803  -0.083867 -0.060479 -0.060978 -0.046569 -0.007123 -0.054261  0.025036   \n",
       "1238  0.239689  0.020882 -0.002366  0.058034 -0.048295  0.016088  0.003733   \n",
       "5144 -0.076275 -0.063585 -0.037085 -0.018023 -0.015856 -0.006593  0.041579   \n",
       "4628  0.211027 -0.024769 -0.016478 -0.033833 -0.005651  0.027271 -0.086757   \n",
       "...        ...       ...       ...       ...       ...       ...       ...   \n",
       "4503 -0.022088 -0.011234 -0.027505  0.013878 -0.032678  0.026177 -0.042767   \n",
       "12   -0.029065  0.753541 -0.212396 -0.134647  0.064608 -0.004920 -0.015779   \n",
       "862  -0.080875 -0.076033 -0.041696 -0.045093 -0.016485 -0.047527  0.018505   \n",
       "3435 -0.077406 -0.064069 -0.032985 -0.013004  0.056713 -0.051291 -0.002683   \n",
       "871  -0.074276 -0.062397 -0.028327 -0.036291  0.002446 -0.030873  0.019655   \n",
       "\n",
       "      Feature7  Feature8  Feature9  Feature10  Feature11  Feature12  \\\n",
       "1545  0.004426 -0.045708 -0.055579  -0.135814  -0.033090  -0.032850   \n",
       "803  -0.008956 -0.008199  0.005028  -0.013659  -0.032607   0.024293   \n",
       "1238  0.134509  0.030448 -0.042276   0.004593   0.022101   0.031100   \n",
       "5144  0.007897 -0.017069 -0.000210   0.001320  -0.004901   0.091918   \n",
       "4628  0.064985  0.047784 -0.028982   0.060946   0.014605   0.010595   \n",
       "...        ...       ...       ...        ...        ...        ...   \n",
       "4503  0.135959  0.124672 -0.144449   0.078777   0.034855   0.030854   \n",
       "12   -0.055223 -0.019257 -0.007428   0.006927  -0.012238   0.004489   \n",
       "862  -0.006471 -0.008398  0.005172   0.001341  -0.000315  -0.000815   \n",
       "3435 -0.004704 -0.005623  0.002384   0.006105   0.032249  -0.003476   \n",
       "871  -0.011814 -0.013897  0.001077   0.001053   0.020736  -0.011058   \n",
       "\n",
       "      Feature13  Feature14  \n",
       "1545   0.116045  -0.073489  \n",
       "803    0.009132  -0.008176  \n",
       "1238  -0.083898   0.003320  \n",
       "5144  -0.035367  -0.011141  \n",
       "4628  -0.044623   0.015659  \n",
       "...         ...        ...  \n",
       "4503  -0.071352  -0.017328  \n",
       "12     0.001382  -0.028178  \n",
       "862   -0.027526  -0.022083  \n",
       "3435  -0.001371  -0.016527  \n",
       "871   -0.022475  -0.012236  \n",
       "\n",
       "[1293 rows x 15 columns]"
      ],
      "text/html": [
       "<div>\n",
       "<style scoped>\n",
       "    .dataframe tbody tr th:only-of-type {\n",
       "        vertical-align: middle;\n",
       "    }\n",
       "\n",
       "    .dataframe tbody tr th {\n",
       "        vertical-align: top;\n",
       "    }\n",
       "\n",
       "    .dataframe thead th {\n",
       "        text-align: right;\n",
       "    }\n",
       "</style>\n",
       "<table border=\"1\" class=\"dataframe\">\n",
       "  <thead>\n",
       "    <tr style=\"text-align: right;\">\n",
       "      <th></th>\n",
       "      <th>Feature0</th>\n",
       "      <th>Feature1</th>\n",
       "      <th>Feature2</th>\n",
       "      <th>Feature3</th>\n",
       "      <th>Feature4</th>\n",
       "      <th>Feature5</th>\n",
       "      <th>Feature6</th>\n",
       "      <th>Feature7</th>\n",
       "      <th>Feature8</th>\n",
       "      <th>Feature9</th>\n",
       "      <th>Feature10</th>\n",
       "      <th>Feature11</th>\n",
       "      <th>Feature12</th>\n",
       "      <th>Feature13</th>\n",
       "      <th>Feature14</th>\n",
       "    </tr>\n",
       "  </thead>\n",
       "  <tbody>\n",
       "    <tr>\n",
       "      <th>1545</th>\n",
       "      <td>0.036868</td>\n",
       "      <td>0.138338</td>\n",
       "      <td>-0.006008</td>\n",
       "      <td>0.118247</td>\n",
       "      <td>0.043443</td>\n",
       "      <td>0.102191</td>\n",
       "      <td>0.151050</td>\n",
       "      <td>0.004426</td>\n",
       "      <td>-0.045708</td>\n",
       "      <td>-0.055579</td>\n",
       "      <td>-0.135814</td>\n",
       "      <td>-0.033090</td>\n",
       "      <td>-0.032850</td>\n",
       "      <td>0.116045</td>\n",
       "      <td>-0.073489</td>\n",
       "    </tr>\n",
       "    <tr>\n",
       "      <th>803</th>\n",
       "      <td>-0.083867</td>\n",
       "      <td>-0.060479</td>\n",
       "      <td>-0.060978</td>\n",
       "      <td>-0.046569</td>\n",
       "      <td>-0.007123</td>\n",
       "      <td>-0.054261</td>\n",
       "      <td>0.025036</td>\n",
       "      <td>-0.008956</td>\n",
       "      <td>-0.008199</td>\n",
       "      <td>0.005028</td>\n",
       "      <td>-0.013659</td>\n",
       "      <td>-0.032607</td>\n",
       "      <td>0.024293</td>\n",
       "      <td>0.009132</td>\n",
       "      <td>-0.008176</td>\n",
       "    </tr>\n",
       "    <tr>\n",
       "      <th>1238</th>\n",
       "      <td>0.239689</td>\n",
       "      <td>0.020882</td>\n",
       "      <td>-0.002366</td>\n",
       "      <td>0.058034</td>\n",
       "      <td>-0.048295</td>\n",
       "      <td>0.016088</td>\n",
       "      <td>0.003733</td>\n",
       "      <td>0.134509</td>\n",
       "      <td>0.030448</td>\n",
       "      <td>-0.042276</td>\n",
       "      <td>0.004593</td>\n",
       "      <td>0.022101</td>\n",
       "      <td>0.031100</td>\n",
       "      <td>-0.083898</td>\n",
       "      <td>0.003320</td>\n",
       "    </tr>\n",
       "    <tr>\n",
       "      <th>5144</th>\n",
       "      <td>-0.076275</td>\n",
       "      <td>-0.063585</td>\n",
       "      <td>-0.037085</td>\n",
       "      <td>-0.018023</td>\n",
       "      <td>-0.015856</td>\n",
       "      <td>-0.006593</td>\n",
       "      <td>0.041579</td>\n",
       "      <td>0.007897</td>\n",
       "      <td>-0.017069</td>\n",
       "      <td>-0.000210</td>\n",
       "      <td>0.001320</td>\n",
       "      <td>-0.004901</td>\n",
       "      <td>0.091918</td>\n",
       "      <td>-0.035367</td>\n",
       "      <td>-0.011141</td>\n",
       "    </tr>\n",
       "    <tr>\n",
       "      <th>4628</th>\n",
       "      <td>0.211027</td>\n",
       "      <td>-0.024769</td>\n",
       "      <td>-0.016478</td>\n",
       "      <td>-0.033833</td>\n",
       "      <td>-0.005651</td>\n",
       "      <td>0.027271</td>\n",
       "      <td>-0.086757</td>\n",
       "      <td>0.064985</td>\n",
       "      <td>0.047784</td>\n",
       "      <td>-0.028982</td>\n",
       "      <td>0.060946</td>\n",
       "      <td>0.014605</td>\n",
       "      <td>0.010595</td>\n",
       "      <td>-0.044623</td>\n",
       "      <td>0.015659</td>\n",
       "    </tr>\n",
       "    <tr>\n",
       "      <th>...</th>\n",
       "      <td>...</td>\n",
       "      <td>...</td>\n",
       "      <td>...</td>\n",
       "      <td>...</td>\n",
       "      <td>...</td>\n",
       "      <td>...</td>\n",
       "      <td>...</td>\n",
       "      <td>...</td>\n",
       "      <td>...</td>\n",
       "      <td>...</td>\n",
       "      <td>...</td>\n",
       "      <td>...</td>\n",
       "      <td>...</td>\n",
       "      <td>...</td>\n",
       "      <td>...</td>\n",
       "    </tr>\n",
       "    <tr>\n",
       "      <th>4503</th>\n",
       "      <td>-0.022088</td>\n",
       "      <td>-0.011234</td>\n",
       "      <td>-0.027505</td>\n",
       "      <td>0.013878</td>\n",
       "      <td>-0.032678</td>\n",
       "      <td>0.026177</td>\n",
       "      <td>-0.042767</td>\n",
       "      <td>0.135959</td>\n",
       "      <td>0.124672</td>\n",
       "      <td>-0.144449</td>\n",
       "      <td>0.078777</td>\n",
       "      <td>0.034855</td>\n",
       "      <td>0.030854</td>\n",
       "      <td>-0.071352</td>\n",
       "      <td>-0.017328</td>\n",
       "    </tr>\n",
       "    <tr>\n",
       "      <th>12</th>\n",
       "      <td>-0.029065</td>\n",
       "      <td>0.753541</td>\n",
       "      <td>-0.212396</td>\n",
       "      <td>-0.134647</td>\n",
       "      <td>0.064608</td>\n",
       "      <td>-0.004920</td>\n",
       "      <td>-0.015779</td>\n",
       "      <td>-0.055223</td>\n",
       "      <td>-0.019257</td>\n",
       "      <td>-0.007428</td>\n",
       "      <td>0.006927</td>\n",
       "      <td>-0.012238</td>\n",
       "      <td>0.004489</td>\n",
       "      <td>0.001382</td>\n",
       "      <td>-0.028178</td>\n",
       "    </tr>\n",
       "    <tr>\n",
       "      <th>862</th>\n",
       "      <td>-0.080875</td>\n",
       "      <td>-0.076033</td>\n",
       "      <td>-0.041696</td>\n",
       "      <td>-0.045093</td>\n",
       "      <td>-0.016485</td>\n",
       "      <td>-0.047527</td>\n",
       "      <td>0.018505</td>\n",
       "      <td>-0.006471</td>\n",
       "      <td>-0.008398</td>\n",
       "      <td>0.005172</td>\n",
       "      <td>0.001341</td>\n",
       "      <td>-0.000315</td>\n",
       "      <td>-0.000815</td>\n",
       "      <td>-0.027526</td>\n",
       "      <td>-0.022083</td>\n",
       "    </tr>\n",
       "    <tr>\n",
       "      <th>3435</th>\n",
       "      <td>-0.077406</td>\n",
       "      <td>-0.064069</td>\n",
       "      <td>-0.032985</td>\n",
       "      <td>-0.013004</td>\n",
       "      <td>0.056713</td>\n",
       "      <td>-0.051291</td>\n",
       "      <td>-0.002683</td>\n",
       "      <td>-0.004704</td>\n",
       "      <td>-0.005623</td>\n",
       "      <td>0.002384</td>\n",
       "      <td>0.006105</td>\n",
       "      <td>0.032249</td>\n",
       "      <td>-0.003476</td>\n",
       "      <td>-0.001371</td>\n",
       "      <td>-0.016527</td>\n",
       "    </tr>\n",
       "    <tr>\n",
       "      <th>871</th>\n",
       "      <td>-0.074276</td>\n",
       "      <td>-0.062397</td>\n",
       "      <td>-0.028327</td>\n",
       "      <td>-0.036291</td>\n",
       "      <td>0.002446</td>\n",
       "      <td>-0.030873</td>\n",
       "      <td>0.019655</td>\n",
       "      <td>-0.011814</td>\n",
       "      <td>-0.013897</td>\n",
       "      <td>0.001077</td>\n",
       "      <td>0.001053</td>\n",
       "      <td>0.020736</td>\n",
       "      <td>-0.011058</td>\n",
       "      <td>-0.022475</td>\n",
       "      <td>-0.012236</td>\n",
       "    </tr>\n",
       "  </tbody>\n",
       "</table>\n",
       "<p>1293 rows × 15 columns</p>\n",
       "</div>"
      ]
     },
     "execution_count": 18,
     "metadata": {},
     "output_type": "execute_result"
    }
   ],
   "execution_count": 18
  },
  {
   "cell_type": "code",
   "source": [
    "cm=confusion_matrix(y_test, y_pred)"
   ],
   "metadata": {
    "id": "w6Z7mJGqruwh",
    "ExecuteTime": {
     "end_time": "2024-12-13T08:54:01.267563Z",
     "start_time": "2024-12-13T08:54:01.261247Z"
    }
   },
   "outputs": [],
   "execution_count": 19
  },
  {
   "cell_type": "code",
   "source": [
    "cm"
   ],
   "metadata": {
    "colab": {
     "base_uri": "https://localhost:8080/"
    },
    "id": "H2j-RY79sHry",
    "outputId": "50583e03-41d6-4197-8cc1-160aa213e86b",
    "ExecuteTime": {
     "end_time": "2024-12-13T08:54:01.308564Z",
     "start_time": "2024-12-13T08:54:01.303014Z"
    }
   },
   "outputs": [
    {
     "data": {
      "text/plain": [
       "array([[869,  54],\n",
       "       [ 26, 344]])"
      ]
     },
     "execution_count": 20,
     "metadata": {},
     "output_type": "execute_result"
    }
   ],
   "execution_count": 20
  },
  {
   "cell_type": "code",
   "source": [
    "from sklearn.metrics import ConfusionMatrixDisplay"
   ],
   "metadata": {
    "id": "a6atoLDesO9w",
    "ExecuteTime": {
     "end_time": "2024-12-13T08:54:01.345099Z",
     "start_time": "2024-12-13T08:54:01.341371Z"
    }
   },
   "outputs": [],
   "execution_count": 21
  },
  {
   "cell_type": "code",
   "source": [
    "ConfusionMatrixDisplay(cm).plot()"
   ],
   "metadata": {
    "colab": {
     "base_uri": "https://localhost:8080/",
     "height": 466
    },
    "id": "uh4IwHbSslOS",
    "outputId": "4c0aef1c-b2b3-4049-d80d-b3efc549d4ae",
    "ExecuteTime": {
     "end_time": "2024-12-13T08:54:01.600549Z",
     "start_time": "2024-12-13T08:54:01.455181Z"
    }
   },
   "outputs": [
    {
     "data": {
      "text/plain": [
       "<sklearn.metrics._plot.confusion_matrix.ConfusionMatrixDisplay at 0x27915c10c20>"
      ]
     },
     "execution_count": 22,
     "metadata": {},
     "output_type": "execute_result"
    },
    {
     "data": {
      "text/plain": [
       "<Figure size 640x480 with 2 Axes>"
      ],
      "image/png": "[encoded data removed]"
     },
     "metadata": {},
     "output_type": "display_data"
    }
   ],
   "execution_count": 22
  },
  {
   "cell_type": "code",
   "source": [
    "np.diag(cm).sum() / cm.sum() #accuracy"
   ],
   "metadata": {
    "colab": {
     "base_uri": "https://localhost:8080/"
    },
    "id": "qKtkg6fOsoPN",
    "outputId": "729e3f79-e7bb-4d2b-f241-6af5b0084330",
    "ExecuteTime": {
     "end_time": "2024-12-13T08:54:01.608803Z",
     "start_time": "2024-12-13T08:54:01.603200Z"
    }
   },
   "outputs": [
    {
     "data": {
      "text/plain": [
       "np.float64(0.9381283836040216)"
      ]
     },
     "execution_count": 23,
     "metadata": {},
     "output_type": "execute_result"
    }
   ],
   "execution_count": 23
  },
  {
   "cell_type": "code",
   "source": [
    "def precision_calc(cm):\n",
    "  tp = cm[1,1]\n",
    "  fp = cm[0,1]\n",
    "\n",
    "  return tp/(tp+fp)"
   ],
   "metadata": {
    "id": "cT-m6C6HsyFW",
    "ExecuteTime": {
     "end_time": "2024-12-13T08:54:01.615761Z",
     "start_time": "2024-12-13T08:54:01.610787Z"
    }
   },
   "outputs": [],
   "execution_count": 24
  },
  {
   "metadata": {
    "ExecuteTime": {
     "end_time": "2024-12-13T09:14:22.425269Z",
     "start_time": "2024-12-13T09:14:22.419769Z"
    }
   },
   "cell_type": "code",
   "source": "precision_calc(cm)",
   "outputs": [
    {
     "data": {
      "text/plain": [
       "np.float64(0.864321608040201)"
      ]
     },
     "execution_count": 27,
     "metadata": {},
     "output_type": "execute_result"
    }
   ],
   "execution_count": 27
  },
  {
   "cell_type": "code",
   "source": [
    "from sklearn.metrics import precision_score\n",
    "\n",
    "print(precision_score(y_test, y_pred))\n",
    "\n",
    "from sklearn.metrics import recall_score\n",
    "\n",
    "print(recall_score(y_test, y_pred))"
   ],
   "metadata": {
    "colab": {
     "base_uri": "https://localhost:8080/"
    },
    "id": "FuJ3pfS-tBaw",
    "outputId": "dbb5a8db-1ad6-4d12-beae-7fb851a32cf3",
    "ExecuteTime": {
     "end_time": "2024-12-13T08:54:01.629139Z",
     "start_time": "2024-12-13T08:54:01.619417Z"
    }
   },
   "outputs": [
    {
     "name": "stdout",
     "output_type": "stream",
     "text": [
      "0.864321608040201\n",
      "0.9297297297297298\n"
     ]
    }
   ],
   "execution_count": 25
  },
  {
   "cell_type": "code",
   "source": [
    "from sklearn.metrics import classification_report\n",
    "print(classification_report(y_test, y_pred))"
   ],
   "metadata": {
    "colab": {
     "base_uri": "https://localhost:8080/"
    },
    "id": "gWhBiWlitG5E",
    "outputId": "cd36ee1d-5aab-4784-cc93-03d626b03c95",
    "ExecuteTime": {
     "end_time": "2024-12-13T08:54:01.640805Z",
     "start_time": "2024-12-13T08:54:01.630412Z"
    }
   },
   "outputs": [
    {
     "name": "stdout",
     "output_type": "stream",
     "text": [
      "              precision    recall  f1-score   support\n",
      "\n",
      "           0       0.97      0.94      0.96       923\n",
      "           1       0.86      0.93      0.90       370\n",
      "\n",
      "    accuracy                           0.94      1293\n",
      "   macro avg       0.92      0.94      0.93      1293\n",
      "weighted avg       0.94      0.94      0.94      1293\n",
      "\n"
     ]
    }
   ],
   "execution_count": 26
  },
  {
   "cell_type": "code",
   "source": [],
   "metadata": {
    "id": "jyRe3udStS9a",
    "ExecuteTime": {
     "end_time": "2024-12-13T08:54:01.644354Z",
     "start_time": "2024-12-13T08:54:01.642528Z"
    }
   },
   "outputs": [],
   "execution_count": 26
  }
 ]
}
